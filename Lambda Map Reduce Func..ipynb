{
 "cells": [
  {
   "cell_type": "code",
   "execution_count": null,
   "id": "f02e6121-d866-489c-9153-c954ebe8f6ce",
   "metadata": {},
   "outputs": [],
   "source": [
    "#Lambda >> anonymous function\n",
    "#syntax: Lambda argument: expression\n"
   ]
  },
  {
   "cell_type": "code",
   "execution_count": 4,
   "id": "8ea66c67-feb5-43f7-b35d-1f11e27de653",
   "metadata": {},
   "outputs": [],
   "source": [
    "def square(x):\n",
    "    return x**2\n",
    "\n",
    "#old method \n",
    "    "
   ]
  },
  {
   "cell_type": "code",
   "execution_count": 5,
   "id": "212d71c8-93b9-4fd0-aebe-23809b2043e4",
   "metadata": {},
   "outputs": [
    {
     "data": {
      "text/plain": [
       "16"
      ]
     },
     "execution_count": 5,
     "metadata": {},
     "output_type": "execute_result"
    }
   ],
   "source": [
    "square(4)"
   ]
  },
  {
   "cell_type": "code",
   "execution_count": 6,
   "id": "3cfa5787-eb35-4c7a-a4c7-43a591234c1a",
   "metadata": {},
   "outputs": [
    {
     "data": {
      "text/plain": [
       "<function __main__.<lambda>(x)>"
      ]
     },
     "execution_count": 6,
     "metadata": {},
     "output_type": "execute_result"
    }
   ],
   "source": [
    "lambda x: x**2"
   ]
  },
  {
   "cell_type": "code",
   "execution_count": 8,
   "id": "17e5d6cd-91b5-40b0-a119-c0838eb74d24",
   "metadata": {},
   "outputs": [],
   "source": [
    "sq_lambda = lambda x: x**2"
   ]
  },
  {
   "cell_type": "code",
   "execution_count": 9,
   "id": "699f142e-e60e-44b4-946d-cea1830d10c7",
   "metadata": {},
   "outputs": [
    {
     "data": {
      "text/plain": [
       "25"
      ]
     },
     "execution_count": 9,
     "metadata": {},
     "output_type": "execute_result"
    }
   ],
   "source": [
    "sq_lambda(5)"
   ]
  },
  {
   "cell_type": "code",
   "execution_count": 10,
   "id": "f4268b33-ce84-4565-bbb3-80604ddae030",
   "metadata": {},
   "outputs": [
    {
     "data": {
      "text/plain": [
       "7"
      ]
     },
     "execution_count": 10,
     "metadata": {},
     "output_type": "execute_result"
    }
   ],
   "source": [
    "add = lambda a,b :a+b \n",
    "add(3,4)"
   ]
  },
  {
   "cell_type": "code",
   "execution_count": 12,
   "id": "2e9e9524-82a0-4535-b977-21ff75d1dc4d",
   "metadata": {},
   "outputs": [
    {
     "data": {
      "text/plain": [
       "False"
      ]
     },
     "execution_count": 12,
     "metadata": {},
     "output_type": "execute_result"
    }
   ],
   "source": [
    "is_even = lambda x: x%2 == 0 \n",
    "is_even(21)"
   ]
  },
  {
   "cell_type": "code",
   "execution_count": 14,
   "id": "34eb6860-8adf-4bfa-933d-76bdf470928a",
   "metadata": {},
   "outputs": [
    {
     "name": "stdout",
     "output_type": "stream",
     "text": [
      "['ajay', 'python', 'datascience']\n"
     ]
    }
   ],
   "source": [
    "x = [\"python\", \"datascience\", \"ajay\"]\n",
    "sorted_words = sorted(x, key = lambda x: len(x))\n",
    "print(sorted_words)"
   ]
  },
  {
   "cell_type": "code",
   "execution_count": 16,
   "id": "404b3cc4-5e0e-4275-b931-136c89e322d3",
   "metadata": {},
   "outputs": [
    {
     "data": {
      "text/plain": [
       "[0, 1, 1, 2, 3, 5, 8, 13, 21, 34]"
      ]
     },
     "execution_count": 16,
     "metadata": {},
     "output_type": "execute_result"
    }
   ],
   "source": [
    "fib = lambda n: n if n <=1 else fib(n-1) + fib(n-2)\n",
    "[fib(i) for i in range(10)]"
   ]
  },
  {
   "cell_type": "code",
   "execution_count": null,
   "id": "52978640-6508-41d1-9b05-d298fe3638d5",
   "metadata": {},
   "outputs": [],
   "source": [
    "# factorial"
   ]
  },
  {
   "cell_type": "code",
   "execution_count": 17,
   "id": "2101e910-cf47-4ae3-86c9-197b0f421de3",
   "metadata": {},
   "outputs": [],
   "source": [
    "def fact_num(n):\n",
    "    if n == 0:\n",
    "        return 1\n",
    "    else:\n",
    "        return n*fact_num(n-1)"
   ]
  },
  {
   "cell_type": "code",
   "execution_count": 18,
   "id": "49d510f3-dc00-4494-b8a6-705afbdd23a1",
   "metadata": {},
   "outputs": [
    {
     "data": {
      "text/plain": [
       "120"
      ]
     },
     "execution_count": 18,
     "metadata": {},
     "output_type": "execute_result"
    }
   ],
   "source": [
    "fact_num(5)"
   ]
  },
  {
   "cell_type": "code",
   "execution_count": null,
   "id": "cb97ba7b-45bf-4339-8ce6-8796722f4184",
   "metadata": {},
   "outputs": [],
   "source": [
    "###### Lambda function by Vishwa Sir"
   ]
  },
  {
   "cell_type": "code",
   "execution_count": 19,
   "id": "55a6ad05-7b91-4d84-a503-95ca41ef3d0e",
   "metadata": {},
   "outputs": [],
   "source": [
    "func = lambda x : x+10"
   ]
  },
  {
   "cell_type": "code",
   "execution_count": 21,
   "id": "ef643919-c593-4124-a043-11ee77e5d8c3",
   "metadata": {},
   "outputs": [
    {
     "data": {
      "text/plain": [
       "16"
      ]
     },
     "execution_count": 21,
     "metadata": {},
     "output_type": "execute_result"
    }
   ],
   "source": [
    "func(6)"
   ]
  },
  {
   "cell_type": "code",
   "execution_count": 22,
   "id": "3335a09a-873f-4863-90b3-eeee519f910e",
   "metadata": {},
   "outputs": [],
   "source": [
    "add = lambda a, b : a+b"
   ]
  },
  {
   "cell_type": "code",
   "execution_count": 24,
   "id": "e43e5c3b-5c3f-4af2-8347-72f3a1f0552e",
   "metadata": {},
   "outputs": [
    {
     "data": {
      "text/plain": [
       "11"
      ]
     },
     "execution_count": 24,
     "metadata": {},
     "output_type": "execute_result"
    }
   ],
   "source": [
    "add(5,6)"
   ]
  },
  {
   "cell_type": "code",
   "execution_count": null,
   "id": "9c393f37-df63-44c4-9a00-7e276ca8c022",
   "metadata": {},
   "outputs": [],
   "source": []
  },
  {
   "cell_type": "code",
   "execution_count": null,
   "id": "3e81b5ef-30c9-451c-a61e-02514c698518",
   "metadata": {},
   "outputs": [],
   "source": []
  },
  {
   "cell_type": "code",
   "execution_count": null,
   "id": "75b21b27-b707-4fd5-a1c4-b42a1dc74f22",
   "metadata": {},
   "outputs": [],
   "source": []
  },
  {
   "cell_type": "code",
   "execution_count": null,
   "id": "c63e7ffb-a4e2-4f41-9808-9ffd46dcc7b3",
   "metadata": {},
   "outputs": [],
   "source": []
  },
  {
   "cell_type": "code",
   "execution_count": null,
   "id": "cc51fce5-e1ea-4301-93ca-6832ce60954a",
   "metadata": {},
   "outputs": [],
   "source": []
  },
  {
   "cell_type": "code",
   "execution_count": null,
   "id": "6fe0a8c2-2fdd-468d-94e2-d4d76bd8d040",
   "metadata": {},
   "outputs": [],
   "source": []
  },
  {
   "cell_type": "code",
   "execution_count": null,
   "id": "2d4b67ef-f17d-4bc9-80df-5d00d25ef4a3",
   "metadata": {},
   "outputs": [],
   "source": []
  },
  {
   "cell_type": "code",
   "execution_count": null,
   "id": "1983ad23-ff80-4272-a74f-72d81913c253",
   "metadata": {},
   "outputs": [],
   "source": []
  },
  {
   "cell_type": "code",
   "execution_count": null,
   "id": "d926ec96-8398-4185-8adc-624d9d388ab0",
   "metadata": {},
   "outputs": [],
   "source": []
  },
  {
   "cell_type": "code",
   "execution_count": null,
   "id": "6c19b7f0-d3d7-4b58-92f1-a7c069356d6d",
   "metadata": {},
   "outputs": [],
   "source": []
  },
  {
   "cell_type": "code",
   "execution_count": null,
   "id": "313342ea-4e83-4313-9677-616cb6acb31f",
   "metadata": {},
   "outputs": [],
   "source": []
  },
  {
   "cell_type": "code",
   "execution_count": null,
   "id": "ac7d0bbc-fbee-41fc-9b2a-18d1c42eca7c",
   "metadata": {},
   "outputs": [],
   "source": []
  },
  {
   "cell_type": "code",
   "execution_count": null,
   "id": "49e16179-2ce6-414f-bac2-eee06fed439d",
   "metadata": {},
   "outputs": [],
   "source": []
  },
  {
   "cell_type": "code",
   "execution_count": null,
   "id": "e3cb2433-968a-41d3-a10b-d7b3481ab751",
   "metadata": {},
   "outputs": [],
   "source": []
  },
  {
   "cell_type": "code",
   "execution_count": null,
   "id": "86df4231-4d1c-49b1-afcf-c6f0cead60a2",
   "metadata": {},
   "outputs": [],
   "source": []
  },
  {
   "cell_type": "code",
   "execution_count": null,
   "id": "49c0b567-89e4-490e-88b1-a91629df266e",
   "metadata": {},
   "outputs": [],
   "source": []
  },
  {
   "cell_type": "code",
   "execution_count": null,
   "id": "5f4c942f-b3a4-4f02-9caa-29e4187ebfae",
   "metadata": {},
   "outputs": [],
   "source": []
  }
 ],
 "metadata": {
  "kernelspec": {
   "display_name": "Python 3 (ipykernel)",
   "language": "python",
   "name": "python3"
  },
  "language_info": {
   "codemirror_mode": {
    "name": "ipython",
    "version": 3
   },
   "file_extension": ".py",
   "mimetype": "text/x-python",
   "name": "python",
   "nbconvert_exporter": "python",
   "pygments_lexer": "ipython3",
   "version": "3.11.7"
  }
 },
 "nbformat": 4,
 "nbformat_minor": 5
}
