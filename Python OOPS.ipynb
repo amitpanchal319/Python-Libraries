{
 "cells": [
  {
   "cell_type": "code",
   "execution_count": 1,
   "id": "64c8431d-9112-4e93-9ae5-c13d73d5de73",
   "metadata": {},
   "outputs": [
    {
     "name": "stdout",
     "output_type": "stream",
     "text": [
      "<class '__main__.Person'>\n"
     ]
    }
   ],
   "source": [
    "class Person :\n",
    "    pass \n",
    "obj = Person()\n",
    "\n",
    "print(type(obj))"
   ]
  },
  {
   "cell_type": "code",
   "execution_count": 2,
   "id": "da0d62ef-cfa2-44f8-8520-767a5ab18971",
   "metadata": {},
   "outputs": [
    {
     "name": "stdout",
     "output_type": "stream",
     "text": [
      "<__main__.Person object at 0x000002C20BC60DD0>\n"
     ]
    }
   ],
   "source": [
    "print(obj)"
   ]
  },
  {
   "cell_type": "code",
   "execution_count": 4,
   "id": "1b0d70bd-742c-42f1-accc-eefca84783f6",
   "metadata": {},
   "outputs": [
    {
     "name": "stdout",
     "output_type": "stream",
     "text": [
      "amit\n",
      "23\n"
     ]
    }
   ],
   "source": [
    "class Person :\n",
    "    name = \"amit\"\n",
    "    age = 23\n",
    "\n",
    "per = Person()\n",
    "print(per.name)\n",
    "print(per.age)\n",
    "    "
   ]
  },
  {
   "cell_type": "code",
   "execution_count": 5,
   "id": "74c4c1b8-ed85-4b33-a661-78b47b0acbd6",
   "metadata": {},
   "outputs": [
    {
     "name": "stdout",
     "output_type": "stream",
     "text": [
      "babu\n"
     ]
    }
   ],
   "source": [
    "per.hobby = \"cricket\"\n",
    "per.lovename =\"babu\"\n",
    "\n",
    "print(per.lovename)"
   ]
  },
  {
   "cell_type": "code",
   "execution_count": 6,
   "id": "e5d5f10a-93c9-44a9-8b12-17803f219d01",
   "metadata": {},
   "outputs": [
    {
     "name": "stdout",
     "output_type": "stream",
     "text": [
      "amit\n",
      "amit\n",
      "amit\n"
     ]
    }
   ],
   "source": [
    "class Person:\n",
    "    name = \"amit\"\n",
    "    age = 99\n",
    "\n",
    "per1 = Person()\n",
    "per2 = Person()\n",
    "per3 = Person()\n",
    "\n",
    "print(per1.name)\n",
    "print(per2.name)\n",
    "print(per3.name)"
   ]
  },
  {
   "cell_type": "code",
   "execution_count": 11,
   "id": "3a46363f-7774-4903-9c34-cdcba9e0a9c8",
   "metadata": {},
   "outputs": [
    {
     "name": "stdout",
     "output_type": "stream",
     "text": [
      "Amit\n",
      "Shivani\n"
     ]
    }
   ],
   "source": [
    "class Person:\n",
    "    # Initializer / Constructor for objects\n",
    "    def __init__(self, name, age):\n",
    "        self.name = name\n",
    "        self.age = age\n",
    "\n",
    "per1 = Person(\"Amit\", 23)\n",
    "per2 = Person(\"Shivani\", 43)\n",
    "per3 = Person(\"Payal\", 32)\n",
    "\n",
    "print(per1.name)\n",
    "print(per2.name)\n"
   ]
  },
  {
   "cell_type": "code",
   "execution_count": 13,
   "id": "728c16b3-7755-4ef9-95b0-4a1794fa920c",
   "metadata": {},
   "outputs": [
    {
     "name": "stdout",
     "output_type": "stream",
     "text": [
      "Amit Panchal\n"
     ]
    }
   ],
   "source": [
    "class Person:\n",
    "    def __init__(self, name, age):\n",
    "        self.name = name\n",
    "        self.age = age\n",
    "\n",
    "    def __init__(self,name):\n",
    "        self.name = name\n",
    "\n",
    "per = Person(\"Amit Panchal\")\n",
    "print(per.name)\n",
    "\n",
    "#last __init__method will be ignored. Python consider only one \"init\" method"
   ]
  },
  {
   "cell_type": "code",
   "execution_count": 16,
   "id": "bc080b2b-9f2a-413d-9b76-54350857ad09",
   "metadata": {},
   "outputs": [
    {
     "name": "stdout",
     "output_type": "stream",
     "text": [
      "cricket\n",
      "Football\n"
     ]
    }
   ],
   "source": [
    "class Person:\n",
    "    def __init__(self, name, age = 99, hobby = \"cricket\"):\n",
    "        self.name = name\n",
    "        self.age = age \n",
    "        self.hobby = hobby\n",
    "\n",
    "per1 = Person(\"amit\")\n",
    "per2 = Person(\"Muskan\", 46)\n",
    "per3 = Person(\"vipul\", 43, \"Football\")\n",
    "\n",
    "print(per1.hobby)\n",
    "print(per3.hobby)"
   ]
  },
  {
   "cell_type": "code",
   "execution_count": 20,
   "id": "c7cc1e58-7488-42d6-8a1d-0e244f6aae24",
   "metadata": {},
   "outputs": [
    {
     "name": "stdout",
     "output_type": "stream",
     "text": [
      "Amit India\n",
      "Muskan India\n",
      "India\n"
     ]
    }
   ],
   "source": [
    "class Person :\n",
    "    country = \"India\"\n",
    "    def __init__(self, name, age):\n",
    "        self.name = name\n",
    "        self.age = age\n",
    "\n",
    "per1 = Person(\"Amit\", 76)\n",
    "per2 = Person(\"Muskan\", 45)\n",
    "\n",
    "print(per1.name, per1.country)\n",
    "print(per2.name, per2.country)\n",
    "\n",
    "print(Person.country)"
   ]
  },
  {
   "cell_type": "code",
   "execution_count": 19,
   "id": "0f776edc-f898-4746-a7f2-0751ecc2e691",
   "metadata": {},
   "outputs": [
    {
     "name": "stdout",
     "output_type": "stream",
     "text": [
      "India\n"
     ]
    }
   ],
   "source": [
    "print(Person.country)"
   ]
  },
  {
   "cell_type": "code",
   "execution_count": null,
   "id": "8534a59d-e080-41fa-8894-1c13ce19370c",
   "metadata": {},
   "outputs": [],
   "source": [
    "#Methods ->: Class Methods , Instance methods, Static methods "
   ]
  },
  {
   "cell_type": "code",
   "execution_count": 25,
   "id": "09e47cf3-73cd-4797-b466-4ee5685bf329",
   "metadata": {},
   "outputs": [
    {
     "name": "stdout",
     "output_type": "stream",
     "text": [
      "23\n"
     ]
    }
   ],
   "source": [
    "#Instance method\n",
    "\n",
    "class Person :\n",
    "    def __init__(self,name, age):\n",
    "        self.name = name\n",
    "        self.age = age\n",
    "\n",
    "    def findage(self):\n",
    "        return self.age\n",
    "\n",
    "per = Person(\"amit\", 23)\n",
    "print(per.findage())\n",
    "        "
   ]
  },
  {
   "cell_type": "code",
   "execution_count": 28,
   "id": "8665d324-5c6c-4e26-87c7-fa7edfba6863",
   "metadata": {},
   "outputs": [
    {
     "name": "stdout",
     "output_type": "stream",
     "text": [
      "23\n",
      "Hello from the class\n"
     ]
    }
   ],
   "source": [
    "#Class Method\n",
    "\n",
    "class Person :\n",
    "    @classmethod\n",
    "    def greet(cls):\n",
    "        print(\"Hello from the class\")\n",
    "    def __init__(self,name, age):\n",
    "        self.name = name\n",
    "        self.age = age\n",
    "\n",
    "    def findage(self):\n",
    "        return self.age\n",
    "\n",
    "per = Person(\"amit\", 23)\n",
    "print(per.findage())\n",
    "\n",
    "Person.greet()"
   ]
  },
  {
   "cell_type": "code",
   "execution_count": 31,
   "id": "74477d9a-9212-48c5-9819-6a15f4ea569c",
   "metadata": {},
   "outputs": [
    {
     "name": "stdout",
     "output_type": "stream",
     "text": [
      "23\n",
      "Hello from the class India\n",
      "Hello from the class India\n"
     ]
    }
   ],
   "source": [
    "#static Method\n",
    "\n",
    "class Person :\n",
    "\n",
    "    country = \"India\"\n",
    "\n",
    "    \n",
    "    @classmethod\n",
    "    def greet(cls):\n",
    "        print(\"Hello from the class\", cls.country)\n",
    "        @staticmethod\n",
    "        def hello():\n",
    "            print(\"hello\")\n",
    "    def __init__(self,name, age):\n",
    "        self.name = name\n",
    "        self.age = age\n",
    "\n",
    "    def findage(self):\n",
    "        return self.age\n",
    "\n",
    "per = Person(\"amit\", 23)\n",
    "print(per.findage())\n",
    "\n",
    "Person.greet()\n",
    "per.greet()\n",
    "\n"
   ]
  },
  {
   "cell_type": "code",
   "execution_count": 36,
   "id": "be33ded0-daff-4583-afab-c6924a290028",
   "metadata": {},
   "outputs": [
    {
     "name": "stdout",
     "output_type": "stream",
     "text": [
      "18\n"
     ]
    }
   ],
   "source": [
    " class Calculator :\n",
    "     def add (self, a, b):\n",
    "         return a+b\n",
    "\n",
    "     def add (self,a,b,c):\n",
    "        return a+b+c\n",
    "\n",
    "cal = Calculator()\n",
    "\n",
    "print(cal.add(5,6,7))\n"
   ]
  },
  {
   "cell_type": "code",
   "execution_count": 38,
   "id": "42ed3481-0688-4e17-96e0-dc316ebe88bc",
   "metadata": {},
   "outputs": [
    {
     "name": "stdout",
     "output_type": "stream",
     "text": [
      "18\n"
     ]
    },
    {
     "ename": "TypeError",
     "evalue": "Calculator.add() missing 1 required positional argument: 'c'",
     "output_type": "error",
     "traceback": [
      "\u001b[1;31m---------------------------------------------------------------------------\u001b[0m",
      "\u001b[1;31mTypeError\u001b[0m                                 Traceback (most recent call last)",
      "Cell \u001b[1;32mIn[38], line 11\u001b[0m\n\u001b[0;32m      8\u001b[0m cal \u001b[38;5;241m=\u001b[39m Calculator()\n\u001b[0;32m     10\u001b[0m \u001b[38;5;28mprint\u001b[39m(cal\u001b[38;5;241m.\u001b[39madd(\u001b[38;5;241m5\u001b[39m,\u001b[38;5;241m6\u001b[39m,\u001b[38;5;241m7\u001b[39m))\n\u001b[1;32m---> 11\u001b[0m \u001b[38;5;28mprint\u001b[39m(cal\u001b[38;5;241m.\u001b[39madd(\u001b[38;5;241m5\u001b[39m,\u001b[38;5;241m6\u001b[39m))\n",
      "\u001b[1;31mTypeError\u001b[0m: Calculator.add() missing 1 required positional argument: 'c'"
     ]
    }
   ],
   "source": [
    " class Calculator :\n",
    "     def add (self, a, b):\n",
    "         return a+b\n",
    "\n",
    "     def add (self,a,b,c):\n",
    "        return a+b+c\n",
    "\n",
    "cal = Calculator()\n",
    "\n",
    "print(cal.add(5,6,7))\n",
    "print(cal.add(5,6))"
   ]
  },
  {
   "cell_type": "code",
   "execution_count": null,
   "id": "ccc62123-577a-41ec-b7d1-68ded744a4d4",
   "metadata": {},
   "outputs": [],
   "source": [
    "# Implicit Method overloading"
   ]
  },
  {
   "cell_type": "code",
   "execution_count": 39,
   "id": "585dd73c-831e-49c1-bca5-d78c9dbbad3c",
   "metadata": {},
   "outputs": [
    {
     "name": "stdout",
     "output_type": "stream",
     "text": [
      "18\n",
      "11\n"
     ]
    }
   ],
   "source": [
    "class Calculator :\n",
    "     def add (self, a, b,c=0):\n",
    "         return a+b+c\n",
    "\n",
    "   \n",
    "cal = Calculator()\n",
    "\n",
    "print(cal.add(5,6,7))\n",
    "print(cal.add(5,6))"
   ]
  },
  {
   "cell_type": "code",
   "execution_count": 52,
   "id": "5cef868c-e1c7-4ae6-a97d-fedfd471a30f",
   "metadata": {},
   "outputs": [
    {
     "name": "stdout",
     "output_type": "stream",
     "text": [
      "amit\n",
      "<bound method Person.getSalary of <__main__.Person object at 0x000002C20C9D3990>>\n"
     ]
    },
    {
     "ename": "AttributeError",
     "evalue": "'Person' object has no attribute '__calculateSalary'",
     "output_type": "error",
     "traceback": [
      "\u001b[1;31m---------------------------------------------------------------------------\u001b[0m",
      "\u001b[1;31mAttributeError\u001b[0m                            Traceback (most recent call last)",
      "Cell \u001b[1;32mIn[52], line 22\u001b[0m\n\u001b[0;32m     20\u001b[0m \u001b[38;5;28mprint\u001b[39m(per\u001b[38;5;241m.\u001b[39mname)\n\u001b[0;32m     21\u001b[0m \u001b[38;5;28mprint\u001b[39m(per\u001b[38;5;241m.\u001b[39mgetSalary)\n\u001b[1;32m---> 22\u001b[0m per\u001b[38;5;241m.\u001b[39m__calculateSalary()\n",
      "\u001b[1;31mAttributeError\u001b[0m: 'Person' object has no attribute '__calculateSalary'"
     ]
    }
   ],
   "source": [
    "### Public and Private\n",
    "class Person:\n",
    "    def __init__(self,name,age,Salary):\n",
    "        self.name = name\n",
    "        self.age = age\n",
    "        self.Salary = Salary\n",
    "\n",
    "    def dinfage(self):\n",
    "        return self.age\n",
    "\n",
    "    def getSalary(self):\n",
    "        print(self.__Salary)\n",
    "        self.__calculateTax()\n",
    "    \n",
    "    def calculateTax(self):\n",
    "        print(\"calculating tax\")\n",
    "    \n",
    "\n",
    "per = Person(\"amit\",23,5000)\n",
    "print(per.name)\n",
    "print(per.getSalary)\n",
    "per.__calculateSalary()\n",
    "\n",
    "\n",
    "\n"
   ]
  },
  {
   "cell_type": "code",
   "execution_count": null,
   "id": "046278d1-6588-4716-9f60-a0a50ea7875c",
   "metadata": {},
   "outputs": [],
   "source": []
  },
  {
   "cell_type": "code",
   "execution_count": null,
   "id": "bb748846-46e3-499d-b26e-d1895ca83a88",
   "metadata": {},
   "outputs": [],
   "source": []
  },
  {
   "cell_type": "code",
   "execution_count": null,
   "id": "093813e7-6880-41d3-be72-6dbf78e9374f",
   "metadata": {},
   "outputs": [],
   "source": []
  },
  {
   "cell_type": "code",
   "execution_count": null,
   "id": "c7ac5051-a6fc-4073-ba3b-db235d7ea0fd",
   "metadata": {},
   "outputs": [],
   "source": [
    "###Encapsulation### "
   ]
  },
  {
   "cell_type": "code",
   "execution_count": 67,
   "id": "6729f2ee-f05b-49f5-b5f6-c26ca2431e22",
   "metadata": {},
   "outputs": [],
   "source": [
    "class Person :\n",
    "    def __init__(self,name,car):\n",
    "        self.__name = name\n",
    "        self.__car = car\n",
    "\n",
    "#Getters and Setters - Public method to allow the controlled Interactions\n",
    "\n",
    "    def getName(self):\n",
    "        return self.__name\n",
    "    def setName(self,name):\n",
    "        self.name = name\n",
    "    def getCar(self):\n",
    "        return self.__car\n",
    "    def setCar(self, car):\n",
    "        self.__car = car\n",
    "        \n",
    "    "
   ]
  },
  {
   "cell_type": "code",
   "execution_count": 69,
   "id": "973f71b9-0552-45dc-bd32-a6cd81c61580",
   "metadata": {},
   "outputs": [
    {
     "name": "stdout",
     "output_type": "stream",
     "text": [
      "amit\n",
      "amit\n"
     ]
    }
   ],
   "source": [
    "per = Person(\"amit\", 23)\n",
    "print(per.getName())\n",
    "per.setName(\"Amit Panchal\")\n",
    "print(per.getName())"
   ]
  },
  {
   "cell_type": "code",
   "execution_count": 71,
   "id": "20c3dd10-516a-4427-8685-e4de7441ab16",
   "metadata": {},
   "outputs": [],
   "source": [
    "### Inheritance ### Parent child relationship or Hirarichal Relationship"
   ]
  },
  {
   "cell_type": "code",
   "execution_count": null,
   "id": "cc6cf387-b0b9-45d5-8090-cfd26cf755fc",
   "metadata": {},
   "outputs": [],
   "source": [
    "#Cat is an Animal -> if this is true then we can apply Inheritance(means A relation is btw Cat & Animal like parent & Child) here\n",
    "if false -> then we may not able to apply the Inheritance here."
   ]
  },
  {
   "cell_type": "code",
   "execution_count": 76,
   "id": "38267d15-8759-4008-ae4c-f0e4d81322c6",
   "metadata": {},
   "outputs": [
    {
     "name": "stdout",
     "output_type": "stream",
     "text": [
      "motianimal is eating\n",
      "moti\n"
     ]
    }
   ],
   "source": [
    "class Animal :\n",
    "    def __init__(self, name):\n",
    "        self.name = name \n",
    "\n",
    "    def eat(self):\n",
    "        print(self.name + \"animal is eating\")\n",
    "\n",
    "class Dog(Animal):\n",
    "    def __init__(self, name, type):\n",
    "\n",
    "        # Call the constructer / Initializer of Animal class\n",
    "\n",
    "        Animal.__init__(self,name)\n",
    "        self.type = type\n",
    "\n",
    "    def getTheNameOfDog(self):\n",
    "        print(self.name)\n",
    "dog =  Dog(\"moti\" , \"Dobberman\")\n",
    "dog.eat()\n",
    "dog.getTheNameOfDog()"
   ]
  },
  {
   "cell_type": "code",
   "execution_count": 78,
   "id": "84b7af89-7703-4962-8922-16339c4cf742",
   "metadata": {},
   "outputs": [],
   "source": [
    "#Advantage of Inheritance\n",
    "# Reuse the code \n",
    "# Building the relationship (parent child)\n"
   ]
  },
  {
   "cell_type": "code",
   "execution_count": 82,
   "id": "52212c1c-10d6-4851-8279-d33ba82751c7",
   "metadata": {},
   "outputs": [
    {
     "name": "stdout",
     "output_type": "stream",
     "text": [
      "child property 99\n",
      "parent property 90\n",
      "child eating\n",
      "Parent eating\n"
     ]
    }
   ],
   "source": [
    "class Parent :\n",
    "    property = 90 \n",
    "    \n",
    "    def eat(self):\n",
    "        print(\"Parent eating\")\n",
    "        \n",
    "class Child(Parent):\n",
    "    property = 99\n",
    "\n",
    "\n",
    "    def display(self):\n",
    "        print(\"child property\",self.property)\n",
    "        print(\"parent property\", super().property)\n",
    "\n",
    "    def eat(self):\n",
    "        print(\"child eating\")\n",
    "\n",
    "    def callEat(self):\n",
    "        self.eat()\n",
    "        super().eat()\n",
    "obj = Child()\n",
    "obj.display()\n",
    "\n",
    "\n",
    "obj.callEat()"
   ]
  },
  {
   "cell_type": "code",
   "execution_count": null,
   "id": "f34a6fb7-cef4-494d-8625-518c8533b49a",
   "metadata": {},
   "outputs": [],
   "source": [
    "# using super for calling the parent initializer "
   ]
  },
  {
   "cell_type": "code",
   "execution_count": 84,
   "id": "90034fd8-df37-444c-970b-7ef309a31e6e",
   "metadata": {},
   "outputs": [
    {
     "name": "stdout",
     "output_type": "stream",
     "text": [
      "motianimal is eating\n",
      "moti\n"
     ]
    }
   ],
   "source": [
    "class Animal :\n",
    "    def __init__(self, name):\n",
    "        self.name = name \n",
    "\n",
    "    def eat(self):\n",
    "        print(self.name + \"animal is eating\")\n",
    "\n",
    "class Dog(Animal):\n",
    "    def __init__(self, name, type):\n",
    "\n",
    "        # Call the constructer / Initializer of Animal class\n",
    "        #Animal.__init__init(self,name)\n",
    "\n",
    "        super().__init__(name) # call the parent constructer \n",
    "        self.type = type\n",
    "\n",
    "        Animal.__init__(self,name)\n",
    "        self.type = type\n",
    "\n",
    "    def getTheNameOfDog(self):\n",
    "        print(self.name)\n",
    "dog =  Dog(\"moti\" , \"Dobberman\")\n",
    "dog.eat()\n",
    "dog.getTheNameOfDog()"
   ]
  },
  {
   "cell_type": "code",
   "execution_count": 85,
   "id": "1db33acb-13e3-4135-b3c9-eeafa37d195c",
   "metadata": {},
   "outputs": [],
   "source": [
    "# types of Inheritance \n",
    "# Single level Inheritance -  class A & class B\n",
    "# Multilevel Inheritance - A B & C class \n",
    "# Hirarichal Relationship - Animal class and having parent Dog & Cat\n",
    "# Multiple Inheritance - A B are the child of C Inheriotance \n",
    "# Hybrid Inheritance - Animal Dog Cat Pet"
   ]
  },
  {
   "cell_type": "code",
   "execution_count": null,
   "id": "1f914d2c-dbe5-4e0a-b41b-b33ffe5068c3",
   "metadata": {},
   "outputs": [],
   "source": [
    "# Single Inheritance"
   ]
  },
  {
   "cell_type": "code",
   "execution_count": 89,
   "id": "9153360a-fc52-4ca2-a714-d7ce10c344c8",
   "metadata": {},
   "outputs": [],
   "source": [
    "class Animal :\n",
    "    def __init__(self, name):\n",
    "        self.name = name \n",
    "\n",
    "    def eat(self):\n",
    "        print(\"animal is eating\")\n",
    "\n",
    "class Dog(Animal):\n",
    "    def __init(self,name,type):\n",
    "        super().__init__(name)\n",
    "        self.type = type"
   ]
  },
  {
   "cell_type": "code",
   "execution_count": 90,
   "id": "aef6167e-c9c0-4d19-82aa-102d557c088f",
   "metadata": {},
   "outputs": [],
   "source": [
    "# Multilevel Inheritance"
   ]
  },
  {
   "cell_type": "code",
   "execution_count": 96,
   "id": "798f11eb-6311-4849-9d15-ee3ffb42ab38",
   "metadata": {},
   "outputs": [],
   "source": [
    "class Animal:\n",
    "    def __init__(self, name):\n",
    "        self.name = name \n",
    "\n",
    "    def eat(self):\n",
    "        print(\"Animal is eating\")\n",
    "\n",
    "class Dog(Animal):\n",
    "    def __init__(self, name, type):\n",
    "        super().__init__(name)\n",
    "        self.type = type\n",
    "\n",
    "class Pet(Dog):\n",
    "    def __init__(self, name, type, houseName):\n",
    "        super().__init__(name, type)\n",
    "        self.houseName = houseName\n"
   ]
  },
  {
   "cell_type": "code",
   "execution_count": 98,
   "id": "81c27d81-1b1d-4c8c-8106-72e92f4c258f",
   "metadata": {},
   "outputs": [],
   "source": [
    "### Abstract Class \n",
    "class Animal :\n",
    "    def eat(self):\n",
    "        pass \n",
    "\n",
    "animal = Animal()\n",
    "animal.eat()"
   ]
  },
  {
   "cell_type": "code",
   "execution_count": 99,
   "id": "9f1feae5-3f44-4097-961c-493acdb06042",
   "metadata": {},
   "outputs": [
    {
     "ename": "TypeError",
     "evalue": "Can't instantiate abstract class Animal with abstract method eat",
     "output_type": "error",
     "traceback": [
      "\u001b[1;31m---------------------------------------------------------------------------\u001b[0m",
      "\u001b[1;31mTypeError\u001b[0m                                 Traceback (most recent call last)",
      "Cell \u001b[1;32mIn[99], line 7\u001b[0m\n\u001b[0;32m      3\u001b[0m     \u001b[38;5;129m@abstractmethod\u001b[39m\n\u001b[0;32m      4\u001b[0m     \u001b[38;5;28;01mdef\u001b[39;00m \u001b[38;5;21meat\u001b[39m(\u001b[38;5;28mself\u001b[39m):\n\u001b[0;32m      5\u001b[0m         \u001b[38;5;28;01mpass\u001b[39;00m\n\u001b[1;32m----> 7\u001b[0m a \u001b[38;5;241m=\u001b[39m Animal()\n",
      "\u001b[1;31mTypeError\u001b[0m: Can't instantiate abstract class Animal with abstract method eat"
     ]
    }
   ],
   "source": [
    "from abc import ABC , abstractmethod\n",
    "class Animal (ABC):\n",
    "    @abstractmethod\n",
    "    def eat(self):\n",
    "        pass\n",
    "\n",
    "a = Animal()\n"
   ]
  },
  {
   "cell_type": "code",
   "execution_count": 100,
   "id": "47cc202d-46fe-4821-9c9d-1b3bcb0b99d3",
   "metadata": {},
   "outputs": [
    {
     "ename": "TypeError",
     "evalue": "Can't instantiate abstract class Dog with abstract method eat",
     "output_type": "error",
     "traceback": [
      "\u001b[1;31m---------------------------------------------------------------------------\u001b[0m",
      "\u001b[1;31mTypeError\u001b[0m                                 Traceback (most recent call last)",
      "Cell \u001b[1;32mIn[100], line 5\u001b[0m\n\u001b[0;32m      2\u001b[0m     \u001b[38;5;28;01mdef\u001b[39;00m \u001b[38;5;21msleep\u001b[39m (\u001b[38;5;28mself\u001b[39m):\n\u001b[0;32m      3\u001b[0m         \u001b[38;5;28mprint\u001b[39m(\u001b[38;5;124m\"\u001b[39m\u001b[38;5;124mDog is sleeping\u001b[39m\u001b[38;5;124m\"\u001b[39m)\n\u001b[1;32m----> 5\u001b[0m d \u001b[38;5;241m=\u001b[39m Dog()\n",
      "\u001b[1;31mTypeError\u001b[0m: Can't instantiate abstract class Dog with abstract method eat"
     ]
    }
   ],
   "source": [
    "class Dog(Animal):\n",
    "    def sleep (self):\n",
    "        print(\"Dog is sleeping\")\n",
    "\n",
    "d = Dog()\n",
    "        "
   ]
  },
  {
   "cell_type": "code",
   "execution_count": null,
   "id": "d077f7c0-9c33-409b-b66c-2a393200dda0",
   "metadata": {},
   "outputs": [],
   "source": []
  },
  {
   "cell_type": "code",
   "execution_count": null,
   "id": "30387707-a7e2-4588-b836-2f1415815e52",
   "metadata": {},
   "outputs": [],
   "source": []
  },
  {
   "cell_type": "code",
   "execution_count": null,
   "id": "fed9c5c1-c76d-4208-a19b-278ef9472196",
   "metadata": {},
   "outputs": [],
   "source": []
  },
  {
   "cell_type": "code",
   "execution_count": null,
   "id": "cf23ae8d-c708-46e5-8e43-4665a82e4197",
   "metadata": {},
   "outputs": [],
   "source": []
  },
  {
   "cell_type": "code",
   "execution_count": null,
   "id": "b35eb7c4-5104-47bb-9122-53519f147426",
   "metadata": {},
   "outputs": [],
   "source": []
  },
  {
   "cell_type": "code",
   "execution_count": null,
   "id": "75f2ccdd-6de9-4a46-bcd5-df1a9cae6851",
   "metadata": {},
   "outputs": [],
   "source": []
  },
  {
   "cell_type": "code",
   "execution_count": null,
   "id": "e29d1b75-a1a6-4e32-abe7-25b7bac798e6",
   "metadata": {},
   "outputs": [],
   "source": []
  },
  {
   "cell_type": "code",
   "execution_count": null,
   "id": "d4f3dccf-fd79-4bca-9cc0-d7fbdeb84732",
   "metadata": {},
   "outputs": [],
   "source": []
  },
  {
   "cell_type": "code",
   "execution_count": null,
   "id": "74baea86-5614-400d-a8df-bcaa1d61278e",
   "metadata": {},
   "outputs": [],
   "source": []
  },
  {
   "cell_type": "code",
   "execution_count": null,
   "id": "26ca7687-bc9a-41c6-a734-377629c7bd0b",
   "metadata": {},
   "outputs": [],
   "source": []
  },
  {
   "cell_type": "code",
   "execution_count": null,
   "id": "e0d4a0bb-b995-407e-b992-9bd4f0520571",
   "metadata": {},
   "outputs": [],
   "source": []
  },
  {
   "cell_type": "code",
   "execution_count": null,
   "id": "7cef1ab5-b095-466c-a880-00f0e56e3adf",
   "metadata": {},
   "outputs": [],
   "source": []
  },
  {
   "cell_type": "code",
   "execution_count": null,
   "id": "f77530da-5c88-4cff-9f3e-5914754102f8",
   "metadata": {},
   "outputs": [],
   "source": []
  },
  {
   "cell_type": "code",
   "execution_count": null,
   "id": "94ebb207-2867-4d55-b086-a78d7f0824e8",
   "metadata": {},
   "outputs": [],
   "source": []
  },
  {
   "cell_type": "code",
   "execution_count": null,
   "id": "fa0b7629-1244-45c4-a36f-493b519f19eb",
   "metadata": {},
   "outputs": [],
   "source": []
  },
  {
   "cell_type": "code",
   "execution_count": null,
   "id": "8bcc3d2e-f4a2-4c7b-a5e2-9c47c01f8e97",
   "metadata": {},
   "outputs": [],
   "source": []
  }
 ],
 "metadata": {
  "kernelspec": {
   "display_name": "Python 3 (ipykernel)",
   "language": "python",
   "name": "python3"
  },
  "language_info": {
   "codemirror_mode": {
    "name": "ipython",
    "version": 3
   },
   "file_extension": ".py",
   "mimetype": "text/x-python",
   "name": "python",
   "nbconvert_exporter": "python",
   "pygments_lexer": "ipython3",
   "version": "3.11.7"
  }
 },
 "nbformat": 4,
 "nbformat_minor": 5
}
