{
 "cells": [
  {
   "cell_type": "code",
   "execution_count": 11,
   "id": "074444c7",
   "metadata": {},
   "outputs": [],
   "source": [
    "import pandas as pd\n",
    "import numpy as np\n",
    "import seaborn as sns\n",
    "import matplotlib.pyplot as plt\n",
    "\n",
    "import warnings \n",
    "warnings.filterwarnings('ignore')"
   ]
  },
  {
   "cell_type": "code",
   "execution_count": 12,
   "id": "025fd248-1c33-439f-99d4-57a957db7cf7",
   "metadata": {},
   "outputs": [],
   "source": [
    "df = pd.read_csv(r\"C:\\Users\\SqyUser\\Desktop\\Python\\8 New Project data cleaning n Analysis\\EDA\\HRDataset_v14.csv\")"
   ]
  },
  {
   "cell_type": "code",
   "execution_count": 13,
   "id": "810341e4-f4d7-497c-b862-f028874f6197",
   "metadata": {},
   "outputs": [
    {
     "data": {
      "text/plain": [
       "(311, 36)"
      ]
     },
     "execution_count": 13,
     "metadata": {},
     "output_type": "execute_result"
    }
   ],
   "source": [
    "df.shape"
   ]
  },
  {
   "cell_type": "code",
   "execution_count": 14,
   "id": "8545766f-2b85-4013-bdff-657d87807007",
   "metadata": {},
   "outputs": [
    {
     "data": {
      "text/plain": [
       "Index(['Employee_Name', 'EmpID', 'MarriedID', 'MaritalStatusID', 'GenderID',\n",
       "       'EmpStatusID', 'DeptID', 'PerfScoreID', 'FromDiversityJobFairID',\n",
       "       'Salary', 'Termd', 'PositionID', 'Position', 'State', 'Zip', 'DOB',\n",
       "       'Sex', 'MaritalDesc', 'CitizenDesc', 'HispanicLatino', 'RaceDesc',\n",
       "       'DateofHire', 'DateofTermination', 'TermReason', 'EmploymentStatus',\n",
       "       'Department', 'ManagerName', 'ManagerID', 'RecruitmentSource',\n",
       "       'PerformanceScore', 'EngagementSurvey', 'EmpSatisfaction',\n",
       "       'SpecialProjectsCount', 'LastPerformanceReview_Date', 'DaysLateLast30',\n",
       "       'Absences'],\n",
       "      dtype='object')"
      ]
     },
     "execution_count": 14,
     "metadata": {},
     "output_type": "execute_result"
    }
   ],
   "source": [
    "df.columns"
   ]
  },
  {
   "cell_type": "code",
   "execution_count": 15,
   "id": "679743ae-3896-42a9-ade5-5f9cd77f4af1",
   "metadata": {},
   "outputs": [
    {
     "data": {
      "text/html": [
       "<div>\n",
       "<style scoped>\n",
       "    .dataframe tbody tr th:only-of-type {\n",
       "        vertical-align: middle;\n",
       "    }\n",
       "\n",
       "    .dataframe tbody tr th {\n",
       "        vertical-align: top;\n",
       "    }\n",
       "\n",
       "    .dataframe thead th {\n",
       "        text-align: right;\n",
       "    }\n",
       "</style>\n",
       "<table border=\"1\" class=\"dataframe\">\n",
       "  <thead>\n",
       "    <tr style=\"text-align: right;\">\n",
       "      <th></th>\n",
       "      <th>EmpID</th>\n",
       "      <th>MarriedID</th>\n",
       "      <th>MaritalStatusID</th>\n",
       "      <th>GenderID</th>\n",
       "      <th>EmpStatusID</th>\n",
       "      <th>DeptID</th>\n",
       "      <th>PerfScoreID</th>\n",
       "      <th>FromDiversityJobFairID</th>\n",
       "      <th>Salary</th>\n",
       "      <th>Termd</th>\n",
       "      <th>PositionID</th>\n",
       "      <th>Zip</th>\n",
       "      <th>ManagerID</th>\n",
       "      <th>EngagementSurvey</th>\n",
       "      <th>EmpSatisfaction</th>\n",
       "      <th>SpecialProjectsCount</th>\n",
       "      <th>DaysLateLast30</th>\n",
       "      <th>Absences</th>\n",
       "    </tr>\n",
       "  </thead>\n",
       "  <tbody>\n",
       "    <tr>\n",
       "      <th>count</th>\n",
       "      <td>311.000000</td>\n",
       "      <td>311.000000</td>\n",
       "      <td>311.000000</td>\n",
       "      <td>311.000000</td>\n",
       "      <td>311.000000</td>\n",
       "      <td>311.000000</td>\n",
       "      <td>311.000000</td>\n",
       "      <td>311.000000</td>\n",
       "      <td>311.000000</td>\n",
       "      <td>311.000000</td>\n",
       "      <td>311.000000</td>\n",
       "      <td>311.000000</td>\n",
       "      <td>303.000000</td>\n",
       "      <td>311.000000</td>\n",
       "      <td>311.000000</td>\n",
       "      <td>311.000000</td>\n",
       "      <td>311.000000</td>\n",
       "      <td>311.000000</td>\n",
       "    </tr>\n",
       "    <tr>\n",
       "      <th>mean</th>\n",
       "      <td>10156.000000</td>\n",
       "      <td>0.398714</td>\n",
       "      <td>0.810289</td>\n",
       "      <td>0.434084</td>\n",
       "      <td>2.392283</td>\n",
       "      <td>4.610932</td>\n",
       "      <td>2.977492</td>\n",
       "      <td>0.093248</td>\n",
       "      <td>69020.684887</td>\n",
       "      <td>0.334405</td>\n",
       "      <td>16.845659</td>\n",
       "      <td>6555.482315</td>\n",
       "      <td>14.570957</td>\n",
       "      <td>4.110000</td>\n",
       "      <td>3.890675</td>\n",
       "      <td>1.218650</td>\n",
       "      <td>0.414791</td>\n",
       "      <td>10.237942</td>\n",
       "    </tr>\n",
       "    <tr>\n",
       "      <th>std</th>\n",
       "      <td>89.922189</td>\n",
       "      <td>0.490423</td>\n",
       "      <td>0.943239</td>\n",
       "      <td>0.496435</td>\n",
       "      <td>1.794383</td>\n",
       "      <td>1.083487</td>\n",
       "      <td>0.587072</td>\n",
       "      <td>0.291248</td>\n",
       "      <td>25156.636930</td>\n",
       "      <td>0.472542</td>\n",
       "      <td>6.223419</td>\n",
       "      <td>16908.396884</td>\n",
       "      <td>8.078306</td>\n",
       "      <td>0.789938</td>\n",
       "      <td>0.909241</td>\n",
       "      <td>2.349421</td>\n",
       "      <td>1.294519</td>\n",
       "      <td>5.852596</td>\n",
       "    </tr>\n",
       "    <tr>\n",
       "      <th>min</th>\n",
       "      <td>10001.000000</td>\n",
       "      <td>0.000000</td>\n",
       "      <td>0.000000</td>\n",
       "      <td>0.000000</td>\n",
       "      <td>1.000000</td>\n",
       "      <td>1.000000</td>\n",
       "      <td>1.000000</td>\n",
       "      <td>0.000000</td>\n",
       "      <td>45046.000000</td>\n",
       "      <td>0.000000</td>\n",
       "      <td>1.000000</td>\n",
       "      <td>1013.000000</td>\n",
       "      <td>1.000000</td>\n",
       "      <td>1.120000</td>\n",
       "      <td>1.000000</td>\n",
       "      <td>0.000000</td>\n",
       "      <td>0.000000</td>\n",
       "      <td>1.000000</td>\n",
       "    </tr>\n",
       "    <tr>\n",
       "      <th>25%</th>\n",
       "      <td>10078.500000</td>\n",
       "      <td>0.000000</td>\n",
       "      <td>0.000000</td>\n",
       "      <td>0.000000</td>\n",
       "      <td>1.000000</td>\n",
       "      <td>5.000000</td>\n",
       "      <td>3.000000</td>\n",
       "      <td>0.000000</td>\n",
       "      <td>55501.500000</td>\n",
       "      <td>0.000000</td>\n",
       "      <td>18.000000</td>\n",
       "      <td>1901.500000</td>\n",
       "      <td>10.000000</td>\n",
       "      <td>3.690000</td>\n",
       "      <td>3.000000</td>\n",
       "      <td>0.000000</td>\n",
       "      <td>0.000000</td>\n",
       "      <td>5.000000</td>\n",
       "    </tr>\n",
       "    <tr>\n",
       "      <th>50%</th>\n",
       "      <td>10156.000000</td>\n",
       "      <td>0.000000</td>\n",
       "      <td>1.000000</td>\n",
       "      <td>0.000000</td>\n",
       "      <td>1.000000</td>\n",
       "      <td>5.000000</td>\n",
       "      <td>3.000000</td>\n",
       "      <td>0.000000</td>\n",
       "      <td>62810.000000</td>\n",
       "      <td>0.000000</td>\n",
       "      <td>19.000000</td>\n",
       "      <td>2132.000000</td>\n",
       "      <td>15.000000</td>\n",
       "      <td>4.280000</td>\n",
       "      <td>4.000000</td>\n",
       "      <td>0.000000</td>\n",
       "      <td>0.000000</td>\n",
       "      <td>10.000000</td>\n",
       "    </tr>\n",
       "    <tr>\n",
       "      <th>75%</th>\n",
       "      <td>10233.500000</td>\n",
       "      <td>1.000000</td>\n",
       "      <td>1.000000</td>\n",
       "      <td>1.000000</td>\n",
       "      <td>5.000000</td>\n",
       "      <td>5.000000</td>\n",
       "      <td>3.000000</td>\n",
       "      <td>0.000000</td>\n",
       "      <td>72036.000000</td>\n",
       "      <td>1.000000</td>\n",
       "      <td>20.000000</td>\n",
       "      <td>2355.000000</td>\n",
       "      <td>19.000000</td>\n",
       "      <td>4.700000</td>\n",
       "      <td>5.000000</td>\n",
       "      <td>0.000000</td>\n",
       "      <td>0.000000</td>\n",
       "      <td>15.000000</td>\n",
       "    </tr>\n",
       "    <tr>\n",
       "      <th>max</th>\n",
       "      <td>10311.000000</td>\n",
       "      <td>1.000000</td>\n",
       "      <td>4.000000</td>\n",
       "      <td>1.000000</td>\n",
       "      <td>5.000000</td>\n",
       "      <td>6.000000</td>\n",
       "      <td>4.000000</td>\n",
       "      <td>1.000000</td>\n",
       "      <td>250000.000000</td>\n",
       "      <td>1.000000</td>\n",
       "      <td>30.000000</td>\n",
       "      <td>98052.000000</td>\n",
       "      <td>39.000000</td>\n",
       "      <td>5.000000</td>\n",
       "      <td>5.000000</td>\n",
       "      <td>8.000000</td>\n",
       "      <td>6.000000</td>\n",
       "      <td>20.000000</td>\n",
       "    </tr>\n",
       "  </tbody>\n",
       "</table>\n",
       "</div>"
      ],
      "text/plain": [
       "              EmpID   MarriedID  MaritalStatusID    GenderID  EmpStatusID  \\\n",
       "count    311.000000  311.000000       311.000000  311.000000   311.000000   \n",
       "mean   10156.000000    0.398714         0.810289    0.434084     2.392283   \n",
       "std       89.922189    0.490423         0.943239    0.496435     1.794383   \n",
       "min    10001.000000    0.000000         0.000000    0.000000     1.000000   \n",
       "25%    10078.500000    0.000000         0.000000    0.000000     1.000000   \n",
       "50%    10156.000000    0.000000         1.000000    0.000000     1.000000   \n",
       "75%    10233.500000    1.000000         1.000000    1.000000     5.000000   \n",
       "max    10311.000000    1.000000         4.000000    1.000000     5.000000   \n",
       "\n",
       "           DeptID  PerfScoreID  FromDiversityJobFairID         Salary  \\\n",
       "count  311.000000   311.000000              311.000000     311.000000   \n",
       "mean     4.610932     2.977492                0.093248   69020.684887   \n",
       "std      1.083487     0.587072                0.291248   25156.636930   \n",
       "min      1.000000     1.000000                0.000000   45046.000000   \n",
       "25%      5.000000     3.000000                0.000000   55501.500000   \n",
       "50%      5.000000     3.000000                0.000000   62810.000000   \n",
       "75%      5.000000     3.000000                0.000000   72036.000000   \n",
       "max      6.000000     4.000000                1.000000  250000.000000   \n",
       "\n",
       "            Termd  PositionID           Zip   ManagerID  EngagementSurvey  \\\n",
       "count  311.000000  311.000000    311.000000  303.000000        311.000000   \n",
       "mean     0.334405   16.845659   6555.482315   14.570957          4.110000   \n",
       "std      0.472542    6.223419  16908.396884    8.078306          0.789938   \n",
       "min      0.000000    1.000000   1013.000000    1.000000          1.120000   \n",
       "25%      0.000000   18.000000   1901.500000   10.000000          3.690000   \n",
       "50%      0.000000   19.000000   2132.000000   15.000000          4.280000   \n",
       "75%      1.000000   20.000000   2355.000000   19.000000          4.700000   \n",
       "max      1.000000   30.000000  98052.000000   39.000000          5.000000   \n",
       "\n",
       "       EmpSatisfaction  SpecialProjectsCount  DaysLateLast30    Absences  \n",
       "count       311.000000            311.000000      311.000000  311.000000  \n",
       "mean          3.890675              1.218650        0.414791   10.237942  \n",
       "std           0.909241              2.349421        1.294519    5.852596  \n",
       "min           1.000000              0.000000        0.000000    1.000000  \n",
       "25%           3.000000              0.000000        0.000000    5.000000  \n",
       "50%           4.000000              0.000000        0.000000   10.000000  \n",
       "75%           5.000000              0.000000        0.000000   15.000000  \n",
       "max           5.000000              8.000000        6.000000   20.000000  "
      ]
     },
     "execution_count": 15,
     "metadata": {},
     "output_type": "execute_result"
    }
   ],
   "source": [
    "df.describe()"
   ]
  },
  {
   "cell_type": "code",
   "execution_count": 16,
   "id": "df319bb5",
   "metadata": {},
   "outputs": [
    {
     "name": "stdout",
     "output_type": "stream",
     "text": [
      "<class 'pandas.core.frame.DataFrame'>\n",
      "RangeIndex: 311 entries, 0 to 310\n",
      "Data columns (total 36 columns):\n",
      " #   Column                      Non-Null Count  Dtype  \n",
      "---  ------                      --------------  -----  \n",
      " 0   Employee_Name               311 non-null    object \n",
      " 1   EmpID                       311 non-null    int64  \n",
      " 2   MarriedID                   311 non-null    int64  \n",
      " 3   MaritalStatusID             311 non-null    int64  \n",
      " 4   GenderID                    311 non-null    int64  \n",
      " 5   EmpStatusID                 311 non-null    int64  \n",
      " 6   DeptID                      311 non-null    int64  \n",
      " 7   PerfScoreID                 311 non-null    int64  \n",
      " 8   FromDiversityJobFairID      311 non-null    int64  \n",
      " 9   Salary                      311 non-null    int64  \n",
      " 10  Termd                       311 non-null    int64  \n",
      " 11  PositionID                  311 non-null    int64  \n",
      " 12  Position                    311 non-null    object \n",
      " 13  State                       311 non-null    object \n",
      " 14  Zip                         311 non-null    int64  \n",
      " 15  DOB                         311 non-null    object \n",
      " 16  Sex                         311 non-null    object \n",
      " 17  MaritalDesc                 311 non-null    object \n",
      " 18  CitizenDesc                 311 non-null    object \n",
      " 19  HispanicLatino              311 non-null    object \n",
      " 20  RaceDesc                    311 non-null    object \n",
      " 21  DateofHire                  311 non-null    object \n",
      " 22  DateofTermination           104 non-null    object \n",
      " 23  TermReason                  311 non-null    object \n",
      " 24  EmploymentStatus            311 non-null    object \n",
      " 25  Department                  311 non-null    object \n",
      " 26  ManagerName                 311 non-null    object \n",
      " 27  ManagerID                   303 non-null    float64\n",
      " 28  RecruitmentSource           311 non-null    object \n",
      " 29  PerformanceScore            311 non-null    object \n",
      " 30  EngagementSurvey            311 non-null    float64\n",
      " 31  EmpSatisfaction             311 non-null    int64  \n",
      " 32  SpecialProjectsCount        311 non-null    int64  \n",
      " 33  LastPerformanceReview_Date  311 non-null    object \n",
      " 34  DaysLateLast30              311 non-null    int64  \n",
      " 35  Absences                    311 non-null    int64  \n",
      "dtypes: float64(2), int64(16), object(18)\n",
      "memory usage: 87.6+ KB\n"
     ]
    }
   ],
   "source": [
    "df.info()"
   ]
  },
  {
   "cell_type": "code",
   "execution_count": 17,
   "id": "0a70e94b",
   "metadata": {},
   "outputs": [
    {
     "data": {
      "text/plain": [
       "Employee_Name                   0\n",
       "EmpID                           0\n",
       "MarriedID                       0\n",
       "MaritalStatusID                 0\n",
       "GenderID                        0\n",
       "EmpStatusID                     0\n",
       "DeptID                          0\n",
       "PerfScoreID                     0\n",
       "FromDiversityJobFairID          0\n",
       "Salary                          0\n",
       "Termd                           0\n",
       "PositionID                      0\n",
       "Position                        0\n",
       "State                           0\n",
       "Zip                             0\n",
       "DOB                             0\n",
       "Sex                             0\n",
       "MaritalDesc                     0\n",
       "CitizenDesc                     0\n",
       "HispanicLatino                  0\n",
       "RaceDesc                        0\n",
       "DateofHire                      0\n",
       "DateofTermination             207\n",
       "TermReason                      0\n",
       "EmploymentStatus                0\n",
       "Department                      0\n",
       "ManagerName                     0\n",
       "ManagerID                       8\n",
       "RecruitmentSource               0\n",
       "PerformanceScore                0\n",
       "EngagementSurvey                0\n",
       "EmpSatisfaction                 0\n",
       "SpecialProjectsCount            0\n",
       "LastPerformanceReview_Date      0\n",
       "DaysLateLast30                  0\n",
       "Absences                        0\n",
       "dtype: int64"
      ]
     },
     "execution_count": 17,
     "metadata": {},
     "output_type": "execute_result"
    }
   ],
   "source": [
    "# Cleaning the data \n",
    "df.isnull().sum()"
   ]
  },
  {
   "cell_type": "code",
   "execution_count": 18,
   "id": "1f2c9c78",
   "metadata": {},
   "outputs": [],
   "source": [
    "df.fillna('0', inplace = True)"
   ]
  },
  {
   "cell_type": "code",
   "execution_count": 19,
   "id": "94035c57",
   "metadata": {},
   "outputs": [
    {
     "data": {
      "text/plain": [
       "Employee_Name                 0\n",
       "EmpID                         0\n",
       "MarriedID                     0\n",
       "MaritalStatusID               0\n",
       "GenderID                      0\n",
       "EmpStatusID                   0\n",
       "DeptID                        0\n",
       "PerfScoreID                   0\n",
       "FromDiversityJobFairID        0\n",
       "Salary                        0\n",
       "Termd                         0\n",
       "PositionID                    0\n",
       "Position                      0\n",
       "State                         0\n",
       "Zip                           0\n",
       "DOB                           0\n",
       "Sex                           0\n",
       "MaritalDesc                   0\n",
       "CitizenDesc                   0\n",
       "HispanicLatino                0\n",
       "RaceDesc                      0\n",
       "DateofHire                    0\n",
       "DateofTermination             0\n",
       "TermReason                    0\n",
       "EmploymentStatus              0\n",
       "Department                    0\n",
       "ManagerName                   0\n",
       "ManagerID                     0\n",
       "RecruitmentSource             0\n",
       "PerformanceScore              0\n",
       "EngagementSurvey              0\n",
       "EmpSatisfaction               0\n",
       "SpecialProjectsCount          0\n",
       "LastPerformanceReview_Date    0\n",
       "DaysLateLast30                0\n",
       "Absences                      0\n",
       "dtype: int64"
      ]
     },
     "execution_count": 19,
     "metadata": {},
     "output_type": "execute_result"
    }
   ],
   "source": [
    "df.isnull().sum()"
   ]
  },
  {
   "cell_type": "code",
   "execution_count": 21,
   "id": "db7f1ec3",
   "metadata": {},
   "outputs": [
    {
     "data": {
      "text/plain": [
       "0"
      ]
     },
     "execution_count": 21,
     "metadata": {},
     "output_type": "execute_result"
    }
   ],
   "source": [
    "df.duplicated().sum()"
   ]
  },
  {
   "cell_type": "code",
   "execution_count": 23,
   "id": "7065b3bf",
   "metadata": {},
   "outputs": [],
   "source": [
    "df.drop_duplicates(inplace = True)"
   ]
  },
  {
   "cell_type": "code",
   "execution_count": 24,
   "id": "7133ccf3",
   "metadata": {},
   "outputs": [
    {
     "data": {
      "text/plain": [
       "Employee_Name                  object\n",
       "EmpID                           int64\n",
       "MarriedID                       int64\n",
       "MaritalStatusID                 int64\n",
       "GenderID                        int64\n",
       "EmpStatusID                     int64\n",
       "DeptID                          int64\n",
       "PerfScoreID                     int64\n",
       "FromDiversityJobFairID          int64\n",
       "Salary                          int64\n",
       "Termd                           int64\n",
       "PositionID                      int64\n",
       "Position                       object\n",
       "State                          object\n",
       "Zip                             int64\n",
       "DOB                            object\n",
       "Sex                            object\n",
       "MaritalDesc                    object\n",
       "CitizenDesc                    object\n",
       "HispanicLatino                 object\n",
       "RaceDesc                       object\n",
       "DateofHire                     object\n",
       "DateofTermination              object\n",
       "TermReason                     object\n",
       "EmploymentStatus               object\n",
       "Department                     object\n",
       "ManagerName                    object\n",
       "ManagerID                      object\n",
       "RecruitmentSource              object\n",
       "PerformanceScore               object\n",
       "EngagementSurvey              float64\n",
       "EmpSatisfaction                 int64\n",
       "SpecialProjectsCount            int64\n",
       "LastPerformanceReview_Date     object\n",
       "DaysLateLast30                  int64\n",
       "Absences                        int64\n",
       "dtype: object"
      ]
     },
     "execution_count": 24,
     "metadata": {},
     "output_type": "execute_result"
    }
   ],
   "source": [
    "df.dtypes"
   ]
  },
  {
   "cell_type": "code",
   "execution_count": 25,
   "id": "6c5f1734",
   "metadata": {},
   "outputs": [
    {
     "data": {
      "text/html": [
       "<div>\n",
       "<style scoped>\n",
       "    .dataframe tbody tr th:only-of-type {\n",
       "        vertical-align: middle;\n",
       "    }\n",
       "\n",
       "    .dataframe tbody tr th {\n",
       "        vertical-align: top;\n",
       "    }\n",
       "\n",
       "    .dataframe thead th {\n",
       "        text-align: right;\n",
       "    }\n",
       "</style>\n",
       "<table border=\"1\" class=\"dataframe\">\n",
       "  <thead>\n",
       "    <tr style=\"text-align: right;\">\n",
       "      <th></th>\n",
       "      <th>Employee_Name</th>\n",
       "      <th>EmpID</th>\n",
       "      <th>MarriedID</th>\n",
       "      <th>MaritalStatusID</th>\n",
       "      <th>GenderID</th>\n",
       "      <th>EmpStatusID</th>\n",
       "      <th>DeptID</th>\n",
       "      <th>PerfScoreID</th>\n",
       "      <th>FromDiversityJobFairID</th>\n",
       "      <th>Salary</th>\n",
       "      <th>...</th>\n",
       "      <th>ManagerName</th>\n",
       "      <th>ManagerID</th>\n",
       "      <th>RecruitmentSource</th>\n",
       "      <th>PerformanceScore</th>\n",
       "      <th>EngagementSurvey</th>\n",
       "      <th>EmpSatisfaction</th>\n",
       "      <th>SpecialProjectsCount</th>\n",
       "      <th>LastPerformanceReview_Date</th>\n",
       "      <th>DaysLateLast30</th>\n",
       "      <th>Absences</th>\n",
       "    </tr>\n",
       "  </thead>\n",
       "  <tbody>\n",
       "    <tr>\n",
       "      <th>0</th>\n",
       "      <td>Adinolfi, Wilson  K</td>\n",
       "      <td>10026</td>\n",
       "      <td>0</td>\n",
       "      <td>0</td>\n",
       "      <td>1</td>\n",
       "      <td>1</td>\n",
       "      <td>5</td>\n",
       "      <td>4</td>\n",
       "      <td>0</td>\n",
       "      <td>62506</td>\n",
       "      <td>...</td>\n",
       "      <td>Michael Albert</td>\n",
       "      <td>22.0</td>\n",
       "      <td>LinkedIn</td>\n",
       "      <td>Exceeds</td>\n",
       "      <td>4.60</td>\n",
       "      <td>5</td>\n",
       "      <td>0</td>\n",
       "      <td>1/17/2019</td>\n",
       "      <td>0</td>\n",
       "      <td>1</td>\n",
       "    </tr>\n",
       "    <tr>\n",
       "      <th>1</th>\n",
       "      <td>Ait Sidi, Karthikeyan</td>\n",
       "      <td>10084</td>\n",
       "      <td>1</td>\n",
       "      <td>1</td>\n",
       "      <td>1</td>\n",
       "      <td>5</td>\n",
       "      <td>3</td>\n",
       "      <td>3</td>\n",
       "      <td>0</td>\n",
       "      <td>104437</td>\n",
       "      <td>...</td>\n",
       "      <td>Simon Roup</td>\n",
       "      <td>4.0</td>\n",
       "      <td>Indeed</td>\n",
       "      <td>Fully Meets</td>\n",
       "      <td>4.96</td>\n",
       "      <td>3</td>\n",
       "      <td>6</td>\n",
       "      <td>2/24/2016</td>\n",
       "      <td>0</td>\n",
       "      <td>17</td>\n",
       "    </tr>\n",
       "    <tr>\n",
       "      <th>2</th>\n",
       "      <td>Akinkuolie, Sarah</td>\n",
       "      <td>10196</td>\n",
       "      <td>1</td>\n",
       "      <td>1</td>\n",
       "      <td>0</td>\n",
       "      <td>5</td>\n",
       "      <td>5</td>\n",
       "      <td>3</td>\n",
       "      <td>0</td>\n",
       "      <td>64955</td>\n",
       "      <td>...</td>\n",
       "      <td>Kissy Sullivan</td>\n",
       "      <td>20.0</td>\n",
       "      <td>LinkedIn</td>\n",
       "      <td>Fully Meets</td>\n",
       "      <td>3.02</td>\n",
       "      <td>3</td>\n",
       "      <td>0</td>\n",
       "      <td>5/15/2012</td>\n",
       "      <td>0</td>\n",
       "      <td>3</td>\n",
       "    </tr>\n",
       "    <tr>\n",
       "      <th>3</th>\n",
       "      <td>Alagbe,Trina</td>\n",
       "      <td>10088</td>\n",
       "      <td>1</td>\n",
       "      <td>1</td>\n",
       "      <td>0</td>\n",
       "      <td>1</td>\n",
       "      <td>5</td>\n",
       "      <td>3</td>\n",
       "      <td>0</td>\n",
       "      <td>64991</td>\n",
       "      <td>...</td>\n",
       "      <td>Elijiah Gray</td>\n",
       "      <td>16.0</td>\n",
       "      <td>Indeed</td>\n",
       "      <td>Fully Meets</td>\n",
       "      <td>4.84</td>\n",
       "      <td>5</td>\n",
       "      <td>0</td>\n",
       "      <td>1/3/2019</td>\n",
       "      <td>0</td>\n",
       "      <td>15</td>\n",
       "    </tr>\n",
       "    <tr>\n",
       "      <th>4</th>\n",
       "      <td>Anderson, Carol</td>\n",
       "      <td>10069</td>\n",
       "      <td>0</td>\n",
       "      <td>2</td>\n",
       "      <td>0</td>\n",
       "      <td>5</td>\n",
       "      <td>5</td>\n",
       "      <td>3</td>\n",
       "      <td>0</td>\n",
       "      <td>50825</td>\n",
       "      <td>...</td>\n",
       "      <td>Webster Butler</td>\n",
       "      <td>39.0</td>\n",
       "      <td>Google Search</td>\n",
       "      <td>Fully Meets</td>\n",
       "      <td>5.00</td>\n",
       "      <td>4</td>\n",
       "      <td>0</td>\n",
       "      <td>2/1/2016</td>\n",
       "      <td>0</td>\n",
       "      <td>2</td>\n",
       "    </tr>\n",
       "  </tbody>\n",
       "</table>\n",
       "<p>5 rows × 36 columns</p>\n",
       "</div>"
      ],
      "text/plain": [
       "              Employee_Name  EmpID  MarriedID  MaritalStatusID  GenderID  \\\n",
       "0       Adinolfi, Wilson  K  10026          0                0         1   \n",
       "1  Ait Sidi, Karthikeyan     10084          1                1         1   \n",
       "2         Akinkuolie, Sarah  10196          1                1         0   \n",
       "3              Alagbe,Trina  10088          1                1         0   \n",
       "4          Anderson, Carol   10069          0                2         0   \n",
       "\n",
       "   EmpStatusID  DeptID  PerfScoreID  FromDiversityJobFairID  Salary  ...  \\\n",
       "0            1       5            4                       0   62506  ...   \n",
       "1            5       3            3                       0  104437  ...   \n",
       "2            5       5            3                       0   64955  ...   \n",
       "3            1       5            3                       0   64991  ...   \n",
       "4            5       5            3                       0   50825  ...   \n",
       "\n",
       "      ManagerName  ManagerID RecruitmentSource PerformanceScore  \\\n",
       "0  Michael Albert       22.0          LinkedIn          Exceeds   \n",
       "1      Simon Roup        4.0            Indeed      Fully Meets   \n",
       "2  Kissy Sullivan       20.0          LinkedIn      Fully Meets   \n",
       "3    Elijiah Gray       16.0            Indeed      Fully Meets   \n",
       "4  Webster Butler       39.0     Google Search      Fully Meets   \n",
       "\n",
       "   EngagementSurvey EmpSatisfaction SpecialProjectsCount  \\\n",
       "0              4.60               5                    0   \n",
       "1              4.96               3                    6   \n",
       "2              3.02               3                    0   \n",
       "3              4.84               5                    0   \n",
       "4              5.00               4                    0   \n",
       "\n",
       "  LastPerformanceReview_Date DaysLateLast30 Absences  \n",
       "0                  1/17/2019              0        1  \n",
       "1                  2/24/2016              0       17  \n",
       "2                  5/15/2012              0        3  \n",
       "3                   1/3/2019              0       15  \n",
       "4                   2/1/2016              0        2  \n",
       "\n",
       "[5 rows x 36 columns]"
      ]
     },
     "execution_count": 25,
     "metadata": {},
     "output_type": "execute_result"
    }
   ],
   "source": [
    "df.head(5)"
   ]
  },
  {
   "cell_type": "markdown",
   "id": "fdcb4bc4",
   "metadata": {},
   "source": [
    "# Q. Top 10 Employees with highest salary ?"
   ]
  },
  {
   "cell_type": "code",
   "execution_count": 27,
   "id": "00896603",
   "metadata": {},
   "outputs": [
    {
     "data": {
      "text/plain": [
       "Index(['Employee_Name', 'EmpID', 'MarriedID', 'MaritalStatusID', 'GenderID',\n",
       "       'EmpStatusID', 'DeptID', 'PerfScoreID', 'FromDiversityJobFairID',\n",
       "       'Salary', 'Termd', 'PositionID', 'Position', 'State', 'Zip', 'DOB',\n",
       "       'Sex', 'MaritalDesc', 'CitizenDesc', 'HispanicLatino', 'RaceDesc',\n",
       "       'DateofHire', 'DateofTermination', 'TermReason', 'EmploymentStatus',\n",
       "       'Department', 'ManagerName', 'ManagerID', 'RecruitmentSource',\n",
       "       'PerformanceScore', 'EngagementSurvey', 'EmpSatisfaction',\n",
       "       'SpecialProjectsCount', 'LastPerformanceReview_Date', 'DaysLateLast30',\n",
       "       'Absences'],\n",
       "      dtype='object')"
      ]
     },
     "execution_count": 27,
     "metadata": {},
     "output_type": "execute_result"
    }
   ],
   "source": [
    "df.columns"
   ]
  },
  {
   "cell_type": "code",
   "execution_count": 31,
   "id": "4415ea78",
   "metadata": {},
   "outputs": [
    {
     "data": {
      "text/plain": [
       "150    250000\n",
       "308    220450\n",
       "131    180000\n",
       "96     178000\n",
       "55     170500\n",
       "190    157000\n",
       "240    150290\n",
       "244    148999\n",
       "243    140920\n",
       "76     138888\n",
       "Name: Salary, dtype: int64"
      ]
     },
     "execution_count": 31,
     "metadata": {},
     "output_type": "execute_result"
    }
   ],
   "source": [
    "df.Salary.sort_values(ascending = False).head(10)"
   ]
  },
  {
   "cell_type": "markdown",
   "id": "6c16bfae",
   "metadata": {},
   "source": [
    "# Q. Employees who needs the special attention ?"
   ]
  },
  {
   "cell_type": "code",
   "execution_count": 33,
   "id": "5433cbad",
   "metadata": {},
   "outputs": [
    {
     "data": {
      "text/plain": [
       "array(['Exceeds', 'Fully Meets', 'Needs Improvement', 'PIP'], dtype=object)"
      ]
     },
     "execution_count": 33,
     "metadata": {},
     "output_type": "execute_result"
    }
   ],
   "source": [
    "df['PerformanceScore'].unique()"
   ]
  },
  {
   "cell_type": "code",
   "execution_count": 36,
   "id": "447ac1fb",
   "metadata": {},
   "outputs": [
    {
     "data": {
      "text/html": [
       "<div>\n",
       "<style scoped>\n",
       "    .dataframe tbody tr th:only-of-type {\n",
       "        vertical-align: middle;\n",
       "    }\n",
       "\n",
       "    .dataframe tbody tr th {\n",
       "        vertical-align: top;\n",
       "    }\n",
       "\n",
       "    .dataframe thead th {\n",
       "        text-align: right;\n",
       "    }\n",
       "</style>\n",
       "<table border=\"1\" class=\"dataframe\">\n",
       "  <thead>\n",
       "    <tr style=\"text-align: right;\">\n",
       "      <th></th>\n",
       "      <th>Employee_Name</th>\n",
       "      <th>EmpID</th>\n",
       "      <th>MarriedID</th>\n",
       "      <th>MaritalStatusID</th>\n",
       "      <th>GenderID</th>\n",
       "      <th>EmpStatusID</th>\n",
       "      <th>DeptID</th>\n",
       "      <th>PerfScoreID</th>\n",
       "      <th>FromDiversityJobFairID</th>\n",
       "      <th>Salary</th>\n",
       "      <th>...</th>\n",
       "      <th>ManagerName</th>\n",
       "      <th>ManagerID</th>\n",
       "      <th>RecruitmentSource</th>\n",
       "      <th>PerformanceScore</th>\n",
       "      <th>EngagementSurvey</th>\n",
       "      <th>EmpSatisfaction</th>\n",
       "      <th>SpecialProjectsCount</th>\n",
       "      <th>LastPerformanceReview_Date</th>\n",
       "      <th>DaysLateLast30</th>\n",
       "      <th>Absences</th>\n",
       "    </tr>\n",
       "  </thead>\n",
       "  <tbody>\n",
       "    <tr>\n",
       "      <th>67</th>\n",
       "      <td>Delarge, Alex</td>\n",
       "      <td>10306</td>\n",
       "      <td>0</td>\n",
       "      <td>0</td>\n",
       "      <td>1</td>\n",
       "      <td>1</td>\n",
       "      <td>6</td>\n",
       "      <td>1</td>\n",
       "      <td>0</td>\n",
       "      <td>61568</td>\n",
       "      <td>...</td>\n",
       "      <td>John Smith</td>\n",
       "      <td>17.0</td>\n",
       "      <td>Indeed</td>\n",
       "      <td>PIP</td>\n",
       "      <td>1.93</td>\n",
       "      <td>3</td>\n",
       "      <td>0</td>\n",
       "      <td>1/30/2019</td>\n",
       "      <td>6</td>\n",
       "      <td>5</td>\n",
       "    </tr>\n",
       "    <tr>\n",
       "      <th>69</th>\n",
       "      <td>Desimone, Carl</td>\n",
       "      <td>10310</td>\n",
       "      <td>1</td>\n",
       "      <td>1</td>\n",
       "      <td>1</td>\n",
       "      <td>1</td>\n",
       "      <td>5</td>\n",
       "      <td>1</td>\n",
       "      <td>0</td>\n",
       "      <td>53189</td>\n",
       "      <td>...</td>\n",
       "      <td>Amy Dunn</td>\n",
       "      <td>11.0</td>\n",
       "      <td>Indeed</td>\n",
       "      <td>PIP</td>\n",
       "      <td>1.12</td>\n",
       "      <td>2</td>\n",
       "      <td>0</td>\n",
       "      <td>1/31/2019</td>\n",
       "      <td>4</td>\n",
       "      <td>9</td>\n",
       "    </tr>\n",
       "    <tr>\n",
       "      <th>72</th>\n",
       "      <td>Dietrich, Jenna</td>\n",
       "      <td>10304</td>\n",
       "      <td>0</td>\n",
       "      <td>0</td>\n",
       "      <td>0</td>\n",
       "      <td>1</td>\n",
       "      <td>6</td>\n",
       "      <td>1</td>\n",
       "      <td>0</td>\n",
       "      <td>59231</td>\n",
       "      <td>...</td>\n",
       "      <td>John Smith</td>\n",
       "      <td>17.0</td>\n",
       "      <td>Website</td>\n",
       "      <td>PIP</td>\n",
       "      <td>2.30</td>\n",
       "      <td>1</td>\n",
       "      <td>0</td>\n",
       "      <td>1/29/2019</td>\n",
       "      <td>2</td>\n",
       "      <td>17</td>\n",
       "    </tr>\n",
       "    <tr>\n",
       "      <th>83</th>\n",
       "      <td>Erilus, Angela</td>\n",
       "      <td>10299</td>\n",
       "      <td>0</td>\n",
       "      <td>3</td>\n",
       "      <td>0</td>\n",
       "      <td>1</td>\n",
       "      <td>5</td>\n",
       "      <td>1</td>\n",
       "      <td>0</td>\n",
       "      <td>56847</td>\n",
       "      <td>...</td>\n",
       "      <td>Michael Albert</td>\n",
       "      <td>22.0</td>\n",
       "      <td>Indeed</td>\n",
       "      <td>PIP</td>\n",
       "      <td>3.00</td>\n",
       "      <td>1</td>\n",
       "      <td>0</td>\n",
       "      <td>2/25/2019</td>\n",
       "      <td>2</td>\n",
       "      <td>5</td>\n",
       "    </tr>\n",
       "    <tr>\n",
       "      <th>90</th>\n",
       "      <td>Fernandes, Nilson</td>\n",
       "      <td>10308</td>\n",
       "      <td>1</td>\n",
       "      <td>1</td>\n",
       "      <td>1</td>\n",
       "      <td>1</td>\n",
       "      <td>5</td>\n",
       "      <td>1</td>\n",
       "      <td>0</td>\n",
       "      <td>64057</td>\n",
       "      <td>...</td>\n",
       "      <td>Amy Dunn</td>\n",
       "      <td>11.0</td>\n",
       "      <td>Indeed</td>\n",
       "      <td>PIP</td>\n",
       "      <td>1.56</td>\n",
       "      <td>5</td>\n",
       "      <td>0</td>\n",
       "      <td>1/3/2019</td>\n",
       "      <td>6</td>\n",
       "      <td>15</td>\n",
       "    </tr>\n",
       "    <tr>\n",
       "      <th>91</th>\n",
       "      <td>Fett, Boba</td>\n",
       "      <td>10309</td>\n",
       "      <td>0</td>\n",
       "      <td>0</td>\n",
       "      <td>1</td>\n",
       "      <td>1</td>\n",
       "      <td>3</td>\n",
       "      <td>1</td>\n",
       "      <td>0</td>\n",
       "      <td>53366</td>\n",
       "      <td>...</td>\n",
       "      <td>Peter Monroe</td>\n",
       "      <td>7.0</td>\n",
       "      <td>LinkedIn</td>\n",
       "      <td>PIP</td>\n",
       "      <td>1.20</td>\n",
       "      <td>3</td>\n",
       "      <td>6</td>\n",
       "      <td>2/4/2019</td>\n",
       "      <td>3</td>\n",
       "      <td>2</td>\n",
       "    </tr>\n",
       "    <tr>\n",
       "      <th>95</th>\n",
       "      <td>Forrest, Alex</td>\n",
       "      <td>10305</td>\n",
       "      <td>1</td>\n",
       "      <td>1</td>\n",
       "      <td>1</td>\n",
       "      <td>1</td>\n",
       "      <td>6</td>\n",
       "      <td>3</td>\n",
       "      <td>0</td>\n",
       "      <td>70187</td>\n",
       "      <td>...</td>\n",
       "      <td>Lynn Daneault</td>\n",
       "      <td>21.0</td>\n",
       "      <td>Employee Referral</td>\n",
       "      <td>PIP</td>\n",
       "      <td>2.00</td>\n",
       "      <td>5</td>\n",
       "      <td>0</td>\n",
       "      <td>1/28/2019</td>\n",
       "      <td>4</td>\n",
       "      <td>7</td>\n",
       "    </tr>\n",
       "    <tr>\n",
       "      <th>112</th>\n",
       "      <td>Gonzalez, Juan</td>\n",
       "      <td>10300</td>\n",
       "      <td>1</td>\n",
       "      <td>1</td>\n",
       "      <td>1</td>\n",
       "      <td>5</td>\n",
       "      <td>5</td>\n",
       "      <td>1</td>\n",
       "      <td>1</td>\n",
       "      <td>68898</td>\n",
       "      <td>...</td>\n",
       "      <td>Brannon Miller</td>\n",
       "      <td>12.0</td>\n",
       "      <td>Diversity Job Fair</td>\n",
       "      <td>PIP</td>\n",
       "      <td>3.00</td>\n",
       "      <td>3</td>\n",
       "      <td>0</td>\n",
       "      <td>3/6/2011</td>\n",
       "      <td>3</td>\n",
       "      <td>10</td>\n",
       "    </tr>\n",
       "    <tr>\n",
       "      <th>188</th>\n",
       "      <td>Miller, Ned</td>\n",
       "      <td>10298</td>\n",
       "      <td>0</td>\n",
       "      <td>0</td>\n",
       "      <td>1</td>\n",
       "      <td>5</td>\n",
       "      <td>5</td>\n",
       "      <td>1</td>\n",
       "      <td>0</td>\n",
       "      <td>55800</td>\n",
       "      <td>...</td>\n",
       "      <td>Brannon Miller</td>\n",
       "      <td>12.0</td>\n",
       "      <td>LinkedIn</td>\n",
       "      <td>PIP</td>\n",
       "      <td>3.00</td>\n",
       "      <td>2</td>\n",
       "      <td>0</td>\n",
       "      <td>1/14/2013</td>\n",
       "      <td>6</td>\n",
       "      <td>6</td>\n",
       "    </tr>\n",
       "    <tr>\n",
       "      <th>205</th>\n",
       "      <td>O'hare, Lynn</td>\n",
       "      <td>10303</td>\n",
       "      <td>0</td>\n",
       "      <td>0</td>\n",
       "      <td>0</td>\n",
       "      <td>4</td>\n",
       "      <td>5</td>\n",
       "      <td>1</td>\n",
       "      <td>0</td>\n",
       "      <td>52674</td>\n",
       "      <td>...</td>\n",
       "      <td>Kissy Sullivan</td>\n",
       "      <td>20.0</td>\n",
       "      <td>LinkedIn</td>\n",
       "      <td>PIP</td>\n",
       "      <td>2.33</td>\n",
       "      <td>2</td>\n",
       "      <td>0</td>\n",
       "      <td>3/9/2018</td>\n",
       "      <td>6</td>\n",
       "      <td>3</td>\n",
       "    </tr>\n",
       "    <tr>\n",
       "      <th>263</th>\n",
       "      <td>Sparks, Taylor</td>\n",
       "      <td>10302</td>\n",
       "      <td>1</td>\n",
       "      <td>1</td>\n",
       "      <td>0</td>\n",
       "      <td>1</td>\n",
       "      <td>5</td>\n",
       "      <td>1</td>\n",
       "      <td>0</td>\n",
       "      <td>64021</td>\n",
       "      <td>...</td>\n",
       "      <td>Brannon Miller</td>\n",
       "      <td>12.0</td>\n",
       "      <td>Indeed</td>\n",
       "      <td>PIP</td>\n",
       "      <td>2.40</td>\n",
       "      <td>2</td>\n",
       "      <td>1</td>\n",
       "      <td>2/25/2019</td>\n",
       "      <td>6</td>\n",
       "      <td>20</td>\n",
       "    </tr>\n",
       "    <tr>\n",
       "      <th>267</th>\n",
       "      <td>Stansfield, Norman</td>\n",
       "      <td>10307</td>\n",
       "      <td>1</td>\n",
       "      <td>1</td>\n",
       "      <td>1</td>\n",
       "      <td>1</td>\n",
       "      <td>6</td>\n",
       "      <td>1</td>\n",
       "      <td>0</td>\n",
       "      <td>58273</td>\n",
       "      <td>...</td>\n",
       "      <td>Lynn Daneault</td>\n",
       "      <td>21.0</td>\n",
       "      <td>Website</td>\n",
       "      <td>PIP</td>\n",
       "      <td>1.81</td>\n",
       "      <td>2</td>\n",
       "      <td>0</td>\n",
       "      <td>1/17/2019</td>\n",
       "      <td>3</td>\n",
       "      <td>5</td>\n",
       "    </tr>\n",
       "    <tr>\n",
       "      <th>307</th>\n",
       "      <td>Ybarra, Catherine</td>\n",
       "      <td>10301</td>\n",
       "      <td>0</td>\n",
       "      <td>0</td>\n",
       "      <td>0</td>\n",
       "      <td>5</td>\n",
       "      <td>5</td>\n",
       "      <td>1</td>\n",
       "      <td>0</td>\n",
       "      <td>48513</td>\n",
       "      <td>...</td>\n",
       "      <td>Brannon Miller</td>\n",
       "      <td>12.0</td>\n",
       "      <td>Google Search</td>\n",
       "      <td>PIP</td>\n",
       "      <td>3.20</td>\n",
       "      <td>2</td>\n",
       "      <td>0</td>\n",
       "      <td>9/2/2015</td>\n",
       "      <td>5</td>\n",
       "      <td>4</td>\n",
       "    </tr>\n",
       "  </tbody>\n",
       "</table>\n",
       "<p>13 rows × 36 columns</p>\n",
       "</div>"
      ],
      "text/plain": [
       "           Employee_Name  EmpID  MarriedID  MaritalStatusID  GenderID  \\\n",
       "67         Delarge, Alex  10306          0                0         1   \n",
       "69       Desimone, Carl   10310          1                1         1   \n",
       "72     Dietrich, Jenna    10304          0                0         0   \n",
       "83        Erilus, Angela  10299          0                3         0   \n",
       "90   Fernandes, Nilson    10308          1                1         1   \n",
       "91            Fett, Boba  10309          0                0         1   \n",
       "95         Forrest, Alex  10305          1                1         1   \n",
       "112       Gonzalez, Juan  10300          1                1         1   \n",
       "188          Miller, Ned  10298          0                0         1   \n",
       "205         O'hare, Lynn  10303          0                0         0   \n",
       "263     Sparks, Taylor    10302          1                1         0   \n",
       "267   Stansfield, Norman  10307          1                1         1   \n",
       "307   Ybarra, Catherine   10301          0                0         0   \n",
       "\n",
       "     EmpStatusID  DeptID  PerfScoreID  FromDiversityJobFairID  Salary  ...  \\\n",
       "67             1       6            1                       0   61568  ...   \n",
       "69             1       5            1                       0   53189  ...   \n",
       "72             1       6            1                       0   59231  ...   \n",
       "83             1       5            1                       0   56847  ...   \n",
       "90             1       5            1                       0   64057  ...   \n",
       "91             1       3            1                       0   53366  ...   \n",
       "95             1       6            3                       0   70187  ...   \n",
       "112            5       5            1                       1   68898  ...   \n",
       "188            5       5            1                       0   55800  ...   \n",
       "205            4       5            1                       0   52674  ...   \n",
       "263            1       5            1                       0   64021  ...   \n",
       "267            1       6            1                       0   58273  ...   \n",
       "307            5       5            1                       0   48513  ...   \n",
       "\n",
       "        ManagerName  ManagerID   RecruitmentSource PerformanceScore  \\\n",
       "67       John Smith       17.0              Indeed              PIP   \n",
       "69         Amy Dunn       11.0              Indeed              PIP   \n",
       "72       John Smith       17.0             Website              PIP   \n",
       "83   Michael Albert       22.0              Indeed              PIP   \n",
       "90         Amy Dunn       11.0              Indeed              PIP   \n",
       "91     Peter Monroe        7.0            LinkedIn              PIP   \n",
       "95    Lynn Daneault       21.0   Employee Referral              PIP   \n",
       "112  Brannon Miller       12.0  Diversity Job Fair              PIP   \n",
       "188  Brannon Miller       12.0            LinkedIn              PIP   \n",
       "205  Kissy Sullivan       20.0            LinkedIn              PIP   \n",
       "263  Brannon Miller       12.0              Indeed              PIP   \n",
       "267   Lynn Daneault       21.0             Website              PIP   \n",
       "307  Brannon Miller       12.0       Google Search              PIP   \n",
       "\n",
       "     EngagementSurvey EmpSatisfaction SpecialProjectsCount  \\\n",
       "67               1.93               3                    0   \n",
       "69               1.12               2                    0   \n",
       "72               2.30               1                    0   \n",
       "83               3.00               1                    0   \n",
       "90               1.56               5                    0   \n",
       "91               1.20               3                    6   \n",
       "95               2.00               5                    0   \n",
       "112              3.00               3                    0   \n",
       "188              3.00               2                    0   \n",
       "205              2.33               2                    0   \n",
       "263              2.40               2                    1   \n",
       "267              1.81               2                    0   \n",
       "307              3.20               2                    0   \n",
       "\n",
       "    LastPerformanceReview_Date DaysLateLast30 Absences  \n",
       "67                   1/30/2019              6        5  \n",
       "69                   1/31/2019              4        9  \n",
       "72                   1/29/2019              2       17  \n",
       "83                   2/25/2019              2        5  \n",
       "90                    1/3/2019              6       15  \n",
       "91                    2/4/2019              3        2  \n",
       "95                   1/28/2019              4        7  \n",
       "112                   3/6/2011              3       10  \n",
       "188                  1/14/2013              6        6  \n",
       "205                   3/9/2018              6        3  \n",
       "263                  2/25/2019              6       20  \n",
       "267                  1/17/2019              3        5  \n",
       "307                   9/2/2015              5        4  \n",
       "\n",
       "[13 rows x 36 columns]"
      ]
     },
     "execution_count": 36,
     "metadata": {},
     "output_type": "execute_result"
    }
   ],
   "source": [
    "df[df['PerformanceScore'] == 'PIP']"
   ]
  },
  {
   "cell_type": "code",
   "execution_count": 39,
   "id": "02125ddd",
   "metadata": {},
   "outputs": [],
   "source": [
    "people_pip = df[df['PerformanceScore'] == 'PIP'].Employee_Name"
   ]
  },
  {
   "cell_type": "code",
   "execution_count": 41,
   "id": "bc636d17",
   "metadata": {},
   "outputs": [
    {
     "data": {
      "text/plain": [
       "13"
      ]
     },
     "execution_count": 41,
     "metadata": {},
     "output_type": "execute_result"
    }
   ],
   "source": [
    "len(people_pip)"
   ]
  },
  {
   "cell_type": "code",
   "execution_count": 45,
   "id": "472afc18",
   "metadata": {},
   "outputs": [],
   "source": [
    "people_pip = [df[df['PerformanceScore'] == 'PIP'].Employee_Name]"
   ]
  },
  {
   "cell_type": "code",
   "execution_count": 46,
   "id": "f395ea4e",
   "metadata": {},
   "outputs": [
    {
     "data": {
      "text/plain": [
       "[67           Delarge, Alex\n",
       " 69         Desimone, Carl \n",
       " 72       Dietrich, Jenna  \n",
       " 83          Erilus, Angela\n",
       " 90     Fernandes, Nilson  \n",
       " 91              Fett, Boba\n",
       " 95           Forrest, Alex\n",
       " 112         Gonzalez, Juan\n",
       " 188            Miller, Ned\n",
       " 205           O'hare, Lynn\n",
       " 263       Sparks, Taylor  \n",
       " 267     Stansfield, Norman\n",
       " 307     Ybarra, Catherine \n",
       " Name: Employee_Name, dtype: object]"
      ]
     },
     "execution_count": 46,
     "metadata": {},
     "output_type": "execute_result"
    }
   ],
   "source": [
    "people_pip"
   ]
  },
  {
   "cell_type": "markdown",
   "id": "ce5de443",
   "metadata": {},
   "source": [
    "# On of Absences ?"
   ]
  },
  {
   "cell_type": "code",
   "execution_count": 48,
   "id": "6e7fb340",
   "metadata": {},
   "outputs": [
    {
     "data": {
      "text/plain": [
       "Absences\n",
       "4     23\n",
       "16    23\n",
       "7     21\n",
       "2     21\n",
       "15    20\n",
       "13    17\n",
       "14    17\n",
       "3     16\n",
       "19    16\n",
       "6     16\n",
       "11    15\n",
       "17    15\n",
       "1     14\n",
       "20    14\n",
       "9     14\n",
       "5     12\n",
       "8     11\n",
       "10    10\n",
       "12     8\n",
       "18     8\n",
       "Name: count, dtype: int64"
      ]
     },
     "execution_count": 48,
     "metadata": {},
     "output_type": "execute_result"
    }
   ],
   "source": [
    "df['Absences'].value_counts()"
   ]
  },
  {
   "cell_type": "markdown",
   "id": "41b1963a",
   "metadata": {},
   "source": [
    "# whether the employees married or not ?"
   ]
  },
  {
   "cell_type": "code",
   "execution_count": 51,
   "id": "e721e639",
   "metadata": {},
   "outputs": [
    {
     "data": {
      "text/plain": [
       "MarriedID\n",
       "0    187\n",
       "1    124\n",
       "Name: count, dtype: int64"
      ]
     },
     "execution_count": 51,
     "metadata": {},
     "output_type": "execute_result"
    }
   ],
   "source": [
    "df['MarriedID'].value_counts()"
   ]
  },
  {
   "cell_type": "code",
   "execution_count": 52,
   "id": "3a48101e",
   "metadata": {},
   "outputs": [],
   "source": [
    "#Insights -: 187 employees employees are unmarried and 124 are married."
   ]
  },
  {
   "cell_type": "code",
   "execution_count": 53,
   "id": "2de1d0b2",
   "metadata": {},
   "outputs": [
    {
     "data": {
      "text/plain": [
       "Index(['Employee_Name', 'EmpID', 'MarriedID', 'MaritalStatusID', 'GenderID',\n",
       "       'EmpStatusID', 'DeptID', 'PerfScoreID', 'FromDiversityJobFairID',\n",
       "       'Salary', 'Termd', 'PositionID', 'Position', 'State', 'Zip', 'DOB',\n",
       "       'Sex', 'MaritalDesc', 'CitizenDesc', 'HispanicLatino', 'RaceDesc',\n",
       "       'DateofHire', 'DateofTermination', 'TermReason', 'EmploymentStatus',\n",
       "       'Department', 'ManagerName', 'ManagerID', 'RecruitmentSource',\n",
       "       'PerformanceScore', 'EngagementSurvey', 'EmpSatisfaction',\n",
       "       'SpecialProjectsCount', 'LastPerformanceReview_Date', 'DaysLateLast30',\n",
       "       'Absences'],\n",
       "      dtype='object')"
      ]
     },
     "execution_count": 53,
     "metadata": {},
     "output_type": "execute_result"
    }
   ],
   "source": [
    "df.columns"
   ]
  },
  {
   "cell_type": "markdown",
   "id": "387f9d6a",
   "metadata": {},
   "source": [
    "# Who are the employees who has the special project ?\n"
   ]
  },
  {
   "cell_type": "code",
   "execution_count": 57,
   "id": "4e9f6275",
   "metadata": {},
   "outputs": [
    {
     "data": {
      "text/plain": [
       "61     8\n",
       "299    8\n",
       "243    7\n",
       "254    7\n",
       "25     7\n",
       "      ..\n",
       "126    0\n",
       "127    0\n",
       "128    0\n",
       "129    0\n",
       "310    0\n",
       "Name: SpecialProjectsCount, Length: 311, dtype: int64"
      ]
     },
     "execution_count": 57,
     "metadata": {},
     "output_type": "execute_result"
    }
   ],
   "source": [
    "df['SpecialProjectsCount'].sort_values(ascending = False)"
   ]
  },
  {
   "cell_type": "code",
   "execution_count": 69,
   "id": "eb74f98b",
   "metadata": {},
   "outputs": [
    {
     "data": {
      "text/html": [
       "<div>\n",
       "<style scoped>\n",
       "    .dataframe tbody tr th:only-of-type {\n",
       "        vertical-align: middle;\n",
       "    }\n",
       "\n",
       "    .dataframe tbody tr th {\n",
       "        vertical-align: top;\n",
       "    }\n",
       "\n",
       "    .dataframe thead th {\n",
       "        text-align: right;\n",
       "    }\n",
       "</style>\n",
       "<table border=\"1\" class=\"dataframe\">\n",
       "  <thead>\n",
       "    <tr style=\"text-align: right;\">\n",
       "      <th></th>\n",
       "      <th>Employee_Name</th>\n",
       "      <th>EmpID</th>\n",
       "      <th>MarriedID</th>\n",
       "      <th>MaritalStatusID</th>\n",
       "      <th>GenderID</th>\n",
       "      <th>EmpStatusID</th>\n",
       "      <th>DeptID</th>\n",
       "      <th>PerfScoreID</th>\n",
       "      <th>FromDiversityJobFairID</th>\n",
       "      <th>Salary</th>\n",
       "      <th>...</th>\n",
       "      <th>ManagerName</th>\n",
       "      <th>ManagerID</th>\n",
       "      <th>RecruitmentSource</th>\n",
       "      <th>PerformanceScore</th>\n",
       "      <th>EngagementSurvey</th>\n",
       "      <th>EmpSatisfaction</th>\n",
       "      <th>SpecialProjectsCount</th>\n",
       "      <th>LastPerformanceReview_Date</th>\n",
       "      <th>DaysLateLast30</th>\n",
       "      <th>Absences</th>\n",
       "    </tr>\n",
       "  </thead>\n",
       "  <tbody>\n",
       "    <tr>\n",
       "      <th>1</th>\n",
       "      <td>Ait Sidi, Karthikeyan</td>\n",
       "      <td>10084</td>\n",
       "      <td>1</td>\n",
       "      <td>1</td>\n",
       "      <td>1</td>\n",
       "      <td>5</td>\n",
       "      <td>3</td>\n",
       "      <td>3</td>\n",
       "      <td>0</td>\n",
       "      <td>104437</td>\n",
       "      <td>...</td>\n",
       "      <td>Simon Roup</td>\n",
       "      <td>4.0</td>\n",
       "      <td>Indeed</td>\n",
       "      <td>Fully Meets</td>\n",
       "      <td>4.96</td>\n",
       "      <td>3</td>\n",
       "      <td>6</td>\n",
       "      <td>2/24/2016</td>\n",
       "      <td>0</td>\n",
       "      <td>17</td>\n",
       "    </tr>\n",
       "    <tr>\n",
       "      <th>6</th>\n",
       "      <td>Andreola, Colby</td>\n",
       "      <td>10194</td>\n",
       "      <td>0</td>\n",
       "      <td>0</td>\n",
       "      <td>0</td>\n",
       "      <td>1</td>\n",
       "      <td>4</td>\n",
       "      <td>3</td>\n",
       "      <td>0</td>\n",
       "      <td>95660</td>\n",
       "      <td>...</td>\n",
       "      <td>Alex Sweetwater</td>\n",
       "      <td>10.0</td>\n",
       "      <td>LinkedIn</td>\n",
       "      <td>Fully Meets</td>\n",
       "      <td>3.04</td>\n",
       "      <td>3</td>\n",
       "      <td>4</td>\n",
       "      <td>1/2/2019</td>\n",
       "      <td>0</td>\n",
       "      <td>19</td>\n",
       "    </tr>\n",
       "    <tr>\n",
       "      <th>9</th>\n",
       "      <td>Bacong, Alejandro</td>\n",
       "      <td>10250</td>\n",
       "      <td>0</td>\n",
       "      <td>2</td>\n",
       "      <td>1</td>\n",
       "      <td>1</td>\n",
       "      <td>3</td>\n",
       "      <td>3</td>\n",
       "      <td>0</td>\n",
       "      <td>50178</td>\n",
       "      <td>...</td>\n",
       "      <td>Peter Monroe</td>\n",
       "      <td>7.0</td>\n",
       "      <td>Indeed</td>\n",
       "      <td>Fully Meets</td>\n",
       "      <td>5.00</td>\n",
       "      <td>5</td>\n",
       "      <td>6</td>\n",
       "      <td>2/18/2019</td>\n",
       "      <td>0</td>\n",
       "      <td>16</td>\n",
       "    </tr>\n",
       "    <tr>\n",
       "      <th>12</th>\n",
       "      <td>Barbossa, Hector</td>\n",
       "      <td>10012</td>\n",
       "      <td>0</td>\n",
       "      <td>2</td>\n",
       "      <td>1</td>\n",
       "      <td>1</td>\n",
       "      <td>3</td>\n",
       "      <td>4</td>\n",
       "      <td>1</td>\n",
       "      <td>92328</td>\n",
       "      <td>...</td>\n",
       "      <td>Simon Roup</td>\n",
       "      <td>4.0</td>\n",
       "      <td>Diversity Job Fair</td>\n",
       "      <td>Exceeds</td>\n",
       "      <td>4.28</td>\n",
       "      <td>4</td>\n",
       "      <td>5</td>\n",
       "      <td>2/25/2019</td>\n",
       "      <td>0</td>\n",
       "      <td>9</td>\n",
       "    </tr>\n",
       "    <tr>\n",
       "      <th>18</th>\n",
       "      <td>Becker, Renee</td>\n",
       "      <td>10245</td>\n",
       "      <td>0</td>\n",
       "      <td>0</td>\n",
       "      <td>0</td>\n",
       "      <td>4</td>\n",
       "      <td>3</td>\n",
       "      <td>3</td>\n",
       "      <td>0</td>\n",
       "      <td>110000</td>\n",
       "      <td>...</td>\n",
       "      <td>Simon Roup</td>\n",
       "      <td>4.0</td>\n",
       "      <td>Google Search</td>\n",
       "      <td>Fully Meets</td>\n",
       "      <td>4.50</td>\n",
       "      <td>4</td>\n",
       "      <td>5</td>\n",
       "      <td>1/15/2015</td>\n",
       "      <td>0</td>\n",
       "      <td>8</td>\n",
       "    </tr>\n",
       "    <tr>\n",
       "      <th>...</th>\n",
       "      <td>...</td>\n",
       "      <td>...</td>\n",
       "      <td>...</td>\n",
       "      <td>...</td>\n",
       "      <td>...</td>\n",
       "      <td>...</td>\n",
       "      <td>...</td>\n",
       "      <td>...</td>\n",
       "      <td>...</td>\n",
       "      <td>...</td>\n",
       "      <td>...</td>\n",
       "      <td>...</td>\n",
       "      <td>...</td>\n",
       "      <td>...</td>\n",
       "      <td>...</td>\n",
       "      <td>...</td>\n",
       "      <td>...</td>\n",
       "      <td>...</td>\n",
       "      <td>...</td>\n",
       "      <td>...</td>\n",
       "      <td>...</td>\n",
       "    </tr>\n",
       "    <tr>\n",
       "      <th>292</th>\n",
       "      <td>Voldemort, Lord</td>\n",
       "      <td>10118</td>\n",
       "      <td>1</td>\n",
       "      <td>1</td>\n",
       "      <td>1</td>\n",
       "      <td>4</td>\n",
       "      <td>3</td>\n",
       "      <td>3</td>\n",
       "      <td>0</td>\n",
       "      <td>113999</td>\n",
       "      <td>...</td>\n",
       "      <td>Simon Roup</td>\n",
       "      <td>4.0</td>\n",
       "      <td>Employee Referral</td>\n",
       "      <td>Fully Meets</td>\n",
       "      <td>4.33</td>\n",
       "      <td>3</td>\n",
       "      <td>7</td>\n",
       "      <td>2/15/2017</td>\n",
       "      <td>0</td>\n",
       "      <td>9</td>\n",
       "    </tr>\n",
       "    <tr>\n",
       "      <th>298</th>\n",
       "      <td>Wang, Charlie</td>\n",
       "      <td>10172</td>\n",
       "      <td>0</td>\n",
       "      <td>0</td>\n",
       "      <td>1</td>\n",
       "      <td>1</td>\n",
       "      <td>3</td>\n",
       "      <td>3</td>\n",
       "      <td>0</td>\n",
       "      <td>84903</td>\n",
       "      <td>...</td>\n",
       "      <td>Brian Champaigne</td>\n",
       "      <td>13.0</td>\n",
       "      <td>Indeed</td>\n",
       "      <td>Fully Meets</td>\n",
       "      <td>3.42</td>\n",
       "      <td>4</td>\n",
       "      <td>7</td>\n",
       "      <td>1/4/2019</td>\n",
       "      <td>0</td>\n",
       "      <td>17</td>\n",
       "    </tr>\n",
       "    <tr>\n",
       "      <th>299</th>\n",
       "      <td>Warfield, Sarah</td>\n",
       "      <td>10127</td>\n",
       "      <td>0</td>\n",
       "      <td>4</td>\n",
       "      <td>0</td>\n",
       "      <td>1</td>\n",
       "      <td>3</td>\n",
       "      <td>3</td>\n",
       "      <td>0</td>\n",
       "      <td>107226</td>\n",
       "      <td>...</td>\n",
       "      <td>Peter Monroe</td>\n",
       "      <td>7.0</td>\n",
       "      <td>Employee Referral</td>\n",
       "      <td>Fully Meets</td>\n",
       "      <td>4.20</td>\n",
       "      <td>4</td>\n",
       "      <td>8</td>\n",
       "      <td>2/5/2019</td>\n",
       "      <td>0</td>\n",
       "      <td>7</td>\n",
       "    </tr>\n",
       "    <tr>\n",
       "      <th>308</th>\n",
       "      <td>Zamora, Jennifer</td>\n",
       "      <td>10010</td>\n",
       "      <td>0</td>\n",
       "      <td>0</td>\n",
       "      <td>0</td>\n",
       "      <td>1</td>\n",
       "      <td>3</td>\n",
       "      <td>4</td>\n",
       "      <td>0</td>\n",
       "      <td>220450</td>\n",
       "      <td>...</td>\n",
       "      <td>Janet King</td>\n",
       "      <td>2.0</td>\n",
       "      <td>Employee Referral</td>\n",
       "      <td>Exceeds</td>\n",
       "      <td>4.60</td>\n",
       "      <td>5</td>\n",
       "      <td>6</td>\n",
       "      <td>2/21/2019</td>\n",
       "      <td>0</td>\n",
       "      <td>16</td>\n",
       "    </tr>\n",
       "    <tr>\n",
       "      <th>309</th>\n",
       "      <td>Zhou, Julia</td>\n",
       "      <td>10043</td>\n",
       "      <td>0</td>\n",
       "      <td>0</td>\n",
       "      <td>0</td>\n",
       "      <td>1</td>\n",
       "      <td>3</td>\n",
       "      <td>3</td>\n",
       "      <td>0</td>\n",
       "      <td>89292</td>\n",
       "      <td>...</td>\n",
       "      <td>Simon Roup</td>\n",
       "      <td>4.0</td>\n",
       "      <td>Employee Referral</td>\n",
       "      <td>Fully Meets</td>\n",
       "      <td>5.00</td>\n",
       "      <td>3</td>\n",
       "      <td>5</td>\n",
       "      <td>2/1/2019</td>\n",
       "      <td>0</td>\n",
       "      <td>11</td>\n",
       "    </tr>\n",
       "  </tbody>\n",
       "</table>\n",
       "<p>70 rows × 36 columns</p>\n",
       "</div>"
      ],
      "text/plain": [
       "                Employee_Name  EmpID  MarriedID  MaritalStatusID  GenderID  \\\n",
       "1    Ait Sidi, Karthikeyan     10084          1                1         1   \n",
       "6             Andreola, Colby  10194          0                0         0   \n",
       "9          Bacong, Alejandro   10250          0                2         1   \n",
       "12           Barbossa, Hector  10012          0                2         1   \n",
       "18              Becker, Renee  10245          0                0         0   \n",
       "..                        ...    ...        ...              ...       ...   \n",
       "292           Voldemort, Lord  10118          1                1         1   \n",
       "298             Wang, Charlie  10172          0                0         1   \n",
       "299           Warfield, Sarah  10127          0                4         0   \n",
       "308          Zamora, Jennifer  10010          0                0         0   \n",
       "309               Zhou, Julia  10043          0                0         0   \n",
       "\n",
       "     EmpStatusID  DeptID  PerfScoreID  FromDiversityJobFairID  Salary  ...  \\\n",
       "1              5       3            3                       0  104437  ...   \n",
       "6              1       4            3                       0   95660  ...   \n",
       "9              1       3            3                       0   50178  ...   \n",
       "12             1       3            4                       1   92328  ...   \n",
       "18             4       3            3                       0  110000  ...   \n",
       "..           ...     ...          ...                     ...     ...  ...   \n",
       "292            4       3            3                       0  113999  ...   \n",
       "298            1       3            3                       0   84903  ...   \n",
       "299            1       3            3                       0  107226  ...   \n",
       "308            1       3            4                       0  220450  ...   \n",
       "309            1       3            3                       0   89292  ...   \n",
       "\n",
       "          ManagerName  ManagerID   RecruitmentSource PerformanceScore  \\\n",
       "1          Simon Roup        4.0              Indeed      Fully Meets   \n",
       "6     Alex Sweetwater       10.0            LinkedIn      Fully Meets   \n",
       "9        Peter Monroe        7.0              Indeed      Fully Meets   \n",
       "12         Simon Roup        4.0  Diversity Job Fair          Exceeds   \n",
       "18         Simon Roup        4.0       Google Search      Fully Meets   \n",
       "..                ...        ...                 ...              ...   \n",
       "292        Simon Roup        4.0   Employee Referral      Fully Meets   \n",
       "298  Brian Champaigne       13.0              Indeed      Fully Meets   \n",
       "299      Peter Monroe        7.0   Employee Referral      Fully Meets   \n",
       "308        Janet King        2.0   Employee Referral          Exceeds   \n",
       "309        Simon Roup        4.0   Employee Referral      Fully Meets   \n",
       "\n",
       "     EngagementSurvey EmpSatisfaction SpecialProjectsCount  \\\n",
       "1                4.96               3                    6   \n",
       "6                3.04               3                    4   \n",
       "9                5.00               5                    6   \n",
       "12               4.28               4                    5   \n",
       "18               4.50               4                    5   \n",
       "..                ...             ...                  ...   \n",
       "292              4.33               3                    7   \n",
       "298              3.42               4                    7   \n",
       "299              4.20               4                    8   \n",
       "308              4.60               5                    6   \n",
       "309              5.00               3                    5   \n",
       "\n",
       "    LastPerformanceReview_Date DaysLateLast30 Absences  \n",
       "1                    2/24/2016              0       17  \n",
       "6                     1/2/2019              0       19  \n",
       "9                    2/18/2019              0       16  \n",
       "12                   2/25/2019              0        9  \n",
       "18                   1/15/2015              0        8  \n",
       "..                         ...            ...      ...  \n",
       "292                  2/15/2017              0        9  \n",
       "298                   1/4/2019              0       17  \n",
       "299                   2/5/2019              0        7  \n",
       "308                  2/21/2019              0       16  \n",
       "309                   2/1/2019              0       11  \n",
       "\n",
       "[70 rows x 36 columns]"
      ]
     },
     "execution_count": 69,
     "metadata": {},
     "output_type": "execute_result"
    }
   ],
   "source": [
    "df[df['SpecialProjectsCount']!= 0]"
   ]
  },
  {
   "cell_type": "code",
   "execution_count": 68,
   "id": "30441e01",
   "metadata": {},
   "outputs": [
    {
     "data": {
      "text/html": [
       "<div>\n",
       "<style scoped>\n",
       "    .dataframe tbody tr th:only-of-type {\n",
       "        vertical-align: middle;\n",
       "    }\n",
       "\n",
       "    .dataframe tbody tr th {\n",
       "        vertical-align: top;\n",
       "    }\n",
       "\n",
       "    .dataframe thead th {\n",
       "        text-align: right;\n",
       "    }\n",
       "</style>\n",
       "<table border=\"1\" class=\"dataframe\">\n",
       "  <thead>\n",
       "    <tr style=\"text-align: right;\">\n",
       "      <th></th>\n",
       "      <th>Employee_Name</th>\n",
       "      <th>EmpID</th>\n",
       "      <th>MarriedID</th>\n",
       "      <th>MaritalStatusID</th>\n",
       "      <th>GenderID</th>\n",
       "      <th>EmpStatusID</th>\n",
       "      <th>DeptID</th>\n",
       "      <th>PerfScoreID</th>\n",
       "      <th>FromDiversityJobFairID</th>\n",
       "      <th>Salary</th>\n",
       "      <th>...</th>\n",
       "      <th>ManagerName</th>\n",
       "      <th>ManagerID</th>\n",
       "      <th>RecruitmentSource</th>\n",
       "      <th>PerformanceScore</th>\n",
       "      <th>EngagementSurvey</th>\n",
       "      <th>EmpSatisfaction</th>\n",
       "      <th>SpecialProjectsCount</th>\n",
       "      <th>LastPerformanceReview_Date</th>\n",
       "      <th>DaysLateLast30</th>\n",
       "      <th>Absences</th>\n",
       "    </tr>\n",
       "  </thead>\n",
       "  <tbody>\n",
       "    <tr>\n",
       "      <th>0</th>\n",
       "      <td>Adinolfi, Wilson  K</td>\n",
       "      <td>10026</td>\n",
       "      <td>0</td>\n",
       "      <td>0</td>\n",
       "      <td>1</td>\n",
       "      <td>1</td>\n",
       "      <td>5</td>\n",
       "      <td>4</td>\n",
       "      <td>0</td>\n",
       "      <td>62506</td>\n",
       "      <td>...</td>\n",
       "      <td>Michael Albert</td>\n",
       "      <td>22.0</td>\n",
       "      <td>LinkedIn</td>\n",
       "      <td>Exceeds</td>\n",
       "      <td>4.60</td>\n",
       "      <td>5</td>\n",
       "      <td>0</td>\n",
       "      <td>1/17/2019</td>\n",
       "      <td>0</td>\n",
       "      <td>1</td>\n",
       "    </tr>\n",
       "    <tr>\n",
       "      <th>2</th>\n",
       "      <td>Akinkuolie, Sarah</td>\n",
       "      <td>10196</td>\n",
       "      <td>1</td>\n",
       "      <td>1</td>\n",
       "      <td>0</td>\n",
       "      <td>5</td>\n",
       "      <td>5</td>\n",
       "      <td>3</td>\n",
       "      <td>0</td>\n",
       "      <td>64955</td>\n",
       "      <td>...</td>\n",
       "      <td>Kissy Sullivan</td>\n",
       "      <td>20.0</td>\n",
       "      <td>LinkedIn</td>\n",
       "      <td>Fully Meets</td>\n",
       "      <td>3.02</td>\n",
       "      <td>3</td>\n",
       "      <td>0</td>\n",
       "      <td>5/15/2012</td>\n",
       "      <td>0</td>\n",
       "      <td>3</td>\n",
       "    </tr>\n",
       "    <tr>\n",
       "      <th>3</th>\n",
       "      <td>Alagbe,Trina</td>\n",
       "      <td>10088</td>\n",
       "      <td>1</td>\n",
       "      <td>1</td>\n",
       "      <td>0</td>\n",
       "      <td>1</td>\n",
       "      <td>5</td>\n",
       "      <td>3</td>\n",
       "      <td>0</td>\n",
       "      <td>64991</td>\n",
       "      <td>...</td>\n",
       "      <td>Elijiah Gray</td>\n",
       "      <td>16.0</td>\n",
       "      <td>Indeed</td>\n",
       "      <td>Fully Meets</td>\n",
       "      <td>4.84</td>\n",
       "      <td>5</td>\n",
       "      <td>0</td>\n",
       "      <td>1/3/2019</td>\n",
       "      <td>0</td>\n",
       "      <td>15</td>\n",
       "    </tr>\n",
       "    <tr>\n",
       "      <th>4</th>\n",
       "      <td>Anderson, Carol</td>\n",
       "      <td>10069</td>\n",
       "      <td>0</td>\n",
       "      <td>2</td>\n",
       "      <td>0</td>\n",
       "      <td>5</td>\n",
       "      <td>5</td>\n",
       "      <td>3</td>\n",
       "      <td>0</td>\n",
       "      <td>50825</td>\n",
       "      <td>...</td>\n",
       "      <td>Webster Butler</td>\n",
       "      <td>39.0</td>\n",
       "      <td>Google Search</td>\n",
       "      <td>Fully Meets</td>\n",
       "      <td>5.00</td>\n",
       "      <td>4</td>\n",
       "      <td>0</td>\n",
       "      <td>2/1/2016</td>\n",
       "      <td>0</td>\n",
       "      <td>2</td>\n",
       "    </tr>\n",
       "    <tr>\n",
       "      <th>5</th>\n",
       "      <td>Anderson, Linda</td>\n",
       "      <td>10002</td>\n",
       "      <td>0</td>\n",
       "      <td>0</td>\n",
       "      <td>0</td>\n",
       "      <td>1</td>\n",
       "      <td>5</td>\n",
       "      <td>4</td>\n",
       "      <td>0</td>\n",
       "      <td>57568</td>\n",
       "      <td>...</td>\n",
       "      <td>Amy Dunn</td>\n",
       "      <td>11.0</td>\n",
       "      <td>LinkedIn</td>\n",
       "      <td>Exceeds</td>\n",
       "      <td>5.00</td>\n",
       "      <td>5</td>\n",
       "      <td>0</td>\n",
       "      <td>1/7/2019</td>\n",
       "      <td>0</td>\n",
       "      <td>15</td>\n",
       "    </tr>\n",
       "    <tr>\n",
       "      <th>...</th>\n",
       "      <td>...</td>\n",
       "      <td>...</td>\n",
       "      <td>...</td>\n",
       "      <td>...</td>\n",
       "      <td>...</td>\n",
       "      <td>...</td>\n",
       "      <td>...</td>\n",
       "      <td>...</td>\n",
       "      <td>...</td>\n",
       "      <td>...</td>\n",
       "      <td>...</td>\n",
       "      <td>...</td>\n",
       "      <td>...</td>\n",
       "      <td>...</td>\n",
       "      <td>...</td>\n",
       "      <td>...</td>\n",
       "      <td>...</td>\n",
       "      <td>...</td>\n",
       "      <td>...</td>\n",
       "      <td>...</td>\n",
       "      <td>...</td>\n",
       "    </tr>\n",
       "    <tr>\n",
       "      <th>304</th>\n",
       "      <td>Winthrop, Jordan</td>\n",
       "      <td>10033</td>\n",
       "      <td>0</td>\n",
       "      <td>0</td>\n",
       "      <td>1</td>\n",
       "      <td>5</td>\n",
       "      <td>5</td>\n",
       "      <td>4</td>\n",
       "      <td>0</td>\n",
       "      <td>70507</td>\n",
       "      <td>...</td>\n",
       "      <td>Brannon Miller</td>\n",
       "      <td>12.0</td>\n",
       "      <td>LinkedIn</td>\n",
       "      <td>Exceeds</td>\n",
       "      <td>5.00</td>\n",
       "      <td>3</td>\n",
       "      <td>0</td>\n",
       "      <td>1/19/2016</td>\n",
       "      <td>0</td>\n",
       "      <td>7</td>\n",
       "    </tr>\n",
       "    <tr>\n",
       "      <th>305</th>\n",
       "      <td>Wolk, Hang  T</td>\n",
       "      <td>10174</td>\n",
       "      <td>0</td>\n",
       "      <td>0</td>\n",
       "      <td>0</td>\n",
       "      <td>1</td>\n",
       "      <td>5</td>\n",
       "      <td>3</td>\n",
       "      <td>0</td>\n",
       "      <td>60446</td>\n",
       "      <td>...</td>\n",
       "      <td>David Stanley</td>\n",
       "      <td>14.0</td>\n",
       "      <td>LinkedIn</td>\n",
       "      <td>Fully Meets</td>\n",
       "      <td>3.40</td>\n",
       "      <td>4</td>\n",
       "      <td>0</td>\n",
       "      <td>2/21/2019</td>\n",
       "      <td>0</td>\n",
       "      <td>14</td>\n",
       "    </tr>\n",
       "    <tr>\n",
       "      <th>306</th>\n",
       "      <td>Woodson, Jason</td>\n",
       "      <td>10135</td>\n",
       "      <td>0</td>\n",
       "      <td>0</td>\n",
       "      <td>1</td>\n",
       "      <td>1</td>\n",
       "      <td>5</td>\n",
       "      <td>3</td>\n",
       "      <td>0</td>\n",
       "      <td>65893</td>\n",
       "      <td>...</td>\n",
       "      <td>Kissy Sullivan</td>\n",
       "      <td>20.0</td>\n",
       "      <td>LinkedIn</td>\n",
       "      <td>Fully Meets</td>\n",
       "      <td>4.07</td>\n",
       "      <td>4</td>\n",
       "      <td>0</td>\n",
       "      <td>2/28/2019</td>\n",
       "      <td>0</td>\n",
       "      <td>13</td>\n",
       "    </tr>\n",
       "    <tr>\n",
       "      <th>307</th>\n",
       "      <td>Ybarra, Catherine</td>\n",
       "      <td>10301</td>\n",
       "      <td>0</td>\n",
       "      <td>0</td>\n",
       "      <td>0</td>\n",
       "      <td>5</td>\n",
       "      <td>5</td>\n",
       "      <td>1</td>\n",
       "      <td>0</td>\n",
       "      <td>48513</td>\n",
       "      <td>...</td>\n",
       "      <td>Brannon Miller</td>\n",
       "      <td>12.0</td>\n",
       "      <td>Google Search</td>\n",
       "      <td>PIP</td>\n",
       "      <td>3.20</td>\n",
       "      <td>2</td>\n",
       "      <td>0</td>\n",
       "      <td>9/2/2015</td>\n",
       "      <td>5</td>\n",
       "      <td>4</td>\n",
       "    </tr>\n",
       "    <tr>\n",
       "      <th>310</th>\n",
       "      <td>Zima, Colleen</td>\n",
       "      <td>10271</td>\n",
       "      <td>0</td>\n",
       "      <td>4</td>\n",
       "      <td>0</td>\n",
       "      <td>1</td>\n",
       "      <td>5</td>\n",
       "      <td>3</td>\n",
       "      <td>0</td>\n",
       "      <td>45046</td>\n",
       "      <td>...</td>\n",
       "      <td>David Stanley</td>\n",
       "      <td>14.0</td>\n",
       "      <td>LinkedIn</td>\n",
       "      <td>Fully Meets</td>\n",
       "      <td>4.50</td>\n",
       "      <td>5</td>\n",
       "      <td>0</td>\n",
       "      <td>1/30/2019</td>\n",
       "      <td>0</td>\n",
       "      <td>2</td>\n",
       "    </tr>\n",
       "  </tbody>\n",
       "</table>\n",
       "<p>241 rows × 36 columns</p>\n",
       "</div>"
      ],
      "text/plain": [
       "           Employee_Name  EmpID  MarriedID  MaritalStatusID  GenderID  \\\n",
       "0    Adinolfi, Wilson  K  10026          0                0         1   \n",
       "2      Akinkuolie, Sarah  10196          1                1         0   \n",
       "3           Alagbe,Trina  10088          1                1         0   \n",
       "4       Anderson, Carol   10069          0                2         0   \n",
       "5      Anderson, Linda    10002          0                0         0   \n",
       "..                   ...    ...        ...              ...       ...   \n",
       "304   Winthrop, Jordan    10033          0                0         1   \n",
       "305        Wolk, Hang  T  10174          0                0         0   \n",
       "306       Woodson, Jason  10135          0                0         1   \n",
       "307   Ybarra, Catherine   10301          0                0         0   \n",
       "310        Zima, Colleen  10271          0                4         0   \n",
       "\n",
       "     EmpStatusID  DeptID  PerfScoreID  FromDiversityJobFairID  Salary  ...  \\\n",
       "0              1       5            4                       0   62506  ...   \n",
       "2              5       5            3                       0   64955  ...   \n",
       "3              1       5            3                       0   64991  ...   \n",
       "4              5       5            3                       0   50825  ...   \n",
       "5              1       5            4                       0   57568  ...   \n",
       "..           ...     ...          ...                     ...     ...  ...   \n",
       "304            5       5            4                       0   70507  ...   \n",
       "305            1       5            3                       0   60446  ...   \n",
       "306            1       5            3                       0   65893  ...   \n",
       "307            5       5            1                       0   48513  ...   \n",
       "310            1       5            3                       0   45046  ...   \n",
       "\n",
       "        ManagerName  ManagerID RecruitmentSource PerformanceScore  \\\n",
       "0    Michael Albert       22.0          LinkedIn          Exceeds   \n",
       "2    Kissy Sullivan       20.0          LinkedIn      Fully Meets   \n",
       "3      Elijiah Gray       16.0            Indeed      Fully Meets   \n",
       "4    Webster Butler       39.0     Google Search      Fully Meets   \n",
       "5          Amy Dunn       11.0          LinkedIn          Exceeds   \n",
       "..              ...        ...               ...              ...   \n",
       "304  Brannon Miller       12.0          LinkedIn          Exceeds   \n",
       "305   David Stanley       14.0          LinkedIn      Fully Meets   \n",
       "306  Kissy Sullivan       20.0          LinkedIn      Fully Meets   \n",
       "307  Brannon Miller       12.0     Google Search              PIP   \n",
       "310   David Stanley       14.0          LinkedIn      Fully Meets   \n",
       "\n",
       "     EngagementSurvey EmpSatisfaction SpecialProjectsCount  \\\n",
       "0                4.60               5                    0   \n",
       "2                3.02               3                    0   \n",
       "3                4.84               5                    0   \n",
       "4                5.00               4                    0   \n",
       "5                5.00               5                    0   \n",
       "..                ...             ...                  ...   \n",
       "304              5.00               3                    0   \n",
       "305              3.40               4                    0   \n",
       "306              4.07               4                    0   \n",
       "307              3.20               2                    0   \n",
       "310              4.50               5                    0   \n",
       "\n",
       "    LastPerformanceReview_Date DaysLateLast30 Absences  \n",
       "0                    1/17/2019              0        1  \n",
       "2                    5/15/2012              0        3  \n",
       "3                     1/3/2019              0       15  \n",
       "4                     2/1/2016              0        2  \n",
       "5                     1/7/2019              0       15  \n",
       "..                         ...            ...      ...  \n",
       "304                  1/19/2016              0        7  \n",
       "305                  2/21/2019              0       14  \n",
       "306                  2/28/2019              0       13  \n",
       "307                   9/2/2015              5        4  \n",
       "310                  1/30/2019              0        2  \n",
       "\n",
       "[241 rows x 36 columns]"
      ]
     },
     "execution_count": 68,
     "metadata": {},
     "output_type": "execute_result"
    }
   ],
   "source": [
    "df[df['SpecialProjectsCount']== 0]"
   ]
  },
  {
   "cell_type": "code",
   "execution_count": 71,
   "id": "236938c4",
   "metadata": {},
   "outputs": [],
   "source": [
    "#Insights - Out of 311 employees 70 employees have special project."
   ]
  },
  {
   "cell_type": "code",
   "execution_count": 72,
   "id": "9088bf36",
   "metadata": {},
   "outputs": [],
   "source": [
    "# Visualization data\n",
    "# highest salary vs Lowest Salary\n"
   ]
  },
  {
   "cell_type": "code",
   "execution_count": 73,
   "id": "7f7e3262",
   "metadata": {},
   "outputs": [
    {
     "data": {
      "text/plain": [
       "150    250000\n",
       "308    220450\n",
       "131    180000\n",
       "96     178000\n",
       "55     170500\n",
       "190    157000\n",
       "240    150290\n",
       "244    148999\n",
       "243    140920\n",
       "76     138888\n",
       "Name: Salary, dtype: int64"
      ]
     },
     "execution_count": 73,
     "metadata": {},
     "output_type": "execute_result"
    }
   ],
   "source": [
    "df['Salary'].sort_values(ascending = False).head(10)"
   ]
  },
  {
   "cell_type": "code",
   "execution_count": 74,
   "id": "76d2b729",
   "metadata": {},
   "outputs": [
    {
     "data": {
      "text/plain": [
       "226    46430\n",
       "247    46428\n",
       "74     46335\n",
       "159    46120\n",
       "216    45998\n",
       "152    45433\n",
       "176    45395\n",
       "231    45115\n",
       "140    45069\n",
       "310    45046\n",
       "Name: Salary, dtype: int64"
      ]
     },
     "execution_count": 74,
     "metadata": {},
     "output_type": "execute_result"
    }
   ],
   "source": [
    "df['Salary'].sort_values(ascending = False).tail(10)"
   ]
  },
  {
   "cell_type": "code",
   "execution_count": 87,
   "id": "a89a8955",
   "metadata": {},
   "outputs": [
    {
     "data": {
      "image/png": "[encoded data removed]",
      "text/plain": [
       "<Figure size 640x480 with 1 Axes>"
      ]
     },
     "metadata": {},
     "output_type": "display_data"
    }
   ],
   "source": [
    "c = [1,2,3,4,5,6,7,8,9,10]\n",
    "x = df['Salary'].sort_values(ascending = False).head(10)\n",
    "y = df['Salary'].sort_values(ascending = False).tail(10)\n",
    "plt.bar(c,x,color = 'g', label = \"Highest Salaries\")\n",
    "plt.bar(c,y,color = 'r', label = \"lowest Salaries\")\n",
    "plt.title('Top 10 Higheest Vs Lowest Salaries', fontsize = 14)\n",
    "plt.xticks(c)\n",
    "plt.ylabel('salaries')\n",
    "plt.legend()\n",
    "plt.show()"
   ]
  },
  {
   "cell_type": "code",
   "execution_count": 83,
   "id": "58a4d849",
   "metadata": {},
   "outputs": [
    {
     "data": {
      "text/plain": [
       "226    46430\n",
       "247    46428\n",
       "74     46335\n",
       "159    46120\n",
       "216    45998\n",
       "152    45433\n",
       "176    45395\n",
       "231    45115\n",
       "140    45069\n",
       "310    45046\n",
       "Name: Salary, dtype: int64"
      ]
     },
     "execution_count": 83,
     "metadata": {},
     "output_type": "execute_result"
    }
   ],
   "source": [
    "#Insights -:\n",
    "#Lowest salary are mostly in same range\n",
    "# Highest salary  varies\n",
    "y"
   ]
  },
  {
   "cell_type": "code",
   "execution_count": 84,
   "id": "5fc9f010",
   "metadata": {},
   "outputs": [
    {
     "data": {
      "text/plain": [
       "150    250000\n",
       "308    220450\n",
       "131    180000\n",
       "96     178000\n",
       "55     170500\n",
       "190    157000\n",
       "240    150290\n",
       "244    148999\n",
       "243    140920\n",
       "76     138888\n",
       "Name: Salary, dtype: int64"
      ]
     },
     "execution_count": 84,
     "metadata": {},
     "output_type": "execute_result"
    }
   ],
   "source": [
    "x"
   ]
  },
  {
   "cell_type": "code",
   "execution_count": 88,
   "id": "d6a9b5a5",
   "metadata": {},
   "outputs": [
    {
     "data": {
      "text/plain": [
       "Index(['Employee_Name', 'EmpID', 'MarriedID', 'MaritalStatusID', 'GenderID',\n",
       "       'EmpStatusID', 'DeptID', 'PerfScoreID', 'FromDiversityJobFairID',\n",
       "       'Salary', 'Termd', 'PositionID', 'Position', 'State', 'Zip', 'DOB',\n",
       "       'Sex', 'MaritalDesc', 'CitizenDesc', 'HispanicLatino', 'RaceDesc',\n",
       "       'DateofHire', 'DateofTermination', 'TermReason', 'EmploymentStatus',\n",
       "       'Department', 'ManagerName', 'ManagerID', 'RecruitmentSource',\n",
       "       'PerformanceScore', 'EngagementSurvey', 'EmpSatisfaction',\n",
       "       'SpecialProjectsCount', 'LastPerformanceReview_Date', 'DaysLateLast30',\n",
       "       'Absences'],\n",
       "      dtype='object')"
      ]
     },
     "execution_count": 88,
     "metadata": {},
     "output_type": "execute_result"
    }
   ],
   "source": [
    "df.columns"
   ]
  },
  {
   "cell_type": "markdown",
   "id": "bf356e8b",
   "metadata": {},
   "source": [
    "# sources of recruitment ??"
   ]
  },
  {
   "cell_type": "code",
   "execution_count": 91,
   "id": "0ac60aa8",
   "metadata": {},
   "outputs": [
    {
     "data": {
      "text/plain": [
       "array(['LinkedIn', 'Indeed', 'Google Search', 'Employee Referral',\n",
       "       'Diversity Job Fair', 'On-line Web application', 'CareerBuilder',\n",
       "       'Website', 'Other'], dtype=object)"
      ]
     },
     "execution_count": 91,
     "metadata": {},
     "output_type": "execute_result"
    }
   ],
   "source": [
    "df['RecruitmentSource'].unique()"
   ]
  },
  {
   "cell_type": "code",
   "execution_count": 93,
   "id": "6e607242",
   "metadata": {},
   "outputs": [],
   "source": [
    "l = df['RecruitmentSource'].value_counts()"
   ]
  },
  {
   "cell_type": "code",
   "execution_count": 94,
   "id": "651adc04",
   "metadata": {},
   "outputs": [
    {
     "data": {
      "text/plain": [
       "RecruitmentSource\n",
       "Indeed                     87\n",
       "LinkedIn                   76\n",
       "Google Search              49\n",
       "Employee Referral          31\n",
       "Diversity Job Fair         29\n",
       "CareerBuilder              23\n",
       "Website                    13\n",
       "Other                       2\n",
       "On-line Web application     1\n",
       "Name: count, dtype: int64"
      ]
     },
     "execution_count": 94,
     "metadata": {},
     "output_type": "execute_result"
    }
   ],
   "source": [
    "l"
   ]
  },
  {
   "cell_type": "code",
   "execution_count": 102,
   "id": "c946d446",
   "metadata": {},
   "outputs": [
    {
     "data": {
      "image/png": "[encoded data removed]",
      "text/plain": [
       "<Figure size 640x480 with 1 Axes>"
      ]
     },
     "metadata": {},
     "output_type": "display_data"
    }
   ],
   "source": [
    "plt.barh(l.index, l, color = 'y')\n",
    "plt.title('Recruitment Sources', fontsize = 22)\n",
    "plt.xlabel('No. of Candidates hired')\n",
    "plt.ylabel('Recruitment Score')\n",
    "\n",
    "plt.show()"
   ]
  },
  {
   "cell_type": "code",
   "execution_count": 99,
   "id": "ddb9858c",
   "metadata": {},
   "outputs": [],
   "source": [
    "# Insights -: Indeed is  the most common \n",
    "# Indeed, LinkedIN and google search - Top 3 resources."
   ]
  },
  {
   "cell_type": "code",
   "execution_count": 100,
   "id": "fe1466a8",
   "metadata": {},
   "outputs": [
    {
     "data": {
      "text/plain": [
       "Index(['Employee_Name', 'EmpID', 'MarriedID', 'MaritalStatusID', 'GenderID',\n",
       "       'EmpStatusID', 'DeptID', 'PerfScoreID', 'FromDiversityJobFairID',\n",
       "       'Salary', 'Termd', 'PositionID', 'Position', 'State', 'Zip', 'DOB',\n",
       "       'Sex', 'MaritalDesc', 'CitizenDesc', 'HispanicLatino', 'RaceDesc',\n",
       "       'DateofHire', 'DateofTermination', 'TermReason', 'EmploymentStatus',\n",
       "       'Department', 'ManagerName', 'ManagerID', 'RecruitmentSource',\n",
       "       'PerformanceScore', 'EngagementSurvey', 'EmpSatisfaction',\n",
       "       'SpecialProjectsCount', 'LastPerformanceReview_Date', 'DaysLateLast30',\n",
       "       'Absences'],\n",
       "      dtype='object')"
      ]
     },
     "execution_count": 100,
     "metadata": {},
     "output_type": "execute_result"
    }
   ],
   "source": [
    "df.columns"
   ]
  },
  {
   "cell_type": "code",
   "execution_count": 104,
   "id": "d7111abd",
   "metadata": {},
   "outputs": [],
   "source": [
    "z = df['PerformanceScore'].value_counts()"
   ]
  },
  {
   "cell_type": "code",
   "execution_count": 105,
   "id": "55800137",
   "metadata": {},
   "outputs": [
    {
     "data": {
      "text/plain": [
       "PerformanceScore\n",
       "Fully Meets          243\n",
       "Exceeds               37\n",
       "Needs Improvement     18\n",
       "PIP                   13\n",
       "Name: count, dtype: int64"
      ]
     },
     "execution_count": 105,
     "metadata": {},
     "output_type": "execute_result"
    }
   ],
   "source": [
    "z"
   ]
  },
  {
   "cell_type": "code",
   "execution_count": 109,
   "id": "fe7d4d3e",
   "metadata": {},
   "outputs": [
    {
     "data": {
      "image/png": "[encoded data removed]",
      "text/plain": [
       "<Figure size 1000x600 with 1 Axes>"
      ]
     },
     "metadata": {},
     "output_type": "display_data"
    }
   ],
   "source": [
    "plt.figure(figsize = (10,6))\n",
    "sns.lineplot(data = z , marker = 'o', color = 'purple', linewidth = 5)\n",
    "plt.title('Performance Trend Analysis')\n",
    "plt.xlabel('Performance Score')\n",
    "plt.ylabel('Values')\n",
    "plt.grid()\n",
    "plt.show()"
   ]
  },
  {
   "cell_type": "code",
   "execution_count": 110,
   "id": "62153ae9",
   "metadata": {},
   "outputs": [],
   "source": [
    "# Insights = \n",
    "# General trend is increasing \n",
    "# 50-250 mostly the score "
   ]
  },
  {
   "cell_type": "code",
   "execution_count": 111,
   "id": "07bd4659",
   "metadata": {},
   "outputs": [
    {
     "data": {
      "text/plain": [
       "Index(['Employee_Name', 'EmpID', 'MarriedID', 'MaritalStatusID', 'GenderID',\n",
       "       'EmpStatusID', 'DeptID', 'PerfScoreID', 'FromDiversityJobFairID',\n",
       "       'Salary', 'Termd', 'PositionID', 'Position', 'State', 'Zip', 'DOB',\n",
       "       'Sex', 'MaritalDesc', 'CitizenDesc', 'HispanicLatino', 'RaceDesc',\n",
       "       'DateofHire', 'DateofTermination', 'TermReason', 'EmploymentStatus',\n",
       "       'Department', 'ManagerName', 'ManagerID', 'RecruitmentSource',\n",
       "       'PerformanceScore', 'EngagementSurvey', 'EmpSatisfaction',\n",
       "       'SpecialProjectsCount', 'LastPerformanceReview_Date', 'DaysLateLast30',\n",
       "       'Absences'],\n",
       "      dtype='object')"
      ]
     },
     "execution_count": 111,
     "metadata": {},
     "output_type": "execute_result"
    }
   ],
   "source": [
    "df.columns"
   ]
  },
  {
   "cell_type": "code",
   "execution_count": 112,
   "id": "c802d5d3",
   "metadata": {},
   "outputs": [
    {
     "data": {
      "text/plain": [
       "0      5\n",
       "1      3\n",
       "2      3\n",
       "3      5\n",
       "4      4\n",
       "      ..\n",
       "306    4\n",
       "307    2\n",
       "308    5\n",
       "309    3\n",
       "310    5\n",
       "Name: EmpSatisfaction, Length: 311, dtype: int64"
      ]
     },
     "execution_count": 112,
     "metadata": {},
     "output_type": "execute_result"
    }
   ],
   "source": [
    "df['EmpSatisfaction'] # scale of 1-5\n"
   ]
  },
  {
   "cell_type": "code",
   "execution_count": 114,
   "id": "0cced9e8",
   "metadata": {},
   "outputs": [],
   "source": [
    "b = df['EmpSatisfaction'].value_counts()"
   ]
  },
  {
   "cell_type": "code",
   "execution_count": 115,
   "id": "d7dc9994",
   "metadata": {},
   "outputs": [
    {
     "data": {
      "text/plain": [
       "EmpSatisfaction\n",
       "3    108\n",
       "5     98\n",
       "4     94\n",
       "2      9\n",
       "1      2\n",
       "Name: count, dtype: int64"
      ]
     },
     "execution_count": 115,
     "metadata": {},
     "output_type": "execute_result"
    }
   ],
   "source": [
    "b "
   ]
  },
  {
   "cell_type": "code",
   "execution_count": 117,
   "id": "eac6af03",
   "metadata": {},
   "outputs": [
    {
     "data": {
      "image/png": "[encoded data removed]",
      "text/plain": [
       "<Figure size 640x480 with 1 Axes>"
      ]
     },
     "metadata": {},
     "output_type": "display_data"
    }
   ],
   "source": [
    "plt.stem(b.index, b)\n",
    "plt.title('Satisfaction Analysis')\n",
    "plt.xticks(b.index)\n",
    "plt.ylabel('Emp Satis')\n",
    "plt.xlabel('Rating given')\n",
    "plt.show()\n",
    "\n",
    " "
   ]
  },
  {
   "cell_type": "code",
   "execution_count": 118,
   "id": "8d2a71bf",
   "metadata": {},
   "outputs": [],
   "source": [
    "# insights -:\n",
    "# the most common rating = 3\n"
   ]
  },
  {
   "cell_type": "markdown",
   "id": "123a5194",
   "metadata": {},
   "source": [
    "# Multivariate Analysis "
   ]
  },
  {
   "cell_type": "code",
   "execution_count": 119,
   "id": "b0a4ac60",
   "metadata": {},
   "outputs": [
    {
     "data": {
      "text/plain": [
       "Index(['Employee_Name', 'EmpID', 'MarriedID', 'MaritalStatusID', 'GenderID',\n",
       "       'EmpStatusID', 'DeptID', 'PerfScoreID', 'FromDiversityJobFairID',\n",
       "       'Salary', 'Termd', 'PositionID', 'Position', 'State', 'Zip', 'DOB',\n",
       "       'Sex', 'MaritalDesc', 'CitizenDesc', 'HispanicLatino', 'RaceDesc',\n",
       "       'DateofHire', 'DateofTermination', 'TermReason', 'EmploymentStatus',\n",
       "       'Department', 'ManagerName', 'ManagerID', 'RecruitmentSource',\n",
       "       'PerformanceScore', 'EngagementSurvey', 'EmpSatisfaction',\n",
       "       'SpecialProjectsCount', 'LastPerformanceReview_Date', 'DaysLateLast30',\n",
       "       'Absences'],\n",
       "      dtype='object')"
      ]
     },
     "execution_count": 119,
     "metadata": {},
     "output_type": "execute_result"
    }
   ],
   "source": [
    " df.columns"
   ]
  },
  {
   "cell_type": "markdown",
   "id": "44490454",
   "metadata": {},
   "source": [
    "#  Outliers in salaries in each deptt. ??"
   ]
  },
  {
   "cell_type": "code",
   "execution_count": 128,
   "id": "51db7b99",
   "metadata": {},
   "outputs": [
    {
     "data": {
      "image/png": "[encoded data removed]",
      "text/plain": [
       "<Figure size 2000x800 with 1 Axes>"
      ]
     },
     "metadata": {},
     "output_type": "display_data"
    }
   ],
   "source": [
    "plt.figure(figsize = (20,8))\n",
    "sns.boxplot(x = 'Department', y = 'Salary', data = df, palette = 'viridis')\n",
    "plt.title('Department-Salary')\n",
    "plt.xlabel('Department')\n",
    "plt.ylabel('Salary')\n",
    "plt.xticks(rotation = 45)\n",
    "plt.show()"
   ]
  },
  {
   "cell_type": "code",
   "execution_count": 129,
   "id": "6bca006f",
   "metadata": {},
   "outputs": [],
   "source": [
    "#Insights-:  executive are paid highest salary\n",
    "# each deptt has outliers."
   ]
  },
  {
   "cell_type": "code",
   "execution_count": 130,
   "id": "d8ca63da",
   "metadata": {},
   "outputs": [
    {
     "data": {
      "text/plain": [
       "Index(['Employee_Name', 'EmpID', 'MarriedID', 'MaritalStatusID', 'GenderID',\n",
       "       'EmpStatusID', 'DeptID', 'PerfScoreID', 'FromDiversityJobFairID',\n",
       "       'Salary', 'Termd', 'PositionID', 'Position', 'State', 'Zip', 'DOB',\n",
       "       'Sex', 'MaritalDesc', 'CitizenDesc', 'HispanicLatino', 'RaceDesc',\n",
       "       'DateofHire', 'DateofTermination', 'TermReason', 'EmploymentStatus',\n",
       "       'Department', 'ManagerName', 'ManagerID', 'RecruitmentSource',\n",
       "       'PerformanceScore', 'EngagementSurvey', 'EmpSatisfaction',\n",
       "       'SpecialProjectsCount', 'LastPerformanceReview_Date', 'DaysLateLast30',\n",
       "       'Absences'],\n",
       "      dtype='object')"
      ]
     },
     "execution_count": 130,
     "metadata": {},
     "output_type": "execute_result"
    }
   ],
   "source": [
    "df.columns"
   ]
  },
  {
   "cell_type": "code",
   "execution_count": 131,
   "id": "68193987",
   "metadata": {},
   "outputs": [
    {
     "data": {
      "text/plain": [
       "0       Production Technician I\n",
       "1                       Sr. DBA\n",
       "2      Production Technician II\n",
       "3       Production Technician I\n",
       "4       Production Technician I\n",
       "                 ...           \n",
       "306    Production Technician II\n",
       "307     Production Technician I\n",
       "308                         CIO\n",
       "309                Data Analyst\n",
       "310     Production Technician I\n",
       "Name: Position, Length: 311, dtype: object"
      ]
     },
     "execution_count": 131,
     "metadata": {},
     "output_type": "execute_result"
    }
   ],
   "source": [
    "df.Position"
   ]
  },
  {
   "cell_type": "code",
   "execution_count": 132,
   "id": "b70e60fe",
   "metadata": {},
   "outputs": [
    {
     "data": {
      "text/plain": [
       "0      4.60\n",
       "1      4.96\n",
       "2      3.02\n",
       "3      4.84\n",
       "4      5.00\n",
       "       ... \n",
       "306    4.07\n",
       "307    3.20\n",
       "308    4.60\n",
       "309    5.00\n",
       "310    4.50\n",
       "Name: EngagementSurvey, Length: 311, dtype: float64"
      ]
     },
     "execution_count": 132,
     "metadata": {},
     "output_type": "execute_result"
    }
   ],
   "source": [
    "df.EngagementSurvey"
   ]
  },
  {
   "cell_type": "code",
   "execution_count": 143,
   "id": "a0a826c2",
   "metadata": {},
   "outputs": [
    {
     "data": {
      "image/png": "[encoded data removed]",
      "text/plain": [
       "<Figure size 1500x800 with 1 Axes>"
      ]
     },
     "metadata": {},
     "output_type": "display_data"
    }
   ],
   "source": [
    "plt.figure(figsize = (15,8))\n",
    "sns.barplot(x ='Position', y='EngagementSurvey', data = df, palette = 'muted')\n",
    "plt.xticks(rotation = 45)\n",
    "\n",
    "plt.show()"
   ]
  },
  {
   "cell_type": "markdown",
   "id": "7521a460",
   "metadata": {},
   "source": [
    "# Marital Status by Gender ?"
   ]
  },
  {
   "cell_type": "code",
   "execution_count": 150,
   "id": "4a43141f",
   "metadata": {},
   "outputs": [
    {
     "ename": "AttributeError",
     "evalue": "'numpy.int64' object has no attribute 'startswith'",
     "output_type": "error",
     "traceback": [
      "\u001b[1;31m---------------------------------------------------------------------------\u001b[0m",
      "\u001b[1;31mAttributeError\u001b[0m                            Traceback (most recent call last)",
      "Cell \u001b[1;32mIn[150], line 1\u001b[0m\n\u001b[1;32m----> 1\u001b[0m sns\u001b[38;5;241m.\u001b[39mcountplot(x\u001b[38;5;241m=\u001b[39m\u001b[38;5;124m'\u001b[39m\u001b[38;5;124mMaritalDesc\u001b[39m\u001b[38;5;124m'\u001b[39m, hue\u001b[38;5;241m=\u001b[39m\u001b[38;5;124m'\u001b[39m\u001b[38;5;124mGenderID\u001b[39m\u001b[38;5;124m'\u001b[39m, data \u001b[38;5;241m=\u001b[39m df, palette \u001b[38;5;241m=\u001b[39m \u001b[38;5;124m'\u001b[39m\u001b[38;5;124mpastel\u001b[39m\u001b[38;5;124m'\u001b[39m )\n\u001b[0;32m      3\u001b[0m plt\u001b[38;5;241m.\u001b[39mshow()\n",
      "File \u001b[1;32m~\\anaconda3\\Lib\\site-packages\\seaborn\\categorical.py:2955\u001b[0m, in \u001b[0;36mcountplot\u001b[1;34m(data, x, y, hue, order, hue_order, orient, color, palette, saturation, width, dodge, ax, **kwargs)\u001b[0m\n\u001b[0;32m   2952\u001b[0m \u001b[38;5;28;01mif\u001b[39;00m ax \u001b[38;5;129;01mis\u001b[39;00m \u001b[38;5;28;01mNone\u001b[39;00m:\n\u001b[0;32m   2953\u001b[0m     ax \u001b[38;5;241m=\u001b[39m plt\u001b[38;5;241m.\u001b[39mgca()\n\u001b[1;32m-> 2955\u001b[0m plotter\u001b[38;5;241m.\u001b[39mplot(ax, kwargs)\n\u001b[0;32m   2956\u001b[0m \u001b[38;5;28;01mreturn\u001b[39;00m ax\n",
      "File \u001b[1;32m~\\anaconda3\\Lib\\site-packages\\seaborn\\categorical.py:1587\u001b[0m, in \u001b[0;36m_BarPlotter.plot\u001b[1;34m(self, ax, bar_kws)\u001b[0m\n\u001b[0;32m   1585\u001b[0m \u001b[38;5;250m\u001b[39m\u001b[38;5;124;03m\"\"\"Make the plot.\"\"\"\u001b[39;00m\n\u001b[0;32m   1586\u001b[0m \u001b[38;5;28mself\u001b[39m\u001b[38;5;241m.\u001b[39mdraw_bars(ax, bar_kws)\n\u001b[1;32m-> 1587\u001b[0m \u001b[38;5;28mself\u001b[39m\u001b[38;5;241m.\u001b[39mannotate_axes(ax)\n\u001b[0;32m   1588\u001b[0m \u001b[38;5;28;01mif\u001b[39;00m \u001b[38;5;28mself\u001b[39m\u001b[38;5;241m.\u001b[39morient \u001b[38;5;241m==\u001b[39m \u001b[38;5;124m\"\u001b[39m\u001b[38;5;124mh\u001b[39m\u001b[38;5;124m\"\u001b[39m:\n\u001b[0;32m   1589\u001b[0m     ax\u001b[38;5;241m.\u001b[39minvert_yaxis()\n",
      "File \u001b[1;32m~\\anaconda3\\Lib\\site-packages\\seaborn\\categorical.py:767\u001b[0m, in \u001b[0;36m_CategoricalPlotter.annotate_axes\u001b[1;34m(self, ax)\u001b[0m\n\u001b[0;32m    764\u001b[0m     ax\u001b[38;5;241m.\u001b[39mset_ylim(\u001b[38;5;241m-\u001b[39m\u001b[38;5;241m.5\u001b[39m, \u001b[38;5;28mlen\u001b[39m(\u001b[38;5;28mself\u001b[39m\u001b[38;5;241m.\u001b[39mplot_data) \u001b[38;5;241m-\u001b[39m \u001b[38;5;241m.5\u001b[39m, auto\u001b[38;5;241m=\u001b[39m\u001b[38;5;28;01mNone\u001b[39;00m)\n\u001b[0;32m    766\u001b[0m \u001b[38;5;28;01mif\u001b[39;00m \u001b[38;5;28mself\u001b[39m\u001b[38;5;241m.\u001b[39mhue_names \u001b[38;5;129;01mis\u001b[39;00m \u001b[38;5;129;01mnot\u001b[39;00m \u001b[38;5;28;01mNone\u001b[39;00m:\n\u001b[1;32m--> 767\u001b[0m     ax\u001b[38;5;241m.\u001b[39mlegend(loc\u001b[38;5;241m=\u001b[39m\u001b[38;5;124m\"\u001b[39m\u001b[38;5;124mbest\u001b[39m\u001b[38;5;124m\"\u001b[39m, title\u001b[38;5;241m=\u001b[39m\u001b[38;5;28mself\u001b[39m\u001b[38;5;241m.\u001b[39mhue_title)\n",
      "File \u001b[1;32m~\\anaconda3\\Lib\\site-packages\\matplotlib\\axes\\_axes.py:322\u001b[0m, in \u001b[0;36mAxes.legend\u001b[1;34m(self, *args, **kwargs)\u001b[0m\n\u001b[0;32m    204\u001b[0m \u001b[38;5;129m@_docstring\u001b[39m\u001b[38;5;241m.\u001b[39mdedent_interpd\n\u001b[0;32m    205\u001b[0m \u001b[38;5;28;01mdef\u001b[39;00m \u001b[38;5;21mlegend\u001b[39m(\u001b[38;5;28mself\u001b[39m, \u001b[38;5;241m*\u001b[39margs, \u001b[38;5;241m*\u001b[39m\u001b[38;5;241m*\u001b[39mkwargs):\n\u001b[0;32m    206\u001b[0m \u001b[38;5;250m    \u001b[39m\u001b[38;5;124;03m\"\"\"\u001b[39;00m\n\u001b[0;32m    207\u001b[0m \u001b[38;5;124;03m    Place a legend on the Axes.\u001b[39;00m\n\u001b[0;32m    208\u001b[0m \n\u001b[1;32m   (...)\u001b[0m\n\u001b[0;32m    320\u001b[0m \u001b[38;5;124;03m    .. plot:: gallery/text_labels_and_annotations/legend.py\u001b[39;00m\n\u001b[0;32m    321\u001b[0m \u001b[38;5;124;03m    \"\"\"\u001b[39;00m\n\u001b[1;32m--> 322\u001b[0m     handles, labels, kwargs \u001b[38;5;241m=\u001b[39m mlegend\u001b[38;5;241m.\u001b[39m_parse_legend_args([\u001b[38;5;28mself\u001b[39m], \u001b[38;5;241m*\u001b[39margs, \u001b[38;5;241m*\u001b[39m\u001b[38;5;241m*\u001b[39mkwargs)\n\u001b[0;32m    323\u001b[0m     \u001b[38;5;28mself\u001b[39m\u001b[38;5;241m.\u001b[39mlegend_ \u001b[38;5;241m=\u001b[39m mlegend\u001b[38;5;241m.\u001b[39mLegend(\u001b[38;5;28mself\u001b[39m, handles, labels, \u001b[38;5;241m*\u001b[39m\u001b[38;5;241m*\u001b[39mkwargs)\n\u001b[0;32m    324\u001b[0m     \u001b[38;5;28mself\u001b[39m\u001b[38;5;241m.\u001b[39mlegend_\u001b[38;5;241m.\u001b[39m_remove_method \u001b[38;5;241m=\u001b[39m \u001b[38;5;28mself\u001b[39m\u001b[38;5;241m.\u001b[39m_remove_legend\n",
      "File \u001b[1;32m~\\anaconda3\\Lib\\site-packages\\matplotlib\\legend.py:1361\u001b[0m, in \u001b[0;36m_parse_legend_args\u001b[1;34m(axs, handles, labels, *args, **kwargs)\u001b[0m\n\u001b[0;32m   1357\u001b[0m     handles \u001b[38;5;241m=\u001b[39m [handle \u001b[38;5;28;01mfor\u001b[39;00m handle, label\n\u001b[0;32m   1358\u001b[0m                \u001b[38;5;129;01min\u001b[39;00m \u001b[38;5;28mzip\u001b[39m(_get_legend_handles(axs, handlers), labels)]\n\u001b[0;32m   1360\u001b[0m \u001b[38;5;28;01melif\u001b[39;00m \u001b[38;5;28mlen\u001b[39m(args) \u001b[38;5;241m==\u001b[39m \u001b[38;5;241m0\u001b[39m:  \u001b[38;5;66;03m# 0 args: automatically detect labels and handles.\u001b[39;00m\n\u001b[1;32m-> 1361\u001b[0m     handles, labels \u001b[38;5;241m=\u001b[39m _get_legend_handles_labels(axs, handlers)\n\u001b[0;32m   1362\u001b[0m     \u001b[38;5;28;01mif\u001b[39;00m \u001b[38;5;129;01mnot\u001b[39;00m handles:\n\u001b[0;32m   1363\u001b[0m         log\u001b[38;5;241m.\u001b[39mwarning(\n\u001b[0;32m   1364\u001b[0m             \u001b[38;5;124m\"\u001b[39m\u001b[38;5;124mNo artists with labels found to put in legend.  Note that \u001b[39m\u001b[38;5;124m\"\u001b[39m\n\u001b[0;32m   1365\u001b[0m             \u001b[38;5;124m\"\u001b[39m\u001b[38;5;124martists whose label start with an underscore are ignored \u001b[39m\u001b[38;5;124m\"\u001b[39m\n\u001b[0;32m   1366\u001b[0m             \u001b[38;5;124m\"\u001b[39m\u001b[38;5;124mwhen legend() is called with no argument.\u001b[39m\u001b[38;5;124m\"\u001b[39m)\n",
      "File \u001b[1;32m~\\anaconda3\\Lib\\site-packages\\matplotlib\\legend.py:1291\u001b[0m, in \u001b[0;36m_get_legend_handles_labels\u001b[1;34m(axs, legend_handler_map)\u001b[0m\n\u001b[0;32m   1289\u001b[0m \u001b[38;5;28;01mfor\u001b[39;00m handle \u001b[38;5;129;01min\u001b[39;00m _get_legend_handles(axs, legend_handler_map):\n\u001b[0;32m   1290\u001b[0m     label \u001b[38;5;241m=\u001b[39m handle\u001b[38;5;241m.\u001b[39mget_label()\n\u001b[1;32m-> 1291\u001b[0m     \u001b[38;5;28;01mif\u001b[39;00m label \u001b[38;5;129;01mand\u001b[39;00m \u001b[38;5;129;01mnot\u001b[39;00m label\u001b[38;5;241m.\u001b[39mstartswith(\u001b[38;5;124m'\u001b[39m\u001b[38;5;124m_\u001b[39m\u001b[38;5;124m'\u001b[39m):\n\u001b[0;32m   1292\u001b[0m         handles\u001b[38;5;241m.\u001b[39mappend(handle)\n\u001b[0;32m   1293\u001b[0m         labels\u001b[38;5;241m.\u001b[39mappend(label)\n",
      "\u001b[1;31mAttributeError\u001b[0m: 'numpy.int64' object has no attribute 'startswith'"
     ]
    },
    {
     "data": {
      "image/png": "[encoded data removed]",
      "text/plain": [
       "<Figure size 640x480 with 1 Axes>"
      ]
     },
     "metadata": {},
     "output_type": "display_data"
    }
   ],
   "source": [
    "sns.countplot(x='MaritalDesc', hue='GenderID', data = df, palette = 'pastel' )\n",
    "\n",
    "plt.show()"
   ]
  },
  {
   "cell_type": "markdown",
   "id": "439cbc96",
   "metadata": {},
   "source": [
    "# # what is the avg engagement score in each deptt. ??"
   ]
  },
  {
   "cell_type": "code",
   "execution_count": 151,
   "id": "0a8a26bd",
   "metadata": {},
   "outputs": [
    {
     "data": {
      "text/plain": [
       "Department\n",
       "Admin Offices           4.393333\n",
       "Executive Office        4.830000\n",
       "IT/IS                   4.154000\n",
       "Production              4.129569\n",
       "Sales                   3.818710\n",
       "Software Engineering    4.061818\n",
       "Name: EngagementSurvey, dtype: float64"
      ]
     },
     "execution_count": 151,
     "metadata": {},
     "output_type": "execute_result"
    }
   ],
   "source": [
    "df.groupby('Department')['EngagementSurvey'].mean()"
   ]
  },
  {
   "cell_type": "markdown",
   "id": "5999592c",
   "metadata": {},
   "source": [
    "# Internal H/W ??\n",
    "# How many employees have been terminated from each position ?"
   ]
  },
  {
   "cell_type": "code",
   "execution_count": 156,
   "id": "f0d109d4",
   "metadata": {},
   "outputs": [
    {
     "data": {
      "text/plain": [
       "Position\n",
       "Administrative Assistant     2\n",
       "Area Sales Manager           4\n",
       "Data Analyst                 1\n",
       "Data Analyst                 1\n",
       "Database Administrator       3\n",
       "Enterprise Architect         1\n",
       "IT Manager - DB              1\n",
       "Network Engineer             1\n",
       "Principal Data Architect     1\n",
       "Production Manager           5\n",
       "Production Technician I     52\n",
       "Production Technician II    26\n",
       "Sales Manager                1\n",
       "Software Engineer            4\n",
       "Sr. DBA                      1\n",
       "Name: Employee_Name, dtype: int64"
      ]
     },
     "execution_count": 156,
     "metadata": {},
     "output_type": "execute_result"
    }
   ],
   "source": [
    "df[df['Termd'] == 1].groupby('Position')['Employee_Name'].count()"
   ]
  },
  {
   "cell_type": "markdown",
   "id": "f15592e6",
   "metadata": {},
   "source": [
    "# What is the median salary of Male and female employees ? "
   ]
  },
  {
   "cell_type": "code",
   "execution_count": 157,
   "id": "ca304d49",
   "metadata": {},
   "outputs": [
    {
     "data": {
      "text/plain": [
       "Sex\n",
       "F     62066.5\n",
       "M     63353.0\n",
       "Name: Salary, dtype: float64"
      ]
     },
     "execution_count": 157,
     "metadata": {},
     "output_type": "execute_result"
    }
   ],
   "source": [
    "df.groupby('Sex')['Salary'].median()"
   ]
  },
  {
   "cell_type": "code",
   "execution_count": null,
   "id": "f586c78a",
   "metadata": {},
   "outputs": [],
   "source": []
  }
 ],
 "metadata": {
  "kernelspec": {
   "display_name": "Python 3 (ipykernel)",
   "language": "python",
   "name": "python3"
  },
  "language_info": {
   "codemirror_mode": {
    "name": "ipython",
    "version": 3
   },
   "file_extension": ".py",
   "mimetype": "text/x-python",
   "name": "python",
   "nbconvert_exporter": "python",
   "pygments_lexer": "ipython3",
   "version": "3.11.7"
  }
 },
 "nbformat": 4,
 "nbformat_minor": 5
}
