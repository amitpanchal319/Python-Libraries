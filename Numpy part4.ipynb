{
 "cells": [
  {
   "cell_type": "code",
   "execution_count": 1,
   "id": "ad92f4a2-f44f-466d-abf1-c4f49f4e803c",
   "metadata": {},
   "outputs": [],
   "source": [
    "import numpy as np"
   ]
  },
  {
   "cell_type": "code",
   "execution_count": 2,
   "id": "8a47edc0-2d5e-4cd0-ad51-866239ec9ee2",
   "metadata": {},
   "outputs": [
    {
     "data": {
      "text/plain": [
       "array([2, 3, 4, 5, 6])"
      ]
     },
     "execution_count": 2,
     "metadata": {},
     "output_type": "execute_result"
    }
   ],
   "source": [
    "np.array([2,3,4,5,6])"
   ]
  },
  {
   "cell_type": "code",
   "execution_count": 14,
   "id": "695c1d5c-de88-4def-9100-1144fb3eceb5",
   "metadata": {},
   "outputs": [],
   "source": [
    "arr = np.array([26,35,14,5,61,98,54,23])"
   ]
  },
  {
   "cell_type": "code",
   "execution_count": 12,
   "id": "bafb6943-a8eb-4d75-a1a2-1f33e0dedf39",
   "metadata": {},
   "outputs": [
    {
     "data": {
      "text/plain": [
       "array([2, 3, 4, 5, 6])"
      ]
     },
     "execution_count": 12,
     "metadata": {},
     "output_type": "execute_result"
    }
   ],
   "source": [
    "arr"
   ]
  },
  {
   "cell_type": "code",
   "execution_count": 19,
   "id": "66afef61-0e94-4875-848e-ad5afaf938d0",
   "metadata": {},
   "outputs": [
    {
     "data": {
      "text/plain": [
       "array([ 5, 14, 23, 26, 35, 54, 61, 98])"
      ]
     },
     "execution_count": 19,
     "metadata": {},
     "output_type": "execute_result"
    }
   ],
   "source": [
    "np.sort(arr)"
   ]
  },
  {
   "cell_type": "code",
   "execution_count": 23,
   "id": "b5ae45b2-c0b7-4ef1-91e9-731c1bfc2641",
   "metadata": {},
   "outputs": [
    {
     "data": {
      "text/plain": [
       "0"
      ]
     },
     "execution_count": 23,
     "metadata": {},
     "output_type": "execute_result"
    }
   ],
   "source": [
    "np.searchsorted(arr,3)"
   ]
  },
  {
   "cell_type": "code",
   "execution_count": 24,
   "id": "688ae084-d5cd-4532-913f-9b2a37557c7c",
   "metadata": {},
   "outputs": [],
   "source": [
    "arr1 = np.array([0,324,765,76,98,5,0,0,0,234])"
   ]
  },
  {
   "cell_type": "code",
   "execution_count": 25,
   "id": "48d96ae8-b6a1-4d8e-8cbb-c9febcc1c3af",
   "metadata": {},
   "outputs": [
    {
     "data": {
      "text/plain": [
       "6"
      ]
     },
     "execution_count": 25,
     "metadata": {},
     "output_type": "execute_result"
    }
   ],
   "source": [
    "np.count_nonzero(arr1)"
   ]
  },
  {
   "cell_type": "code",
   "execution_count": 26,
   "id": "9c87fe9c-45cb-4a54-9373-caf24d56f3c3",
   "metadata": {},
   "outputs": [
    {
     "data": {
      "text/plain": [
       "(array([1, 2, 3, 4, 5, 9], dtype=int64),)"
      ]
     },
     "execution_count": 26,
     "metadata": {},
     "output_type": "execute_result"
    }
   ],
   "source": [
    "np.where(arr1>0)"
   ]
  },
  {
   "cell_type": "code",
   "execution_count": 32,
   "id": "6210cc94-5ec9-47cf-8f21-a5c3490920c5",
   "metadata": {},
   "outputs": [
    {
     "data": {
      "text/plain": [
       "array([324, 765,  76,  98,   5, 234])"
      ]
     },
     "execution_count": 32,
     "metadata": {},
     "output_type": "execute_result"
    }
   ],
   "source": [
    "np.extract(arr1>2,arr1)"
   ]
  },
  {
   "cell_type": "code",
   "execution_count": null,
   "id": "45e5efef-1bba-417f-8a82-48583bede31b",
   "metadata": {},
   "outputs": [],
   "source": [
    "#Numpy - Byte swapping"
   ]
  },
  {
   "cell_type": "code",
   "execution_count": 33,
   "id": "6af61e87-b8e7-4081-bb8b-edcab65d09c9",
   "metadata": {},
   "outputs": [
    {
     "data": {
      "text/plain": [
       "array([  0, 324, 765,  76,  98,   5,   0,   0,   0, 234])"
      ]
     },
     "execution_count": 33,
     "metadata": {},
     "output_type": "execute_result"
    }
   ],
   "source": [
    "arr1"
   ]
  },
  {
   "cell_type": "code",
   "execution_count": 37,
   "id": "02499aea-21f2-4c1b-b23f-f070b0e371a7",
   "metadata": {},
   "outputs": [
    {
     "data": {
      "text/plain": [
       "array([ 436207616,  587202560,  234881024,   83886080, 1023410176,\n",
       "       1644167168,  905969664,  385875968])"
      ]
     },
     "execution_count": 37,
     "metadata": {},
     "output_type": "execute_result"
    }
   ],
   "source": [
    "arr.byteswap(True)"
   ]
  },
  {
   "cell_type": "code",
   "execution_count": 38,
   "id": "294a3bc5-1bb9-4a55-b267-6b1705e45464",
   "metadata": {},
   "outputs": [
    {
     "data": {
      "text/plain": [
       "array([ 436207616,  587202560,  234881024,   83886080, 1023410176,\n",
       "       1644167168,  905969664,  385875968])"
      ]
     },
     "execution_count": 38,
     "metadata": {},
     "output_type": "execute_result"
    }
   ],
   "source": [
    "arr"
   ]
  },
  {
   "cell_type": "code",
   "execution_count": 39,
   "id": "05a2ae54-9c8b-470e-992a-1082e0180d75",
   "metadata": {},
   "outputs": [
    {
     "data": {
      "text/plain": [
       "array([ 436207616,  587202560,  234881024,   83886080, 1023410176,\n",
       "       1644167168,  905969664,  385875968])"
      ]
     },
     "execution_count": 39,
     "metadata": {},
     "output_type": "execute_result"
    }
   ],
   "source": [
    "arr"
   ]
  },
  {
   "cell_type": "code",
   "execution_count": null,
   "id": "608a676b-5315-4a69-b4d7-bab77cecbdd9",
   "metadata": {},
   "outputs": [],
   "source": [
    "#numpy - Copies & Views"
   ]
  },
  {
   "cell_type": "code",
   "execution_count": 40,
   "id": "99180483-c501-4a42-a8a8-4b1227c1a67b",
   "metadata": {},
   "outputs": [
    {
     "data": {
      "text/plain": [
       "array([ 436207616,  587202560,  234881024,   83886080, 1023410176,\n",
       "       1644167168,  905969664,  385875968])"
      ]
     },
     "execution_count": 40,
     "metadata": {},
     "output_type": "execute_result"
    }
   ],
   "source": [
    "arr "
   ]
  },
  {
   "cell_type": "code",
   "execution_count": 41,
   "id": "7834500c-804f-4be4-a63d-6a61b237934a",
   "metadata": {},
   "outputs": [],
   "source": [
    "a = np.copy(arr1)"
   ]
  },
  {
   "cell_type": "code",
   "execution_count": 43,
   "id": "965ccbf2-16e1-4e99-960d-67640274640d",
   "metadata": {},
   "outputs": [],
   "source": [
    "b = arr1.view()"
   ]
  },
  {
   "cell_type": "code",
   "execution_count": 47,
   "id": "ff318388-ac47-43f7-8f74-aa0ee4bebfaa",
   "metadata": {},
   "outputs": [
    {
     "data": {
      "text/plain": [
       "array([234, 324, 765,  76,  98,   5,   0,   0,   0, 234])"
      ]
     },
     "execution_count": 47,
     "metadata": {},
     "output_type": "execute_result"
    }
   ],
   "source": [
    "b"
   ]
  },
  {
   "cell_type": "code",
   "execution_count": 49,
   "id": "a496b05b-e4b0-4a35-893d-fa5fe0d461b0",
   "metadata": {},
   "outputs": [],
   "source": [
    "b[0]= 234"
   ]
  },
  {
   "cell_type": "code",
   "execution_count": 50,
   "id": "79489f87-52bd-420a-bf87-31661278c9ee",
   "metadata": {},
   "outputs": [
    {
     "data": {
      "text/plain": [
       "array([234, 324, 765,  76,  98,   5,   0,   0,   0, 234])"
      ]
     },
     "execution_count": 50,
     "metadata": {},
     "output_type": "execute_result"
    }
   ],
   "source": [
    "b"
   ]
  },
  {
   "cell_type": "code",
   "execution_count": 51,
   "id": "32630d01-0eb1-43dc-adfb-a194882fc04c",
   "metadata": {},
   "outputs": [
    {
     "data": {
      "text/plain": [
       "array([234, 324, 765,  76,  98,   5,   0,   0,   0, 234])"
      ]
     },
     "execution_count": 51,
     "metadata": {},
     "output_type": "execute_result"
    }
   ],
   "source": [
    "arr1"
   ]
  },
  {
   "cell_type": "code",
   "execution_count": null,
   "id": "935998ce-d677-4fd7-a88d-6a341823ec85",
   "metadata": {},
   "outputs": [],
   "source": []
  },
  {
   "cell_type": "code",
   "execution_count": null,
   "id": "71b08715-b7f7-48cb-9bcf-605a2d97c5dc",
   "metadata": {},
   "outputs": [],
   "source": [
    "#Numpy - Matrix Library."
   ]
  },
  {
   "cell_type": "code",
   "execution_count": 52,
   "id": "f14ea78c-6e5a-41d1-a28a-e755e080deca",
   "metadata": {},
   "outputs": [],
   "source": [
    "import numpy.matlib as nm"
   ]
  },
  {
   "cell_type": "code",
   "execution_count": 53,
   "id": "3f86c137-6114-45c3-8f13-6bf5149ec928",
   "metadata": {},
   "outputs": [
    {
     "data": {
      "text/plain": [
       "matrix([[0., 0., 0., 0., 0.]])"
      ]
     },
     "execution_count": 53,
     "metadata": {},
     "output_type": "execute_result"
    }
   ],
   "source": [
    "nm.zeros(5)"
   ]
  },
  {
   "cell_type": "code",
   "execution_count": 54,
   "id": "a37c19b5-a3b3-42cd-940c-e8a2ee1d9656",
   "metadata": {},
   "outputs": [
    {
     "data": {
      "text/plain": [
       "matrix([[1., 1., 1., 1.],\n",
       "        [1., 1., 1., 1.],\n",
       "        [1., 1., 1., 1.]])"
      ]
     },
     "execution_count": 54,
     "metadata": {},
     "output_type": "execute_result"
    }
   ],
   "source": [
    "nm.ones((3,4))"
   ]
  },
  {
   "cell_type": "code",
   "execution_count": 55,
   "id": "d0376653-6c42-4a81-98bb-ea980e587d6e",
   "metadata": {},
   "outputs": [
    {
     "data": {
      "text/plain": [
       "matrix([[1., 0., 0., 0.],\n",
       "        [0., 1., 0., 0.],\n",
       "        [0., 0., 1., 0.],\n",
       "        [0., 0., 0., 1.]])"
      ]
     },
     "execution_count": 55,
     "metadata": {},
     "output_type": "execute_result"
    }
   ],
   "source": [
    "nm.eye(4)"
   ]
  },
  {
   "cell_type": "code",
   "execution_count": null,
   "id": "539fa4dd-a460-4fe8-8783-0d795b445bbc",
   "metadata": {},
   "outputs": [],
   "source": [
    " "
   ]
  },
  {
   "cell_type": "code",
   "execution_count": null,
   "id": "301a6f83-e35a-4a29-9383-3020ed6b3c2f",
   "metadata": {},
   "outputs": [],
   "source": [
    "#Numpy - Linear Algebra"
   ]
  },
  {
   "cell_type": "code",
   "execution_count": 56,
   "id": "7de9637f-e537-43c9-aba7-3d8668f61887",
   "metadata": {},
   "outputs": [
    {
     "data": {
      "text/plain": [
       "array([234, 324, 765,  76,  98,   5,   0,   0,   0, 234])"
      ]
     },
     "execution_count": 56,
     "metadata": {},
     "output_type": "execute_result"
    }
   ],
   "source": [
    "arr1"
   ]
  },
  {
   "cell_type": "code",
   "execution_count": 62,
   "id": "9f75d44c-8e0a-4546-9911-ae4d1aa94cce",
   "metadata": {},
   "outputs": [],
   "source": [
    "arr1 = np.random.randint([[2,3],[4,5]])"
   ]
  },
  {
   "cell_type": "code",
   "execution_count": 61,
   "id": "04ccdce2-c879-4c0a-9c4f-22c27aa8f7bb",
   "metadata": {},
   "outputs": [],
   "source": [
    "arr2 = np.random.randint([[5,3],[2,5]])"
   ]
  },
  {
   "cell_type": "code",
   "execution_count": 63,
   "id": "bbc56de3-ce75-42e8-a3cd-840579e1367d",
   "metadata": {},
   "outputs": [
    {
     "data": {
      "text/plain": [
       "array([[1, 1],\n",
       "       [0, 1]])"
      ]
     },
     "execution_count": 63,
     "metadata": {},
     "output_type": "execute_result"
    }
   ],
   "source": [
    "arr1"
   ]
  },
  {
   "cell_type": "code",
   "execution_count": 64,
   "id": "75a2b7e2-976d-46b8-93f8-52711d8a935c",
   "metadata": {},
   "outputs": [
    {
     "data": {
      "text/plain": [
       "array([[1, 0],\n",
       "       [1, 4]])"
      ]
     },
     "execution_count": 64,
     "metadata": {},
     "output_type": "execute_result"
    }
   ],
   "source": [
    "arr2"
   ]
  },
  {
   "cell_type": "code",
   "execution_count": 65,
   "id": "e27919e8-b4f7-4296-8b14-0c4281e1cecb",
   "metadata": {},
   "outputs": [
    {
     "data": {
      "text/plain": [
       "array([[2, 4],\n",
       "       [1, 4]])"
      ]
     },
     "execution_count": 65,
     "metadata": {},
     "output_type": "execute_result"
    }
   ],
   "source": [
    "np.dot(arr1,arr2)"
   ]
  },
  {
   "cell_type": "code",
   "execution_count": 66,
   "id": "0d220497-f279-46fb-9479-ac087f269e9b",
   "metadata": {},
   "outputs": [
    {
     "data": {
      "text/plain": [
       "array([[2, 4],\n",
       "       [1, 4]])"
      ]
     },
     "execution_count": 66,
     "metadata": {},
     "output_type": "execute_result"
    }
   ],
   "source": [
    "arr1@arr2"
   ]
  },
  {
   "cell_type": "code",
   "execution_count": null,
   "id": "0219ea7a-4940-4159-8367-feb3d8efbf93",
   "metadata": {},
   "outputs": [],
   "source": []
  },
  {
   "cell_type": "code",
   "execution_count": null,
   "id": "c01063fa-c7db-463d-a13a-f74bff34e1be",
   "metadata": {},
   "outputs": [],
   "source": []
  },
  {
   "cell_type": "code",
   "execution_count": null,
   "id": "e728229f-2857-4826-93c3-171ef3001a64",
   "metadata": {},
   "outputs": [],
   "source": []
  },
  {
   "cell_type": "code",
   "execution_count": null,
   "id": "34070062-4feb-4898-b166-a3fa27afc549",
   "metadata": {},
   "outputs": [],
   "source": []
  },
  {
   "cell_type": "code",
   "execution_count": null,
   "id": "2ff1b46b-e95e-433c-8085-5668d30312c0",
   "metadata": {},
   "outputs": [],
   "source": []
  },
  {
   "cell_type": "code",
   "execution_count": null,
   "id": "1649c210-c6a4-4a1e-8113-e262fae8c289",
   "metadata": {},
   "outputs": [],
   "source": []
  },
  {
   "cell_type": "code",
   "execution_count": null,
   "id": "6bdc7a87-3b4a-46e1-acd1-09f53f07ee13",
   "metadata": {},
   "outputs": [],
   "source": []
  },
  {
   "cell_type": "code",
   "execution_count": null,
   "id": "d97e7e14-9956-45e4-9834-25ad2db9693c",
   "metadata": {},
   "outputs": [],
   "source": []
  }
 ],
 "metadata": {
  "kernelspec": {
   "display_name": "Python 3 (ipykernel)",
   "language": "python",
   "name": "python3"
  },
  "language_info": {
   "codemirror_mode": {
    "name": "ipython",
    "version": 3
   },
   "file_extension": ".py",
   "mimetype": "text/x-python",
   "name": "python",
   "nbconvert_exporter": "python",
   "pygments_lexer": "ipython3",
   "version": "3.11.7"
  }
 },
 "nbformat": 4,
 "nbformat_minor": 5
}
