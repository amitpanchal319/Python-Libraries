{
 "cells": [
  {
   "cell_type": "code",
   "execution_count": 1,
   "id": "7316dcb9-d041-4fb7-b722-807312b8508f",
   "metadata": {},
   "outputs": [],
   "source": [
    "import numpy as np\n"
   ]
  },
  {
   "cell_type": "code",
   "execution_count": 9,
   "id": "300c5aee-81a8-4e07-8d98-e5cc54cca510",
   "metadata": {},
   "outputs": [],
   "source": [
    "arr = np.random.randint(1,10,(4,4))"
   ]
  },
  {
   "cell_type": "code",
   "execution_count": 10,
   "id": "b3ebdeb9-4556-4c68-8ccc-e9eb3788e47a",
   "metadata": {},
   "outputs": [
    {
     "data": {
      "text/plain": [
       "array([[2, 7, 9, 7],\n",
       "       [2, 6, 7, 2],\n",
       "       [9, 4, 9, 3],\n",
       "       [9, 3, 3, 7]])"
      ]
     },
     "execution_count": 10,
     "metadata": {},
     "output_type": "execute_result"
    }
   ],
   "source": [
    "arr"
   ]
  },
  {
   "cell_type": "code",
   "execution_count": 11,
   "id": "e66b45da-406d-43bb-88c1-7157c722804c",
   "metadata": {},
   "outputs": [
    {
     "data": {
      "text/plain": [
       "array([[2, 7],\n",
       "       [9, 7],\n",
       "       [2, 6],\n",
       "       [7, 2],\n",
       "       [9, 4],\n",
       "       [9, 3],\n",
       "       [9, 3],\n",
       "       [3, 7]])"
      ]
     },
     "execution_count": 11,
     "metadata": {},
     "output_type": "execute_result"
    }
   ],
   "source": [
    "arr.reshape(8,2)"
   ]
  },
  {
   "cell_type": "code",
   "execution_count": 12,
   "id": "663d7062-03a5-4bbe-ae99-75fef294877c",
   "metadata": {},
   "outputs": [
    {
     "data": {
      "text/plain": [
       "array([[2, 7, 9, 7],\n",
       "       [2, 6, 7, 2],\n",
       "       [9, 4, 9, 3],\n",
       "       [9, 3, 3, 7]])"
      ]
     },
     "execution_count": 12,
     "metadata": {},
     "output_type": "execute_result"
    }
   ],
   "source": [
    "arr"
   ]
  },
  {
   "cell_type": "code",
   "execution_count": 13,
   "id": "d1a37df9-06bc-4d14-acbb-2786bd35f92d",
   "metadata": {},
   "outputs": [
    {
     "data": {
      "text/plain": [
       "array([[2, 2, 9, 9],\n",
       "       [7, 6, 4, 3],\n",
       "       [9, 7, 9, 3],\n",
       "       [7, 2, 3, 7]])"
      ]
     },
     "execution_count": 13,
     "metadata": {},
     "output_type": "execute_result"
    }
   ],
   "source": [
    "arr.T "
   ]
  },
  {
   "cell_type": "code",
   "execution_count": 14,
   "id": "f75bd306-2302-4f09-8271-b4f57ff56952",
   "metadata": {},
   "outputs": [
    {
     "data": {
      "text/plain": [
       "array([2, 7, 9, 7, 2, 6, 7, 2, 9, 4, 9, 3, 9, 3, 3, 7])"
      ]
     },
     "execution_count": 14,
     "metadata": {},
     "output_type": "execute_result"
    }
   ],
   "source": [
    "arr.flatten()"
   ]
  },
  {
   "cell_type": "code",
   "execution_count": 15,
   "id": "81d1391d-549d-47c6-9d05-f4ef0c8576c5",
   "metadata": {},
   "outputs": [
    {
     "data": {
      "text/plain": [
       "array([[[2, 7, 9, 7]],\n",
       "\n",
       "       [[2, 6, 7, 2]],\n",
       "\n",
       "       [[9, 4, 9, 3]],\n",
       "\n",
       "       [[9, 3, 3, 7]]])"
      ]
     },
     "execution_count": 15,
     "metadata": {},
     "output_type": "execute_result"
    }
   ],
   "source": [
    "np.expand_dims(arr,axis=1)"
   ]
  },
  {
   "cell_type": "code",
   "execution_count": 16,
   "id": "d54097c2-95d3-4dc8-bfc8-a316abb00635",
   "metadata": {},
   "outputs": [
    {
     "data": {
      "text/plain": [
       "array([[[2, 7, 9, 7],\n",
       "        [2, 6, 7, 2],\n",
       "        [9, 4, 9, 3],\n",
       "        [9, 3, 3, 7]]])"
      ]
     },
     "execution_count": 16,
     "metadata": {},
     "output_type": "execute_result"
    }
   ],
   "source": [
    "np.expand_dims(arr,axis=0)"
   ]
  },
  {
   "cell_type": "code",
   "execution_count": 20,
   "id": "3fa31e08-5605-4371-8172-fa2cd895d8aa",
   "metadata": {},
   "outputs": [],
   "source": [
    "data = np.array([[1],[2],[3]])"
   ]
  },
  {
   "cell_type": "code",
   "execution_count": 21,
   "id": "b0c7135a-f8cb-4e7c-b768-d087347e3534",
   "metadata": {},
   "outputs": [
    {
     "data": {
      "text/plain": [
       "array([1, 2, 3])"
      ]
     },
     "execution_count": 21,
     "metadata": {},
     "output_type": "execute_result"
    }
   ],
   "source": [
    "np.squeeze(data)"
   ]
  },
  {
   "cell_type": "code",
   "execution_count": 22,
   "id": "a38336d3-3a45-4b07-94ff-99597a994f13",
   "metadata": {},
   "outputs": [
    {
     "data": {
      "text/plain": [
       "array([1, 1, 2, 2, 3, 3])"
      ]
     },
     "execution_count": 22,
     "metadata": {},
     "output_type": "execute_result"
    }
   ],
   "source": [
    "np.repeat(data,2)"
   ]
  },
  {
   "cell_type": "code",
   "execution_count": 23,
   "id": "dde126b1-acb2-4b09-9445-01e7e551fe22",
   "metadata": {},
   "outputs": [
    {
     "data": {
      "text/plain": [
       "array([1, 1, 1, 1, 2, 2, 2, 2, 3, 3, 3, 3])"
      ]
     },
     "execution_count": 23,
     "metadata": {},
     "output_type": "execute_result"
    }
   ],
   "source": [
    "np.repeat(data,4)"
   ]
  },
  {
   "cell_type": "code",
   "execution_count": 24,
   "id": "15bb7ed3-2613-4fd1-825c-e05b8c917fa4",
   "metadata": {},
   "outputs": [
    {
     "data": {
      "text/plain": [
       "array([[1],\n",
       "       [2],\n",
       "       [3]])"
      ]
     },
     "execution_count": 24,
     "metadata": {},
     "output_type": "execute_result"
    }
   ],
   "source": [
    "np.roll(data,3)"
   ]
  },
  {
   "cell_type": "code",
   "execution_count": 25,
   "id": "2d8e63c6-1664-4b54-a898-951bad0435ca",
   "metadata": {},
   "outputs": [
    {
     "data": {
      "text/plain": [
       "array([[2],\n",
       "       [3],\n",
       "       [1]])"
      ]
     },
     "execution_count": 25,
     "metadata": {},
     "output_type": "execute_result"
    }
   ],
   "source": [
    "np.roll(data,2)"
   ]
  },
  {
   "cell_type": "code",
   "execution_count": 29,
   "id": "23dd5258-e0a6-49f8-8958-d28fb0b94153",
   "metadata": {},
   "outputs": [
    {
     "data": {
      "text/plain": [
       "array([[1, 0, 0, 0],\n",
       "       [0, 2, 0, 0],\n",
       "       [0, 0, 3, 0],\n",
       "       [0, 0, 0, 4]])"
      ]
     },
     "execution_count": 29,
     "metadata": {},
     "output_type": "execute_result"
    }
   ],
   "source": [
    "np.diag(np.array([1,2,3,4]))"
   ]
  },
  {
   "cell_type": "code",
   "execution_count": null,
   "id": "4a56f914-ac55-432a-86c3-3657d4b2e71b",
   "metadata": {},
   "outputs": [],
   "source": [
    "#Numpy - Binary Operators."
   ]
  },
  {
   "cell_type": "code",
   "execution_count": 33,
   "id": "f2102cbf-19fa-409d-8fd9-5590fcda3fc0",
   "metadata": {},
   "outputs": [],
   "source": [
    "arr1 = np.random.randint(1,10,(3,4))"
   ]
  },
  {
   "cell_type": "code",
   "execution_count": 34,
   "id": "8c06d31a-8dcd-4374-b75b-3dfaf4d4c297",
   "metadata": {},
   "outputs": [],
   "source": [
    "arr2 = np.random.randint(1,10,(3,4))"
   ]
  },
  {
   "cell_type": "code",
   "execution_count": 35,
   "id": "0627680f-4e65-43c6-ae1a-bb4991fb7797",
   "metadata": {},
   "outputs": [
    {
     "data": {
      "text/plain": [
       "array([[9, 5, 9, 2],\n",
       "       [2, 4, 2, 5],\n",
       "       [1, 5, 8, 7]])"
      ]
     },
     "execution_count": 35,
     "metadata": {},
     "output_type": "execute_result"
    }
   ],
   "source": [
    "arr1"
   ]
  },
  {
   "cell_type": "code",
   "execution_count": 36,
   "id": "5a5f6971-dee4-413e-a089-b866ec29e73f",
   "metadata": {},
   "outputs": [
    {
     "data": {
      "text/plain": [
       "array([[9, 5, 3, 9],\n",
       "       [8, 6, 6, 2],\n",
       "       [3, 8, 4, 5]])"
      ]
     },
     "execution_count": 36,
     "metadata": {},
     "output_type": "execute_result"
    }
   ],
   "source": [
    "arr2"
   ]
  },
  {
   "cell_type": "code",
   "execution_count": 37,
   "id": "949d6dcd-614b-4305-8697-786542648dff",
   "metadata": {},
   "outputs": [
    {
     "data": {
      "text/plain": [
       "array([[18, 10, 12, 11],\n",
       "       [10, 10,  8,  7],\n",
       "       [ 4, 13, 12, 12]])"
      ]
     },
     "execution_count": 37,
     "metadata": {},
     "output_type": "execute_result"
    }
   ],
   "source": [
    "arr1+arr2"
   ]
  },
  {
   "cell_type": "code",
   "execution_count": 38,
   "id": "c8db3297-0df4-4e65-a629-f654eecff6db",
   "metadata": {},
   "outputs": [
    {
     "data": {
      "text/plain": [
       "array([[81, 25, 27, 18],\n",
       "       [16, 24, 12, 10],\n",
       "       [ 3, 40, 32, 35]])"
      ]
     },
     "execution_count": 38,
     "metadata": {},
     "output_type": "execute_result"
    }
   ],
   "source": [
    "arr1*arr2"
   ]
  },
  {
   "cell_type": "code",
   "execution_count": 39,
   "id": "6fd8b617-137b-4851-b03c-5809eb78ef38",
   "metadata": {},
   "outputs": [
    {
     "data": {
      "text/plain": [
       "array([[ 0,  0, -6,  7],\n",
       "       [ 6,  2,  4, -3],\n",
       "       [ 2,  3, -4, -2]])"
      ]
     },
     "execution_count": 39,
     "metadata": {},
     "output_type": "execute_result"
    }
   ],
   "source": [
    "arr2-arr1"
   ]
  },
  {
   "cell_type": "code",
   "execution_count": 40,
   "id": "464bbef3-47f0-4a25-8594-c563c285946e",
   "metadata": {},
   "outputs": [
    {
     "data": {
      "text/plain": [
       "array([[387420489,      3125,       729,       512],\n",
       "       [      256,      4096,        64,        25],\n",
       "       [        1,    390625,      4096,     16807]])"
      ]
     },
     "execution_count": 40,
     "metadata": {},
     "output_type": "execute_result"
    }
   ],
   "source": [
    "arr1**arr2"
   ]
  },
  {
   "cell_type": "code",
   "execution_count": 41,
   "id": "98a9d8b1-b93e-4287-8059-fe77a3ef91a8",
   "metadata": {},
   "outputs": [
    {
     "data": {
      "text/plain": [
       "array([[9, 5, 9, 2],\n",
       "       [2, 4, 2, 5],\n",
       "       [1, 5, 8, 7]])"
      ]
     },
     "execution_count": 41,
     "metadata": {},
     "output_type": "execute_result"
    }
   ],
   "source": [
    "arr1"
   ]
  },
  {
   "cell_type": "code",
   "execution_count": 42,
   "id": "bf601e95-b396-45ac-89a2-b368a6ece9c1",
   "metadata": {},
   "outputs": [
    {
     "data": {
      "text/plain": [
       "array([[False, False,  True, False],\n",
       "       [False, False, False,  True],\n",
       "       [False, False,  True,  True]])"
      ]
     },
     "execution_count": 42,
     "metadata": {},
     "output_type": "execute_result"
    }
   ],
   "source": [
    "arr1>arr2"
   ]
  },
  {
   "cell_type": "code",
   "execution_count": null,
   "id": "16f249ec-48fd-4432-849e-fa3ffb6230e8",
   "metadata": {},
   "outputs": [],
   "source": [
    "#numpy- Sting Functions\n"
   ]
  },
  {
   "cell_type": "code",
   "execution_count": 44,
   "id": "9a521c47-bd14-4e21-a7da-7b9a34ebf156",
   "metadata": {},
   "outputs": [],
   "source": [
    "arr = np.array([\"sudh\", \"Kumar\"])"
   ]
  },
  {
   "cell_type": "code",
   "execution_count": 45,
   "id": "4654df6e-cf1f-4b20-8ed1-c6a4cd1fa7fb",
   "metadata": {},
   "outputs": [
    {
     "data": {
      "text/plain": [
       "array(['sudh', 'Kumar'], dtype='<U5')"
      ]
     },
     "execution_count": 45,
     "metadata": {},
     "output_type": "execute_result"
    }
   ],
   "source": [
    "arr"
   ]
  },
  {
   "cell_type": "code",
   "execution_count": 46,
   "id": "64feb56c-772e-495f-90cf-456b8db1bbc1",
   "metadata": {},
   "outputs": [
    {
     "data": {
      "text/plain": [
       "array(['SUDH', 'KUMAR'], dtype='<U5')"
      ]
     },
     "execution_count": 46,
     "metadata": {},
     "output_type": "execute_result"
    }
   ],
   "source": [
    "np.char.upper(arr)"
   ]
  },
  {
   "cell_type": "code",
   "execution_count": 47,
   "id": "69d78b67-6280-419a-b60a-fb913f17c14c",
   "metadata": {},
   "outputs": [
    {
     "data": {
      "text/plain": [
       "array(['Sudh', 'Kumar'], dtype='<U5')"
      ]
     },
     "execution_count": 47,
     "metadata": {},
     "output_type": "execute_result"
    }
   ],
   "source": [
    "np.char.capitalize(arr)"
   ]
  },
  {
   "cell_type": "code",
   "execution_count": 48,
   "id": "90332f69-c68d-48db-ac5a-823dec611ddf",
   "metadata": {},
   "outputs": [
    {
     "data": {
      "text/plain": [
       "array(['Sudh', 'Kumar'], dtype='<U5')"
      ]
     },
     "execution_count": 48,
     "metadata": {},
     "output_type": "execute_result"
    }
   ],
   "source": [
    "np.char.title(arr)"
   ]
  },
  {
   "cell_type": "code",
   "execution_count": null,
   "id": "9cf68d5f-cf6a-42fc-8b5e-32889e0d21f7",
   "metadata": {},
   "outputs": [],
   "source": [
    "#Numpy - Mathematical Functions."
   ]
  },
  {
   "cell_type": "code",
   "execution_count": 49,
   "id": "527638bd-6785-4ce7-b5f0-485bdc9259f2",
   "metadata": {},
   "outputs": [
    {
     "data": {
      "text/plain": [
       "array([[9, 5, 9, 2],\n",
       "       [2, 4, 2, 5],\n",
       "       [1, 5, 8, 7]])"
      ]
     },
     "execution_count": 49,
     "metadata": {},
     "output_type": "execute_result"
    }
   ],
   "source": [
    "arr1"
   ]
  },
  {
   "cell_type": "code",
   "execution_count": 50,
   "id": "263c97b4-3205-465b-b5b1-4288f348b8ed",
   "metadata": {},
   "outputs": [
    {
     "data": {
      "text/plain": [
       "array([[ 0.41211849, -0.95892427,  0.41211849,  0.90929743],\n",
       "       [ 0.90929743, -0.7568025 ,  0.90929743, -0.95892427],\n",
       "       [ 0.84147098, -0.95892427,  0.98935825,  0.6569866 ]])"
      ]
     },
     "execution_count": 50,
     "metadata": {},
     "output_type": "execute_result"
    }
   ],
   "source": [
    "np.sin(arr1)"
   ]
  },
  {
   "cell_type": "code",
   "execution_count": 53,
   "id": "70ee774e-ac6e-4757-91d9-b2de37c93f35",
   "metadata": {},
   "outputs": [
    {
     "data": {
      "text/plain": [
       "array([[-0.91113026,  0.28366219, -0.91113026, -0.41614684],\n",
       "       [-0.41614684, -0.65364362, -0.41614684,  0.28366219],\n",
       "       [ 0.54030231,  0.28366219, -0.14550003,  0.75390225]])"
      ]
     },
     "execution_count": 53,
     "metadata": {},
     "output_type": "execute_result"
    }
   ],
   "source": [
    "np.cos(arr1)"
   ]
  },
  {
   "cell_type": "code",
   "execution_count": 54,
   "id": "f9aff537-4dde-453e-b187-d971f9f4f2ec",
   "metadata": {},
   "outputs": [
    {
     "data": {
      "text/plain": [
       "array([[-0.45231566, -3.38051501, -0.45231566, -2.18503986],\n",
       "       [-2.18503986,  1.15782128, -2.18503986, -3.38051501],\n",
       "       [ 1.55740772, -3.38051501, -6.79971146,  0.87144798]])"
      ]
     },
     "execution_count": 54,
     "metadata": {},
     "output_type": "execute_result"
    }
   ],
   "source": [
    "np.tan(arr1)"
   ]
  },
  {
   "cell_type": "code",
   "execution_count": 55,
   "id": "f6bf9fd1-1972-4558-b551-611ee9ed936f",
   "metadata": {},
   "outputs": [
    {
     "data": {
      "text/plain": [
       "array([[0.95424251, 0.69897   , 0.95424251, 0.30103   ],\n",
       "       [0.30103   , 0.60205999, 0.30103   , 0.69897   ],\n",
       "       [0.        , 0.69897   , 0.90308999, 0.84509804]])"
      ]
     },
     "execution_count": 55,
     "metadata": {},
     "output_type": "execute_result"
    }
   ],
   "source": [
    "np.log10(arr1)"
   ]
  },
  {
   "cell_type": "code",
   "execution_count": 56,
   "id": "5f2014de-258f-4666-b56b-8ef76841c46d",
   "metadata": {},
   "outputs": [
    {
     "data": {
      "text/plain": [
       "array([[8.10308393e+03, 1.48413159e+02, 8.10308393e+03, 7.38905610e+00],\n",
       "       [7.38905610e+00, 5.45981500e+01, 7.38905610e+00, 1.48413159e+02],\n",
       "       [2.71828183e+00, 1.48413159e+02, 2.98095799e+03, 1.09663316e+03]])"
      ]
     },
     "execution_count": 56,
     "metadata": {},
     "output_type": "execute_result"
    }
   ],
   "source": [
    "np.exp(arr1)"
   ]
  },
  {
   "cell_type": "code",
   "execution_count": 57,
   "id": "8effb227-729b-456f-bb84-cb5075967cc3",
   "metadata": {},
   "outputs": [
    {
     "data": {
      "text/plain": [
       "array([[81, 25, 81,  4],\n",
       "       [ 4, 16,  4, 25],\n",
       "       [ 1, 25, 64, 49]], dtype=int32)"
      ]
     },
     "execution_count": 57,
     "metadata": {},
     "output_type": "execute_result"
    }
   ],
   "source": [
    "np.power(arr1,2)"
   ]
  },
  {
   "cell_type": "code",
   "execution_count": 58,
   "id": "1721f577-a192-4b03-82bd-2fb5820ab97f",
   "metadata": {},
   "outputs": [
    {
     "data": {
      "text/plain": [
       "4.916666666666667"
      ]
     },
     "execution_count": 58,
     "metadata": {},
     "output_type": "execute_result"
    }
   ],
   "source": [
    "np.mean(arr1)"
   ]
  },
  {
   "cell_type": "code",
   "execution_count": 59,
   "id": "112ce850-51b2-40fc-9726-446b7fdc589b",
   "metadata": {},
   "outputs": [
    {
     "data": {
      "text/plain": [
       "5.0"
      ]
     },
     "execution_count": 59,
     "metadata": {},
     "output_type": "execute_result"
    }
   ],
   "source": [
    "np.median(arr1)"
   ]
  },
  {
   "cell_type": "code",
   "execution_count": 61,
   "id": "f81baab7-e7a2-46f6-9287-406f2d13dd42",
   "metadata": {},
   "outputs": [
    {
     "data": {
      "text/plain": [
       "2.722080495176846"
      ]
     },
     "execution_count": 61,
     "metadata": {},
     "output_type": "execute_result"
    }
   ],
   "source": [
    "np.std(arr1)"
   ]
  },
  {
   "cell_type": "code",
   "execution_count": 62,
   "id": "3c900c8c-b27e-4383-8842-4181ab42d406",
   "metadata": {},
   "outputs": [
    {
     "data": {
      "text/plain": [
       "7.409722222222221"
      ]
     },
     "execution_count": 62,
     "metadata": {},
     "output_type": "execute_result"
    }
   ],
   "source": [
    "np.var(arr1)"
   ]
  },
  {
   "cell_type": "code",
   "execution_count": 63,
   "id": "699b7029-2882-464b-8f21-62bbfd235454",
   "metadata": {},
   "outputs": [
    {
     "data": {
      "text/plain": [
       "1"
      ]
     },
     "execution_count": 63,
     "metadata": {},
     "output_type": "execute_result"
    }
   ],
   "source": [
    "np.min(arr1)"
   ]
  },
  {
   "cell_type": "code",
   "execution_count": 64,
   "id": "5c502048-0ff4-49ee-925c-29ad1d366090",
   "metadata": {},
   "outputs": [
    {
     "data": {
      "text/plain": [
       "9"
      ]
     },
     "execution_count": 64,
     "metadata": {},
     "output_type": "execute_result"
    }
   ],
   "source": [
    "np.max(arr1)"
   ]
  },
  {
   "cell_type": "code",
   "execution_count": 65,
   "id": "ff0b18f2-f9ca-4ae0-ad1d-fe02643e31d4",
   "metadata": {},
   "outputs": [],
   "source": [
    "#Numpy - Airthmatic Operations "
   ]
  },
  {
   "cell_type": "code",
   "execution_count": 66,
   "id": "13683322-b2d1-4f29-93f1-466344021c2d",
   "metadata": {},
   "outputs": [
    {
     "data": {
      "text/plain": [
       "array([[9, 5, 9, 2],\n",
       "       [2, 4, 2, 5],\n",
       "       [1, 5, 8, 7]])"
      ]
     },
     "execution_count": 66,
     "metadata": {},
     "output_type": "execute_result"
    }
   ],
   "source": [
    "arr1"
   ]
  },
  {
   "cell_type": "code",
   "execution_count": 67,
   "id": "f6224c8f-7dc1-49e5-a58a-f4f7103da266",
   "metadata": {},
   "outputs": [
    {
     "data": {
      "text/plain": [
       "array([[9, 5, 3, 9],\n",
       "       [8, 6, 6, 2],\n",
       "       [3, 8, 4, 5]])"
      ]
     },
     "execution_count": 67,
     "metadata": {},
     "output_type": "execute_result"
    }
   ],
   "source": [
    "arr2"
   ]
  },
  {
   "cell_type": "code",
   "execution_count": 68,
   "id": "7ee6d54f-f10f-4309-bf4e-b9cadf4cb388",
   "metadata": {},
   "outputs": [
    {
     "data": {
      "text/plain": [
       "array([[ 0,  0,  6, -7],\n",
       "       [-6, -2, -4,  3],\n",
       "       [-2, -3,  4,  2]])"
      ]
     },
     "execution_count": 68,
     "metadata": {},
     "output_type": "execute_result"
    }
   ],
   "source": [
    "arr1-arr2"
   ]
  },
  {
   "cell_type": "code",
   "execution_count": 69,
   "id": "135d867a-360e-436d-8a85-88cec02e253a",
   "metadata": {},
   "outputs": [
    {
     "data": {
      "text/plain": [
       "array([[ 0,  0,  6, -7],\n",
       "       [-6, -2, -4,  3],\n",
       "       [-2, -3,  4,  2]])"
      ]
     },
     "execution_count": 69,
     "metadata": {},
     "output_type": "execute_result"
    }
   ],
   "source": [
    "np.subtract(arr1,arr2)"
   ]
  },
  {
   "cell_type": "code",
   "execution_count": 70,
   "id": "e991bccd-f2fd-465c-8119-fa3e4774fa27",
   "metadata": {},
   "outputs": [
    {
     "data": {
      "text/plain": [
       "array([[81, 25, 27, 18],\n",
       "       [16, 24, 12, 10],\n",
       "       [ 3, 40, 32, 35]])"
      ]
     },
     "execution_count": 70,
     "metadata": {},
     "output_type": "execute_result"
    }
   ],
   "source": [
    "np.multiply(arr1,arr2)"
   ]
  },
  {
   "cell_type": "code",
   "execution_count": 71,
   "id": "c84e7bc5-5dd5-4bf4-bf2a-efa1aeac475d",
   "metadata": {},
   "outputs": [
    {
     "data": {
      "text/plain": [
       "array([[0, 0, 0, 2],\n",
       "       [2, 4, 2, 1],\n",
       "       [1, 5, 0, 2]])"
      ]
     },
     "execution_count": 71,
     "metadata": {},
     "output_type": "execute_result"
    }
   ],
   "source": [
    "np.mod(arr1,arr2)"
   ]
  },
  {
   "cell_type": "code",
   "execution_count": 72,
   "id": "680241d7-aa0b-4891-b7d6-35f81bf11267",
   "metadata": {},
   "outputs": [
    {
     "data": {
      "text/plain": [
       "array([[387420489,      3125,       729,       512],\n",
       "       [      256,      4096,        64,        25],\n",
       "       [        1,    390625,      4096,     16807]])"
      ]
     },
     "execution_count": 72,
     "metadata": {},
     "output_type": "execute_result"
    }
   ],
   "source": [
    "np.power(arr1,arr2)"
   ]
  },
  {
   "cell_type": "code",
   "execution_count": 74,
   "id": "c3b20abf-149e-434c-bf15-6cf615177019",
   "metadata": {},
   "outputs": [
    {
     "data": {
      "text/plain": [
       "array([[3.        , 2.23606798, 3.        , 1.41421356],\n",
       "       [1.41421356, 2.        , 1.41421356, 2.23606798],\n",
       "       [1.        , 2.23606798, 2.82842712, 2.64575131]])"
      ]
     },
     "execution_count": 74,
     "metadata": {},
     "output_type": "execute_result"
    }
   ],
   "source": [
    "np.sqrt(arr1)"
   ]
  },
  {
   "cell_type": "code",
   "execution_count": 75,
   "id": "cd277021-e7ad-4fad-88b5-62962fec5d94",
   "metadata": {},
   "outputs": [
    {
     "data": {
      "text/plain": [
       "array([[3.        , 2.23606798, 1.73205081, 3.        ],\n",
       "       [2.82842712, 2.44948974, 2.44948974, 1.41421356],\n",
       "       [1.73205081, 2.82842712, 2.        , 2.23606798]])"
      ]
     },
     "execution_count": 75,
     "metadata": {},
     "output_type": "execute_result"
    }
   ],
   "source": [
    "np.sqrt(arr2)"
   ]
  },
  {
   "cell_type": "code",
   "execution_count": 76,
   "id": "c6af04b0-9c05-4977-87a5-cdeedfd6c44a",
   "metadata": {},
   "outputs": [
    {
     "data": {
      "text/plain": [
       "4.916666666666667"
      ]
     },
     "execution_count": 76,
     "metadata": {},
     "output_type": "execute_result"
    }
   ],
   "source": [
    "np.mean(arr1)"
   ]
  },
  {
   "cell_type": "code",
   "execution_count": null,
   "id": "9e03ec12-0587-43ca-9e29-aa6dbeb4ae83",
   "metadata": {},
   "outputs": [],
   "source": []
  },
  {
   "cell_type": "code",
   "execution_count": null,
   "id": "72247b2d-231a-4b65-819b-16c2fe1f43ba",
   "metadata": {},
   "outputs": [],
   "source": []
  },
  {
   "cell_type": "code",
   "execution_count": null,
   "id": "e0153dfb-0409-4797-ab4e-6b6c1dea8aae",
   "metadata": {},
   "outputs": [],
   "source": []
  },
  {
   "cell_type": "code",
   "execution_count": null,
   "id": "c9d5bb35-9c92-4b00-aa2a-b0801c0db1f1",
   "metadata": {},
   "outputs": [],
   "source": []
  },
  {
   "cell_type": "code",
   "execution_count": null,
   "id": "63d5876a-8770-4936-b07f-debe63d6de5f",
   "metadata": {},
   "outputs": [],
   "source": []
  },
  {
   "cell_type": "code",
   "execution_count": null,
   "id": "fd8d7837-b2d6-4509-91dc-77e91fc12a56",
   "metadata": {},
   "outputs": [],
   "source": []
  },
  {
   "cell_type": "code",
   "execution_count": null,
   "id": "4843aebf-cb68-48f8-a1b4-ca09aef0ee95",
   "metadata": {},
   "outputs": [],
   "source": []
  },
  {
   "cell_type": "code",
   "execution_count": null,
   "id": "c910ca71-1903-4fdc-b8aa-d2dfc9a3aeab",
   "metadata": {},
   "outputs": [],
   "source": []
  },
  {
   "cell_type": "code",
   "execution_count": null,
   "id": "cee92691-8948-43f6-af6b-4ca6a02788e3",
   "metadata": {},
   "outputs": [],
   "source": []
  },
  {
   "cell_type": "code",
   "execution_count": null,
   "id": "fdc44c61-9439-4118-a4b4-5aefed42e31c",
   "metadata": {},
   "outputs": [],
   "source": []
  },
  {
   "cell_type": "code",
   "execution_count": null,
   "id": "9f058e7f-2c1a-4ce1-bf60-65abfa518b69",
   "metadata": {},
   "outputs": [],
   "source": []
  },
  {
   "cell_type": "code",
   "execution_count": null,
   "id": "73bd5592-1798-4111-8804-e765443c76a2",
   "metadata": {},
   "outputs": [],
   "source": []
  },
  {
   "cell_type": "code",
   "execution_count": null,
   "id": "b52bb884-3ca8-4d9b-84aa-0091711c818f",
   "metadata": {},
   "outputs": [],
   "source": []
  },
  {
   "cell_type": "code",
   "execution_count": null,
   "id": "88539c34-f591-4430-b78c-3369bd05b2ce",
   "metadata": {},
   "outputs": [],
   "source": []
  },
  {
   "cell_type": "code",
   "execution_count": null,
   "id": "a4fae939-bce7-4572-b728-b11ee0df4af0",
   "metadata": {},
   "outputs": [],
   "source": []
  },
  {
   "cell_type": "code",
   "execution_count": null,
   "id": "55ab289a-df3b-40d2-9d6f-c2781f300e28",
   "metadata": {},
   "outputs": [],
   "source": []
  },
  {
   "cell_type": "code",
   "execution_count": null,
   "id": "e5ee3a8a-e3c0-4e01-9501-dfa1f08c2621",
   "metadata": {},
   "outputs": [],
   "source": []
  },
  {
   "cell_type": "code",
   "execution_count": null,
   "id": "ff843080-a9c2-4934-b594-731da9ecbb98",
   "metadata": {},
   "outputs": [],
   "source": []
  },
  {
   "cell_type": "code",
   "execution_count": null,
   "id": "af74b5d7-1854-41b4-bb4f-b913cc598b84",
   "metadata": {},
   "outputs": [],
   "source": []
  },
  {
   "cell_type": "code",
   "execution_count": null,
   "id": "ab8ecef5-e509-40b3-89e7-26d05ca884f8",
   "metadata": {},
   "outputs": [],
   "source": []
  },
  {
   "cell_type": "code",
   "execution_count": null,
   "id": "e5ba139b-63db-4216-b181-65969ba95d3d",
   "metadata": {},
   "outputs": [],
   "source": []
  },
  {
   "cell_type": "code",
   "execution_count": null,
   "id": "6328351d-a397-4b2f-b4ac-4b68f2fa1322",
   "metadata": {},
   "outputs": [],
   "source": []
  },
  {
   "cell_type": "code",
   "execution_count": null,
   "id": "d2e1a7a4-5dcd-4858-9f8d-f77a6daf0416",
   "metadata": {},
   "outputs": [],
   "source": []
  },
  {
   "cell_type": "code",
   "execution_count": null,
   "id": "fb1ba870-f293-4256-aa43-590c31b9ba94",
   "metadata": {},
   "outputs": [],
   "source": []
  },
  {
   "cell_type": "code",
   "execution_count": null,
   "id": "785eaccf-d765-4a31-a201-d5d06f815217",
   "metadata": {},
   "outputs": [],
   "source": []
  },
  {
   "cell_type": "code",
   "execution_count": null,
   "id": "0f8b6094-1053-4afe-91a3-d8717e6142bd",
   "metadata": {},
   "outputs": [],
   "source": []
  },
  {
   "cell_type": "code",
   "execution_count": null,
   "id": "41cd951e-d503-40c9-b5dc-aa03fd40cb33",
   "metadata": {},
   "outputs": [],
   "source": []
  },
  {
   "cell_type": "code",
   "execution_count": null,
   "id": "f3bb0bca-54b2-4ef5-a7c3-0193d25b5afa",
   "metadata": {},
   "outputs": [],
   "source": []
  },
  {
   "cell_type": "code",
   "execution_count": null,
   "id": "fdeae8b0-a717-43ec-8a04-2839036a5c94",
   "metadata": {},
   "outputs": [],
   "source": []
  },
  {
   "cell_type": "code",
   "execution_count": null,
   "id": "1ff74dc1-fe55-4ffd-9a71-7e0072b1f3be",
   "metadata": {},
   "outputs": [],
   "source": []
  }
 ],
 "metadata": {
  "kernelspec": {
   "display_name": "Python 3 (ipykernel)",
   "language": "python",
   "name": "python3"
  },
  "language_info": {
   "codemirror_mode": {
    "name": "ipython",
    "version": 3
   },
   "file_extension": ".py",
   "mimetype": "text/x-python",
   "name": "python",
   "nbconvert_exporter": "python",
   "pygments_lexer": "ipython3",
   "version": "3.11.7"
  }
 },
 "nbformat": 4,
 "nbformat_minor": 5
}
