{
 "cells": [
  {
   "cell_type": "code",
   "execution_count": 2,
   "id": "55fa5932-d3bb-4933-8f7f-1c702d12da1a",
   "metadata": {},
   "outputs": [],
   "source": [
    "data = [1,2,3,4,5]\n"
   ]
  },
  {
   "cell_type": "code",
   "execution_count": 3,
   "id": "e481a0c1-bc19-4c40-a1b6-38fc4fc239c3",
   "metadata": {},
   "outputs": [
    {
     "data": {
      "text/plain": [
       "[1, 2, 3, 4, 5]"
      ]
     },
     "execution_count": 3,
     "metadata": {},
     "output_type": "execute_result"
    }
   ],
   "source": [
    "data"
   ]
  },
  {
   "cell_type": "code",
   "execution_count": 6,
   "id": "c7442edc-330e-4d80-9696-e771ca40ce02",
   "metadata": {},
   "outputs": [],
   "source": [
    "import pandas as pd\n",
    "import numpy as np\n",
    "import seaborn as sns\n"
   ]
  },
  {
   "cell_type": "code",
   "execution_count": 7,
   "id": "afd8f144-6ddc-42f4-bf7b-fa01faf1c294",
   "metadata": {},
   "outputs": [
    {
     "ename": "NameError",
     "evalue": "name 'data' is not defined",
     "output_type": "error",
     "traceback": [
      "\u001b[1;31m---------------------------------------------------------------------------\u001b[0m",
      "\u001b[1;31mNameError\u001b[0m                                 Traceback (most recent call last)",
      "Cell \u001b[1;32mIn[7], line 1\u001b[0m\n\u001b[1;32m----> 1\u001b[0m np\u001b[38;5;241m.\u001b[39mmean(data)\n",
      "\u001b[1;31mNameError\u001b[0m: name 'data' is not defined"
     ]
    }
   ],
   "source": [
    "np.mean(data)"
   ]
  },
  {
   "cell_type": "code",
   "execution_count": 9,
   "id": "483fcee8-d37d-4f60-bf22-a2c77d219972",
   "metadata": {},
   "outputs": [
    {
     "data": {
      "text/html": [
       "<div>\n",
       "<style scoped>\n",
       "    .dataframe tbody tr th:only-of-type {\n",
       "        vertical-align: middle;\n",
       "    }\n",
       "\n",
       "    .dataframe tbody tr th {\n",
       "        vertical-align: top;\n",
       "    }\n",
       "\n",
       "    .dataframe thead th {\n",
       "        text-align: right;\n",
       "    }\n",
       "</style>\n",
       "<table border=\"1\" class=\"dataframe\">\n",
       "  <thead>\n",
       "    <tr style=\"text-align: right;\">\n",
       "      <th></th>\n",
       "      <th>total_bill</th>\n",
       "      <th>tip</th>\n",
       "      <th>sex</th>\n",
       "      <th>smoker</th>\n",
       "      <th>day</th>\n",
       "      <th>time</th>\n",
       "      <th>size</th>\n",
       "    </tr>\n",
       "  </thead>\n",
       "  <tbody>\n",
       "    <tr>\n",
       "      <th>0</th>\n",
       "      <td>16.99</td>\n",
       "      <td>1.01</td>\n",
       "      <td>Female</td>\n",
       "      <td>No</td>\n",
       "      <td>Sun</td>\n",
       "      <td>Dinner</td>\n",
       "      <td>2</td>\n",
       "    </tr>\n",
       "    <tr>\n",
       "      <th>1</th>\n",
       "      <td>10.34</td>\n",
       "      <td>1.66</td>\n",
       "      <td>Male</td>\n",
       "      <td>No</td>\n",
       "      <td>Sun</td>\n",
       "      <td>Dinner</td>\n",
       "      <td>3</td>\n",
       "    </tr>\n",
       "    <tr>\n",
       "      <th>2</th>\n",
       "      <td>21.01</td>\n",
       "      <td>3.50</td>\n",
       "      <td>Male</td>\n",
       "      <td>No</td>\n",
       "      <td>Sun</td>\n",
       "      <td>Dinner</td>\n",
       "      <td>3</td>\n",
       "    </tr>\n",
       "    <tr>\n",
       "      <th>3</th>\n",
       "      <td>23.68</td>\n",
       "      <td>3.31</td>\n",
       "      <td>Male</td>\n",
       "      <td>No</td>\n",
       "      <td>Sun</td>\n",
       "      <td>Dinner</td>\n",
       "      <td>2</td>\n",
       "    </tr>\n",
       "    <tr>\n",
       "      <th>4</th>\n",
       "      <td>24.59</td>\n",
       "      <td>3.61</td>\n",
       "      <td>Female</td>\n",
       "      <td>No</td>\n",
       "      <td>Sun</td>\n",
       "      <td>Dinner</td>\n",
       "      <td>4</td>\n",
       "    </tr>\n",
       "    <tr>\n",
       "      <th>...</th>\n",
       "      <td>...</td>\n",
       "      <td>...</td>\n",
       "      <td>...</td>\n",
       "      <td>...</td>\n",
       "      <td>...</td>\n",
       "      <td>...</td>\n",
       "      <td>...</td>\n",
       "    </tr>\n",
       "    <tr>\n",
       "      <th>239</th>\n",
       "      <td>29.03</td>\n",
       "      <td>5.92</td>\n",
       "      <td>Male</td>\n",
       "      <td>No</td>\n",
       "      <td>Sat</td>\n",
       "      <td>Dinner</td>\n",
       "      <td>3</td>\n",
       "    </tr>\n",
       "    <tr>\n",
       "      <th>240</th>\n",
       "      <td>27.18</td>\n",
       "      <td>2.00</td>\n",
       "      <td>Female</td>\n",
       "      <td>Yes</td>\n",
       "      <td>Sat</td>\n",
       "      <td>Dinner</td>\n",
       "      <td>2</td>\n",
       "    </tr>\n",
       "    <tr>\n",
       "      <th>241</th>\n",
       "      <td>22.67</td>\n",
       "      <td>2.00</td>\n",
       "      <td>Male</td>\n",
       "      <td>Yes</td>\n",
       "      <td>Sat</td>\n",
       "      <td>Dinner</td>\n",
       "      <td>2</td>\n",
       "    </tr>\n",
       "    <tr>\n",
       "      <th>242</th>\n",
       "      <td>17.82</td>\n",
       "      <td>1.75</td>\n",
       "      <td>Male</td>\n",
       "      <td>No</td>\n",
       "      <td>Sat</td>\n",
       "      <td>Dinner</td>\n",
       "      <td>2</td>\n",
       "    </tr>\n",
       "    <tr>\n",
       "      <th>243</th>\n",
       "      <td>18.78</td>\n",
       "      <td>3.00</td>\n",
       "      <td>Female</td>\n",
       "      <td>No</td>\n",
       "      <td>Thur</td>\n",
       "      <td>Dinner</td>\n",
       "      <td>2</td>\n",
       "    </tr>\n",
       "  </tbody>\n",
       "</table>\n",
       "<p>244 rows × 7 columns</p>\n",
       "</div>"
      ],
      "text/plain": [
       "     total_bill   tip     sex smoker   day    time  size\n",
       "0         16.99  1.01  Female     No   Sun  Dinner     2\n",
       "1         10.34  1.66    Male     No   Sun  Dinner     3\n",
       "2         21.01  3.50    Male     No   Sun  Dinner     3\n",
       "3         23.68  3.31    Male     No   Sun  Dinner     2\n",
       "4         24.59  3.61  Female     No   Sun  Dinner     4\n",
       "..          ...   ...     ...    ...   ...     ...   ...\n",
       "239       29.03  5.92    Male     No   Sat  Dinner     3\n",
       "240       27.18  2.00  Female    Yes   Sat  Dinner     2\n",
       "241       22.67  2.00    Male    Yes   Sat  Dinner     2\n",
       "242       17.82  1.75    Male     No   Sat  Dinner     2\n",
       "243       18.78  3.00  Female     No  Thur  Dinner     2\n",
       "\n",
       "[244 rows x 7 columns]"
      ]
     },
     "execution_count": 9,
     "metadata": {},
     "output_type": "execute_result"
    }
   ],
   "source": [
    "df = sns.load_dataset('tips')\n",
    "df"
   ]
  },
  {
   "cell_type": "code",
   "execution_count": 10,
   "id": "9204310a-6c79-40a1-aac2-d93dc0857e30",
   "metadata": {},
   "outputs": [
    {
     "data": {
      "text/plain": [
       "2.99827868852459"
      ]
     },
     "execution_count": 10,
     "metadata": {},
     "output_type": "execute_result"
    }
   ],
   "source": [
    "np.mean(df['tip'])"
   ]
  },
  {
   "cell_type": "code",
   "execution_count": 11,
   "id": "4e2e7849-e016-4df6-ba83-2ff62e66e873",
   "metadata": {},
   "outputs": [
    {
     "name": "stdout",
     "output_type": "stream",
     "text": [
      "<class 'pandas.core.frame.DataFrame'>\n",
      "RangeIndex: 244 entries, 0 to 243\n",
      "Data columns (total 7 columns):\n",
      " #   Column      Non-Null Count  Dtype   \n",
      "---  ------      --------------  -----   \n",
      " 0   total_bill  244 non-null    float64 \n",
      " 1   tip         244 non-null    float64 \n",
      " 2   sex         244 non-null    category\n",
      " 3   smoker      244 non-null    category\n",
      " 4   day         244 non-null    category\n",
      " 5   time        244 non-null    category\n",
      " 6   size        244 non-null    int64   \n",
      "dtypes: category(4), float64(2), int64(1)\n",
      "memory usage: 7.4 KB\n"
     ]
    }
   ],
   "source": [
    "df.info()"
   ]
  },
  {
   "cell_type": "code",
   "execution_count": 13,
   "id": "9a6dc2b1-b2a4-4933-85eb-9b87d435506d",
   "metadata": {},
   "outputs": [
    {
     "data": {
      "text/plain": [
       "3.0"
      ]
     },
     "execution_count": 13,
     "metadata": {},
     "output_type": "execute_result"
    }
   ],
   "source": [
    "np.median(data)"
   ]
  },
  {
   "cell_type": "code",
   "execution_count": 14,
   "id": "d20885e0-100d-45e1-ad8b-d883037f8d6c",
   "metadata": {},
   "outputs": [
    {
     "data": {
      "text/plain": [
       "[1, 2, 3, 4, 5]"
      ]
     },
     "execution_count": 14,
     "metadata": {},
     "output_type": "execute_result"
    }
   ],
   "source": [
    "data"
   ]
  },
  {
   "cell_type": "code",
   "execution_count": 16,
   "id": "8e85b1ce-7a82-4745-bb39-e9785c53a549",
   "metadata": {},
   "outputs": [
    {
     "data": {
      "text/plain": [
       "2.9"
      ]
     },
     "execution_count": 16,
     "metadata": {},
     "output_type": "execute_result"
    }
   ],
   "source": [
    "np.median(df['tip'])"
   ]
  },
  {
   "cell_type": "code",
   "execution_count": null,
   "id": "7d183c15-991e-4110-88de-a4856cb106ca",
   "metadata": {},
   "outputs": [],
   "source": [
    "# Mean is affected by outliers whereas median is not inflated"
   ]
  },
  {
   "cell_type": "code",
   "execution_count": 17,
   "id": "40838e04-1cfc-4f83-a4ec-7aa3be28f4bd",
   "metadata": {},
   "outputs": [
    {
     "data": {
      "text/plain": [
       "102.0"
      ]
     },
     "execution_count": 17,
     "metadata": {},
     "output_type": "execute_result"
    }
   ],
   "source": [
    "data = [1,2,3,4,500]\n",
    "np.mean(data)"
   ]
  },
  {
   "cell_type": "code",
   "execution_count": 18,
   "id": "9ba2cec9-f14d-4ead-8086-a4ed71eaaa5c",
   "metadata": {},
   "outputs": [
    {
     "data": {
      "text/plain": [
       "3.0"
      ]
     },
     "execution_count": 18,
     "metadata": {},
     "output_type": "execute_result"
    }
   ],
   "source": [
    "np.median(data)"
   ]
  },
  {
   "cell_type": "code",
   "execution_count": 19,
   "id": "32640b2a-1e6e-44c1-ab01-d78444c35cac",
   "metadata": {},
   "outputs": [
    {
     "ename": "AttributeError",
     "evalue": "module 'numpy' has no attribute 'mode'",
     "output_type": "error",
     "traceback": [
      "\u001b[1;31m---------------------------------------------------------------------------\u001b[0m",
      "\u001b[1;31mAttributeError\u001b[0m                            Traceback (most recent call last)",
      "Cell \u001b[1;32mIn[19], line 2\u001b[0m\n\u001b[0;32m      1\u001b[0m data \u001b[38;5;241m=\u001b[39m [ \u001b[38;5;241m1\u001b[39m,\u001b[38;5;241m2\u001b[39m,\u001b[38;5;241m1\u001b[39m,\u001b[38;5;241m100\u001b[39m,\u001b[38;5;241m100\u001b[39m,\u001b[38;5;241m100\u001b[39m,\u001b[38;5;241m3\u001b[39m,\u001b[38;5;241m4\u001b[39m,\u001b[38;5;241m50\u001b[39m]\n\u001b[1;32m----> 2\u001b[0m np\u001b[38;5;241m.\u001b[39mmode(data)\n",
      "File \u001b[1;32m~\\anaconda3\\Lib\\site-packages\\numpy\\__init__.py:333\u001b[0m, in \u001b[0;36m__getattr__\u001b[1;34m(attr)\u001b[0m\n\u001b[0;32m    330\u001b[0m     \u001b[38;5;124m\"\u001b[39m\u001b[38;5;124mRemoved in NumPy 1.25.0\u001b[39m\u001b[38;5;124m\"\u001b[39m\n\u001b[0;32m    331\u001b[0m     \u001b[38;5;28;01mraise\u001b[39;00m \u001b[38;5;167;01mRuntimeError\u001b[39;00m(\u001b[38;5;124m\"\u001b[39m\u001b[38;5;124mTester was removed in NumPy 1.25.\u001b[39m\u001b[38;5;124m\"\u001b[39m)\n\u001b[1;32m--> 333\u001b[0m \u001b[38;5;28;01mraise\u001b[39;00m \u001b[38;5;167;01mAttributeError\u001b[39;00m(\u001b[38;5;124m\"\u001b[39m\u001b[38;5;124mmodule \u001b[39m\u001b[38;5;132;01m{!r}\u001b[39;00m\u001b[38;5;124m has no attribute \u001b[39m\u001b[38;5;124m\"\u001b[39m\n\u001b[0;32m    334\u001b[0m                      \u001b[38;5;124m\"\u001b[39m\u001b[38;5;132;01m{!r}\u001b[39;00m\u001b[38;5;124m\"\u001b[39m\u001b[38;5;241m.\u001b[39mformat(\u001b[38;5;18m__name__\u001b[39m, attr))\n",
      "\u001b[1;31mAttributeError\u001b[0m: module 'numpy' has no attribute 'mode'"
     ]
    }
   ],
   "source": [
    "data = [ 1,2,1,100,100,100,3,4,50]\n",
    "np.mode(data)"
   ]
  },
  {
   "cell_type": "code",
   "execution_count": 20,
   "id": "ee5ba0b9-dea9-4ee5-a10b-b16f530203ac",
   "metadata": {},
   "outputs": [
    {
     "data": {
      "text/plain": [
       "100"
      ]
     },
     "execution_count": 20,
     "metadata": {},
     "output_type": "execute_result"
    }
   ],
   "source": [
    "import statistics \n",
    "statistics.mode(data)"
   ]
  },
  {
   "cell_type": "code",
   "execution_count": 21,
   "id": "646eefa6-cd18-414c-92c8-d0c0577c8559",
   "metadata": {},
   "outputs": [
    {
     "data": {
      "text/html": [
       "<div>\n",
       "<style scoped>\n",
       "    .dataframe tbody tr th:only-of-type {\n",
       "        vertical-align: middle;\n",
       "    }\n",
       "\n",
       "    .dataframe tbody tr th {\n",
       "        vertical-align: top;\n",
       "    }\n",
       "\n",
       "    .dataframe thead th {\n",
       "        text-align: right;\n",
       "    }\n",
       "</style>\n",
       "<table border=\"1\" class=\"dataframe\">\n",
       "  <thead>\n",
       "    <tr style=\"text-align: right;\">\n",
       "      <th></th>\n",
       "      <th>total_bill</th>\n",
       "      <th>tip</th>\n",
       "      <th>sex</th>\n",
       "      <th>smoker</th>\n",
       "      <th>day</th>\n",
       "      <th>time</th>\n",
       "      <th>size</th>\n",
       "    </tr>\n",
       "  </thead>\n",
       "  <tbody>\n",
       "    <tr>\n",
       "      <th>0</th>\n",
       "      <td>16.99</td>\n",
       "      <td>1.01</td>\n",
       "      <td>Female</td>\n",
       "      <td>No</td>\n",
       "      <td>Sun</td>\n",
       "      <td>Dinner</td>\n",
       "      <td>2</td>\n",
       "    </tr>\n",
       "    <tr>\n",
       "      <th>1</th>\n",
       "      <td>10.34</td>\n",
       "      <td>1.66</td>\n",
       "      <td>Male</td>\n",
       "      <td>No</td>\n",
       "      <td>Sun</td>\n",
       "      <td>Dinner</td>\n",
       "      <td>3</td>\n",
       "    </tr>\n",
       "    <tr>\n",
       "      <th>2</th>\n",
       "      <td>21.01</td>\n",
       "      <td>3.50</td>\n",
       "      <td>Male</td>\n",
       "      <td>No</td>\n",
       "      <td>Sun</td>\n",
       "      <td>Dinner</td>\n",
       "      <td>3</td>\n",
       "    </tr>\n",
       "    <tr>\n",
       "      <th>3</th>\n",
       "      <td>23.68</td>\n",
       "      <td>3.31</td>\n",
       "      <td>Male</td>\n",
       "      <td>No</td>\n",
       "      <td>Sun</td>\n",
       "      <td>Dinner</td>\n",
       "      <td>2</td>\n",
       "    </tr>\n",
       "    <tr>\n",
       "      <th>4</th>\n",
       "      <td>24.59</td>\n",
       "      <td>3.61</td>\n",
       "      <td>Female</td>\n",
       "      <td>No</td>\n",
       "      <td>Sun</td>\n",
       "      <td>Dinner</td>\n",
       "      <td>4</td>\n",
       "    </tr>\n",
       "    <tr>\n",
       "      <th>...</th>\n",
       "      <td>...</td>\n",
       "      <td>...</td>\n",
       "      <td>...</td>\n",
       "      <td>...</td>\n",
       "      <td>...</td>\n",
       "      <td>...</td>\n",
       "      <td>...</td>\n",
       "    </tr>\n",
       "    <tr>\n",
       "      <th>239</th>\n",
       "      <td>29.03</td>\n",
       "      <td>5.92</td>\n",
       "      <td>Male</td>\n",
       "      <td>No</td>\n",
       "      <td>Sat</td>\n",
       "      <td>Dinner</td>\n",
       "      <td>3</td>\n",
       "    </tr>\n",
       "    <tr>\n",
       "      <th>240</th>\n",
       "      <td>27.18</td>\n",
       "      <td>2.00</td>\n",
       "      <td>Female</td>\n",
       "      <td>Yes</td>\n",
       "      <td>Sat</td>\n",
       "      <td>Dinner</td>\n",
       "      <td>2</td>\n",
       "    </tr>\n",
       "    <tr>\n",
       "      <th>241</th>\n",
       "      <td>22.67</td>\n",
       "      <td>2.00</td>\n",
       "      <td>Male</td>\n",
       "      <td>Yes</td>\n",
       "      <td>Sat</td>\n",
       "      <td>Dinner</td>\n",
       "      <td>2</td>\n",
       "    </tr>\n",
       "    <tr>\n",
       "      <th>242</th>\n",
       "      <td>17.82</td>\n",
       "      <td>1.75</td>\n",
       "      <td>Male</td>\n",
       "      <td>No</td>\n",
       "      <td>Sat</td>\n",
       "      <td>Dinner</td>\n",
       "      <td>2</td>\n",
       "    </tr>\n",
       "    <tr>\n",
       "      <th>243</th>\n",
       "      <td>18.78</td>\n",
       "      <td>3.00</td>\n",
       "      <td>Female</td>\n",
       "      <td>No</td>\n",
       "      <td>Thur</td>\n",
       "      <td>Dinner</td>\n",
       "      <td>2</td>\n",
       "    </tr>\n",
       "  </tbody>\n",
       "</table>\n",
       "<p>244 rows × 7 columns</p>\n",
       "</div>"
      ],
      "text/plain": [
       "     total_bill   tip     sex smoker   day    time  size\n",
       "0         16.99  1.01  Female     No   Sun  Dinner     2\n",
       "1         10.34  1.66    Male     No   Sun  Dinner     3\n",
       "2         21.01  3.50    Male     No   Sun  Dinner     3\n",
       "3         23.68  3.31    Male     No   Sun  Dinner     2\n",
       "4         24.59  3.61  Female     No   Sun  Dinner     4\n",
       "..          ...   ...     ...    ...   ...     ...   ...\n",
       "239       29.03  5.92    Male     No   Sat  Dinner     3\n",
       "240       27.18  2.00  Female    Yes   Sat  Dinner     2\n",
       "241       22.67  2.00    Male    Yes   Sat  Dinner     2\n",
       "242       17.82  1.75    Male     No   Sat  Dinner     2\n",
       "243       18.78  3.00  Female     No  Thur  Dinner     2\n",
       "\n",
       "[244 rows x 7 columns]"
      ]
     },
     "execution_count": 21,
     "metadata": {},
     "output_type": "execute_result"
    }
   ],
   "source": [
    "df"
   ]
  },
  {
   "cell_type": "code",
   "execution_count": 22,
   "id": "01850a0f-f772-48e3-8186-60c1f78298b8",
   "metadata": {},
   "outputs": [
    {
     "data": {
      "text/html": [
       "<div>\n",
       "<style scoped>\n",
       "    .dataframe tbody tr th:only-of-type {\n",
       "        vertical-align: middle;\n",
       "    }\n",
       "\n",
       "    .dataframe tbody tr th {\n",
       "        vertical-align: top;\n",
       "    }\n",
       "\n",
       "    .dataframe thead th {\n",
       "        text-align: right;\n",
       "    }\n",
       "</style>\n",
       "<table border=\"1\" class=\"dataframe\">\n",
       "  <thead>\n",
       "    <tr style=\"text-align: right;\">\n",
       "      <th></th>\n",
       "      <th>total_bill</th>\n",
       "      <th>tip</th>\n",
       "      <th>size</th>\n",
       "    </tr>\n",
       "  </thead>\n",
       "  <tbody>\n",
       "    <tr>\n",
       "      <th>count</th>\n",
       "      <td>244.000000</td>\n",
       "      <td>244.000000</td>\n",
       "      <td>244.000000</td>\n",
       "    </tr>\n",
       "    <tr>\n",
       "      <th>mean</th>\n",
       "      <td>19.785943</td>\n",
       "      <td>2.998279</td>\n",
       "      <td>2.569672</td>\n",
       "    </tr>\n",
       "    <tr>\n",
       "      <th>std</th>\n",
       "      <td>8.902412</td>\n",
       "      <td>1.383638</td>\n",
       "      <td>0.951100</td>\n",
       "    </tr>\n",
       "    <tr>\n",
       "      <th>min</th>\n",
       "      <td>3.070000</td>\n",
       "      <td>1.000000</td>\n",
       "      <td>1.000000</td>\n",
       "    </tr>\n",
       "    <tr>\n",
       "      <th>25%</th>\n",
       "      <td>13.347500</td>\n",
       "      <td>2.000000</td>\n",
       "      <td>2.000000</td>\n",
       "    </tr>\n",
       "    <tr>\n",
       "      <th>50%</th>\n",
       "      <td>17.795000</td>\n",
       "      <td>2.900000</td>\n",
       "      <td>2.000000</td>\n",
       "    </tr>\n",
       "    <tr>\n",
       "      <th>75%</th>\n",
       "      <td>24.127500</td>\n",
       "      <td>3.562500</td>\n",
       "      <td>3.000000</td>\n",
       "    </tr>\n",
       "    <tr>\n",
       "      <th>max</th>\n",
       "      <td>50.810000</td>\n",
       "      <td>10.000000</td>\n",
       "      <td>6.000000</td>\n",
       "    </tr>\n",
       "  </tbody>\n",
       "</table>\n",
       "</div>"
      ],
      "text/plain": [
       "       total_bill         tip        size\n",
       "count  244.000000  244.000000  244.000000\n",
       "mean    19.785943    2.998279    2.569672\n",
       "std      8.902412    1.383638    0.951100\n",
       "min      3.070000    1.000000    1.000000\n",
       "25%     13.347500    2.000000    2.000000\n",
       "50%     17.795000    2.900000    2.000000\n",
       "75%     24.127500    3.562500    3.000000\n",
       "max     50.810000   10.000000    6.000000"
      ]
     },
     "execution_count": 22,
     "metadata": {},
     "output_type": "execute_result"
    }
   ],
   "source": [
    "df.describe()"
   ]
  },
  {
   "cell_type": "code",
   "execution_count": 23,
   "id": "259beaa8-e676-46e6-8ba5-8b8315892121",
   "metadata": {},
   "outputs": [
    {
     "data": {
      "text/plain": [
       "[1, 2, 1, 100, 100, 100, 3, 4, 50]"
      ]
     },
     "execution_count": 23,
     "metadata": {},
     "output_type": "execute_result"
    }
   ],
   "source": [
    "data"
   ]
  },
  {
   "cell_type": "code",
   "execution_count": 25,
   "id": "127a9ba8-bd99-4e4a-ac91-ecac7a41f938",
   "metadata": {},
   "outputs": [
    {
     "data": {
      "text/plain": [
       "array([2.])"
      ]
     },
     "execution_count": 25,
     "metadata": {},
     "output_type": "execute_result"
    }
   ],
   "source": [
    "np.percentile(data,[25])"
   ]
  },
  {
   "cell_type": "code",
   "execution_count": 27,
   "id": "c51be470-94d1-4fbf-8b54-3581a995c08c",
   "metadata": {},
   "outputs": [
    {
     "data": {
      "text/plain": [
       "array([  2.,   4., 100., 100.])"
      ]
     },
     "execution_count": 27,
     "metadata": {},
     "output_type": "execute_result"
    }
   ],
   "source": [
    "np.percentile(data,[25,50,75,100])"
   ]
  },
  {
   "cell_type": "code",
   "execution_count": 28,
   "id": "1aad08cf-3d4a-4907-8ae3-1cb2a086d86e",
   "metadata": {},
   "outputs": [
    {
     "data": {
      "text/plain": [
       "[1, 2, 1, 100, 100, 100, 3, 4, 50]"
      ]
     },
     "execution_count": 28,
     "metadata": {},
     "output_type": "execute_result"
    }
   ],
   "source": [
    "data"
   ]
  },
  {
   "cell_type": "code",
   "execution_count": 33,
   "id": "cf3d37a1-ed9b-4bda-ba82-ff9dbcb92d48",
   "metadata": {},
   "outputs": [],
   "source": [
    "data.append(-100)\n",
    "data.append(500)"
   ]
  },
  {
   "cell_type": "code",
   "execution_count": 30,
   "id": "14b8f835-8994-4b04-847e-ceae862b5cc9",
   "metadata": {},
   "outputs": [
    {
     "data": {
      "text/plain": [
       "[1, 2, 1, 100, 100, 100, 3, 4, 50, -100, 5000]"
      ]
     },
     "execution_count": 30,
     "metadata": {},
     "output_type": "execute_result"
    }
   ],
   "source": [
    "data"
   ]
  },
  {
   "cell_type": "code",
   "execution_count": 34,
   "id": "78ce4e5c-4674-4589-8384-17d4a9d5d694",
   "metadata": {},
   "outputs": [],
   "source": [
    "# find the outliers"
   ]
  },
  {
   "cell_type": "code",
   "execution_count": 35,
   "id": "b28b9548-af1f-4cd0-aeb1-fc3f17b50458",
   "metadata": {},
   "outputs": [
    {
     "data": {
      "text/plain": [
       "<Axes: >"
      ]
     },
     "execution_count": 35,
     "metadata": {},
     "output_type": "execute_result"
    },
    {
     "data": {
      "image/png": "[encoded data removed]",
      "text/plain": [
       "<Figure size 640x480 with 1 Axes>"
      ]
     },
     "metadata": {},
     "output_type": "display_data"
    }
   ],
   "source": [
    "sns.boxplot(data)"
   ]
  },
  {
   "cell_type": "code",
   "execution_count": 36,
   "id": "034e5b36-53fd-49c4-98aa-03252078d4b1",
   "metadata": {},
   "outputs": [
    {
     "data": {
      "text/plain": [
       "1756721.786982249"
      ]
     },
     "execution_count": 36,
     "metadata": {},
     "output_type": "execute_result"
    }
   ],
   "source": [
    "np.var(data)"
   ]
  },
  {
   "cell_type": "code",
   "execution_count": 37,
   "id": "acadace5-9371-4608-a7a3-1fcffc0741f2",
   "metadata": {},
   "outputs": [
    {
     "data": {
      "text/plain": [
       "1325.4138172594432"
      ]
     },
     "execution_count": 37,
     "metadata": {},
     "output_type": "execute_result"
    }
   ],
   "source": [
    "np.std(data)"
   ]
  },
  {
   "cell_type": "code",
   "execution_count": 39,
   "id": "07d6dbce-9913-45b8-b42c-1cd665f7ba0b",
   "metadata": {},
   "outputs": [
    {
     "data": {
      "text/plain": [
       "435.46153846153845"
      ]
     },
     "execution_count": 39,
     "metadata": {},
     "output_type": "execute_result"
    }
   ],
   "source": [
    "np.mean(data)"
   ]
  },
  {
   "cell_type": "code",
   "execution_count": 41,
   "id": "d68cd9d0-4852-4b8f-88d8-83199d5d2df2",
   "metadata": {},
   "outputs": [
    {
     "data": {
      "text/plain": [
       "1903115.2692307692"
      ]
     },
     "execution_count": 41,
     "metadata": {},
     "output_type": "execute_result"
    }
   ],
   "source": [
    "statistics.variance(data)"
   ]
  },
  {
   "cell_type": "code",
   "execution_count": 42,
   "id": "64e8f412-c365-4d38-b76f-150e0019be97",
   "metadata": {},
   "outputs": [
    {
     "data": {
      "text/plain": [
       "1756721.7869822485"
      ]
     },
     "execution_count": 42,
     "metadata": {},
     "output_type": "execute_result"
    }
   ],
   "source": [
    "statistics.pvariance(data) # Population variance"
   ]
  },
  {
   "cell_type": "code",
   "execution_count": 43,
   "id": "2e596215-cd1d-45dc-bd69-35129d4234db",
   "metadata": {},
   "outputs": [
    {
     "data": {
      "text/plain": [
       "1325.4138172594432"
      ]
     },
     "execution_count": 43,
     "metadata": {},
     "output_type": "execute_result"
    }
   ],
   "source": [
    "# Standard dev using math library\n",
    "import math\n",
    "math.sqrt(statistics.pvariance(data))"
   ]
  },
  {
   "cell_type": "code",
   "execution_count": 18,
   "id": "5c866cf5-bce0-4d29-857f-1fe057559675",
   "metadata": {},
   "outputs": [
    {
     "data": {
      "text/plain": [
       "array([ 0.59474364,  0.8458072 ,  0.34931972,  0.75390538,  0.6629849 ,\n",
       "        0.43831662,  0.35352905,  0.25115337,  0.49116473,  0.40638385,\n",
       "        0.6675099 ,  0.28522103,  0.31112374,  0.48371272,  0.37047517,\n",
       "        0.98053626,  0.40087736,  0.73896734,  0.41874269,  0.44894632,\n",
       "        0.7053533 ,  0.36364005,  0.79477232,  0.16988427,  0.63061431,\n",
       "        0.72989326,  0.42398222,  0.43048557,  0.53679002,  0.6481257 ,\n",
       "        0.71695059,  0.29682357,  0.42109078,  0.62949581,  0.68474567,\n",
       "        0.34997177,  0.13696454,  0.64164595,  0.60624999,  0.67685443,\n",
       "        0.45455783,  0.72960948,  0.56051728,  0.51056958,  0.21648835,\n",
       "        0.13932194,  0.44327829,  0.70129737,  0.37311264,  0.70188309,\n",
       "        0.24599151,  0.64460485,  0.36129918,  0.52223015,  0.28398952,\n",
       "        0.51609011,  0.41713003,  0.23170697,  0.4818569 ,  0.45779499,\n",
       "        0.69567473,  0.82733966,  0.57904988,  0.47595222,  0.6496413 ,\n",
       "        0.71696379,  0.43858172,  0.39408539,  0.89160863,  0.39212261,\n",
       "        0.38152634,  0.51684098,  0.91623992,  0.2591156 ,  0.33157857,\n",
       "        0.49508649,  0.67352133,  0.55721916,  0.40556229,  0.40550572,\n",
       "        0.55344213,  0.65824661,  0.51153353,  0.4255212 ,  0.83361897,\n",
       "        0.8037089 ,  0.57452498,  0.22751906,  0.50857033,  0.82062561,\n",
       "        0.78905421,  0.39802468,  0.65462639,  0.69731675,  0.39785522,\n",
       "        0.51697825,  0.63068795,  0.09314882,  0.86010582,  0.55644255,\n",
       "        0.50274999,  0.48610537,  0.46246041,  0.90311787,  0.24322513,\n",
       "        0.46206131,  0.2075475 ,  0.30773518,  0.34464052,  0.68697672,\n",
       "        0.17189816,  0.53346068,  0.64464558,  0.84743287,  0.45317651,\n",
       "        0.46376622,  0.21816064,  0.34076754,  0.37451971,  0.48605984,\n",
       "        0.48063625,  0.48859012,  0.56062851,  0.26832234,  0.54219861,\n",
       "        0.88519658,  0.42317429,  0.36858447,  0.2649182 ,  0.73873976,\n",
       "        0.57354308,  0.73062394,  0.41521656,  0.95502738,  0.31691248,\n",
       "        0.86363726,  0.62300092,  0.71688259,  0.46044532,  0.28011786,\n",
       "        0.51694171,  0.32686322,  0.30613201,  0.49673028,  0.43946179,\n",
       "        0.29141134,  0.38187787,  0.74913841,  0.38937463,  0.25601121,\n",
       "        0.46624675,  0.56363624,  0.56088773,  0.11223852,  0.12303208,\n",
       "        0.84779485,  0.62927042,  0.87834172,  0.3141435 ,  0.48145212,\n",
       "        0.65631408,  0.48831022,  0.69115377,  0.63234166,  0.47763238,\n",
       "        0.70083023,  0.71848195,  0.72552203,  0.14764796,  0.13950396,\n",
       "        0.32449651,  0.80581868,  0.36360775,  0.53474535,  0.30136956,\n",
       "        0.26667968,  0.53265369,  0.45744551,  0.69288225,  0.76695897,\n",
       "        0.51696107,  0.74314721,  0.67125001,  0.57830045,  0.47551767,\n",
       "        0.31020064,  0.68760573,  0.33211264,  0.44760629,  0.80955267,\n",
       "        0.48934873,  0.58874844,  0.74499955,  0.18387016,  0.62738809,\n",
       "        0.75820216,  0.59371994,  0.30724618,  0.5698228 ,  0.46208497,\n",
       "        0.1722043 ,  0.32850784,  0.49513341, -0.08118082,  0.53959939,\n",
       "        0.01911564,  0.70378664,  0.39533456,  0.58537049,  0.75274456,\n",
       "        0.54851286,  0.27872816,  0.37532051,  0.5680295 ,  0.43205567,\n",
       "        0.53548247,  0.34138305,  0.6853737 ,  0.52065071,  0.32041826,\n",
       "        0.33138479,  0.65142801,  0.53095094,  0.32015077,  0.58000007,\n",
       "        0.6501253 ,  0.42929247,  0.80056838,  0.69050344,  0.21257825,\n",
       "        0.59038138,  0.29313513,  0.24211296,  0.47611183,  0.78861075,\n",
       "        0.52472088,  0.39499902,  0.57914509,  0.61600826,  0.59578201,\n",
       "        0.59955383,  0.4604819 ,  0.59160798,  0.69834106,  0.47757541,\n",
       "        0.24700318,  0.39029655,  0.40480552,  0.48940209,  0.03236532,\n",
       "        0.61020067,  0.40339772,  0.27619566,  0.63977699,  0.08044702,\n",
       "        0.90902963,  0.49374429,  0.38719785,  0.66312517,  0.42334944,\n",
       "        0.44513044,  0.72926944,  0.77061991,  0.53793604,  0.64271906,\n",
       "        0.41696135,  0.68831285,  0.40445044,  0.62256095,  0.26274176,\n",
       "        0.52285201,  0.52434674,  0.03926789,  0.27616767,  0.40163595,\n",
       "        0.58993498,  0.64772561,  0.49129848,  0.33668971,  0.2983169 ,\n",
       "        0.57950634,  0.12436984,  0.5370215 ,  0.52377613,  0.47862379,\n",
       "        0.56828626,  0.59759143,  0.83866002,  0.46312537,  0.45216099,\n",
       "        0.41664866,  0.55953648,  0.10917837,  0.33863524,  0.69932061,\n",
       "        0.7376369 ,  0.53573715,  0.58456222,  0.55526126,  0.59132362,\n",
       "        0.09971003,  0.7926756 ,  0.70357654,  0.53491494,  0.36939664,\n",
       "        0.6627943 ,  0.54785423,  0.55820785,  0.82862406,  0.32673077,\n",
       "        0.45651255,  0.49223283,  0.96441693,  0.16927343,  0.43250737,\n",
       "        0.29319352,  0.70960609,  0.39268525,  0.28157882,  0.63503166,\n",
       "        0.57091443,  0.52022872,  0.55341414,  0.48142073,  0.27503931,\n",
       "        0.54343529,  0.41414343,  0.18684406,  0.34233498,  0.46183464,\n",
       "        0.48975481,  0.34671266,  0.20735987,  0.55731464,  0.28528032,\n",
       "        0.4887719 ,  0.60929559,  0.49113542,  0.60386567,  0.3977991 ,\n",
       "        0.66563108,  0.80199567,  0.28387339,  0.61163596,  0.38760516,\n",
       "        0.56475776,  0.62860374,  0.60319951,  0.36560013,  0.67716053,\n",
       "        0.37567941,  0.57683326,  0.82144309,  0.45063579,  0.26914388,\n",
       "        0.23102986,  0.39089052,  0.46983861,  0.3525363 ,  0.56622998,\n",
       "        0.18723474,  0.77164829,  0.47230725,  0.29694065,  0.63684741,\n",
       "        0.78936781,  0.44343593,  0.68935179,  0.40647326,  0.34755495,\n",
       "        0.46107092,  0.41452101,  0.91975342,  0.31755815,  0.16759925,\n",
       "        0.34395619,  0.60703482,  0.65731656,  0.67695654,  0.42385902,\n",
       "        0.63434125,  0.12090324,  0.27652226,  0.5076543 ,  0.59893529,\n",
       "        0.41679274,  0.590236  ,  0.2921353 ,  0.79913998,  0.49630712,\n",
       "        0.48031479, -0.11261831,  0.16566093,  0.4736419 ,  0.53539605,\n",
       "        0.41704559,  0.48388083,  0.22704351,  0.43109938,  0.77922763,\n",
       "        0.71976982,  0.44045176,  0.37030804,  0.68909411,  0.78972895,\n",
       "        0.73908392,  0.20646058,  0.56715297,  0.69213328,  0.35556936,\n",
       "        0.37702419,  0.47990841,  0.21244194,  0.45970102,  0.32770089,\n",
       "        0.95966644,  0.39830869,  0.60851159,  0.30578306,  0.66622801,\n",
       "        0.25774519,  0.67089716,  0.54269644,  0.78840277,  0.20720668,\n",
       "        0.76690084,  0.32973302,  0.46739002,  0.42432149,  0.93685604,\n",
       "        0.34854827,  0.202671  ,  0.4952718 ,  0.37673176,  0.71395724,\n",
       "        0.49349735,  0.21760769,  0.45972998,  0.43173554,  0.71503904,\n",
       "        0.65614779,  0.61754381,  0.28848798,  0.4583697 ,  0.47629901,\n",
       "        0.19928114,  0.67954962,  0.40918348,  0.58447866,  0.75307437,\n",
       "        0.5489321 ,  0.98068342,  0.40850277,  0.45178729,  0.58560203,\n",
       "        0.66973073,  0.53223726,  0.56465801,  0.70302704,  0.43708192,\n",
       "        0.22112256,  0.27686556,  0.34439811,  0.49767897,  0.53756053,\n",
       "        0.30658842,  0.44933119,  0.55527809,  0.21671843,  0.45571785,\n",
       "        0.40496263,  0.65174343,  0.65646355,  0.58005935,  0.8754784 ,\n",
       "        0.78463068,  0.23508398,  0.5501139 ,  0.61713149,  0.70671298,\n",
       "        0.42767914,  0.51748707,  0.43744862,  0.60758939,  0.76814688,\n",
       "        0.4451379 ,  0.18787159,  0.59685119,  0.36767039,  0.37660712,\n",
       "        0.54709816,  0.74140617,  0.4853314 ,  0.68716144,  0.60423819,\n",
       "        0.66733369,  0.37240594,  0.56009571,  0.34694785,  0.48612896,\n",
       "        0.44972572, -0.0669482 ,  0.54539494,  0.54563978,  0.74464062,\n",
       "        0.8442887 ,  0.69857842,  0.69099148,  0.46178324,  0.72292694,\n",
       "        0.62780834,  0.18833232,  0.37041525,  0.18985083,  0.0859373 ,\n",
       "        0.75872638,  0.42346152,  0.27997233,  0.8576681 ,  0.56336758,\n",
       "        0.97335245,  0.61676835,  0.36442813,  0.52125425,  0.46232434,\n",
       "        0.20805867,  0.5416633 ,  0.26004331,  0.52378927,  0.48764656,\n",
       "        0.40929562,  0.77203496,  0.06152246,  0.97084178,  0.56293789,\n",
       "        0.22287296,  0.5556984 ,  0.0893934 ,  0.62972721,  0.40563483,\n",
       "        0.9276253 ,  0.46305798,  0.63568052,  0.64931388,  0.76869031,\n",
       "        0.71542862,  0.55838361,  0.39715331,  0.36640695,  0.71925209,\n",
       "        0.54464768,  0.29681166,  0.69501718,  0.61183354,  0.78290958,\n",
       "        0.55113027,  0.39875148,  0.50779271,  0.89368148,  0.07830602,\n",
       "        0.80942224,  0.58712828,  0.29724894,  0.46822065,  0.57777683,\n",
       "        0.66577784,  0.2451683 ,  0.69661831,  0.64425796,  0.39111884,\n",
       "        0.68089767,  0.62008157,  0.53078278,  0.5588322 ,  0.42579203,\n",
       "        0.37988798,  0.13434004,  0.66837751,  0.46469231,  0.43606331,\n",
       "        0.27194249,  0.22213776,  0.77245326,  0.35414097,  0.4642812 ,\n",
       "        0.47253559,  0.43762369,  0.43680862,  0.09292071,  0.44358563,\n",
       "        0.82151204,  0.97186196,  0.64846576,  0.24523648,  0.44073498,\n",
       "        0.81141092,  0.76287624,  0.57293682,  0.42910598,  0.5581817 ,\n",
       "        0.29436051,  0.59657454,  0.66180423,  0.76778315,  0.7785315 ,\n",
       "        0.59433484,  0.50127486,  0.33824433,  0.55478744,  0.51910003,\n",
       "        0.36130717,  0.25704528,  0.32098229,  0.60978432,  0.55490956,\n",
       "        0.51335165,  0.45146908,  0.46421486,  0.13968089,  0.57930096,\n",
       "        0.41730787,  0.4043544 ,  0.4280738 ,  0.69167044,  0.60925899,\n",
       "        0.85674216,  0.63559255,  0.58213624,  0.30781816,  0.49067083,\n",
       "        0.68670237,  0.78063126,  0.65927716,  0.56883186,  0.33127208,\n",
       "        0.68806156,  0.77884135,  0.5600551 ,  0.2570383 ,  0.60913508,\n",
       "        0.39988143,  0.49438767,  0.63014466,  0.09140694,  0.52237712,\n",
       "        0.57428879,  0.80274291,  0.70331705,  0.62161192,  0.29817854,\n",
       "        0.55565057,  0.12587208,  0.49134262,  0.44707395,  0.49982659,\n",
       "        0.57257213,  0.7419508 ,  0.57721414,  0.46039452,  0.41112632,\n",
       "        0.19828354,  0.72331952,  0.38671634,  0.17977876,  0.7442205 ,\n",
       "        0.28128714,  0.75287904,  0.4441555 ,  0.41346773,  0.42791485,\n",
       "        0.48959773,  0.54291689,  0.66167808,  0.15972511,  0.46488359,\n",
       "        0.58351535,  0.66665371,  0.77958956,  0.6394913 ,  0.64635051,\n",
       "        0.42914402,  0.49086114,  0.41058348,  0.51763293,  0.46376885,\n",
       "        0.37088952,  0.64334165,  0.57570493,  0.64170541,  0.6628995 ,\n",
       "        0.41432335,  0.02438578,  0.71469117,  0.66988036,  0.56367443,\n",
       "        0.65744319,  0.90368639,  0.6192635 ,  0.45331131,  0.50600063,\n",
       "        0.20412023,  0.23690967,  0.03170159,  0.55401618,  0.40179851,\n",
       "        0.40736763,  0.61404754,  0.50509021,  0.6563202 ,  0.65222196,\n",
       "        0.26728399,  0.58179454,  0.72239759,  0.97652821,  0.76797399,\n",
       "        0.48423672,  0.48313916,  0.78562475,  0.36186284,  0.43582249,\n",
       "        0.50247238,  0.39426244,  0.40645783,  0.44813502,  0.61065464,\n",
       "        0.98732146,  0.54566834,  0.42904475,  0.54190196,  0.32194798,\n",
       "        0.30029524,  0.57514861,  0.21253485,  0.55795907,  0.6224425 ,\n",
       "        0.66036513,  0.54595208,  0.64621696,  0.25859556,  0.46586788,\n",
       "        0.25772793,  0.34200781,  0.72882127,  0.83075389,  0.90321683,\n",
       "        0.88012078, -0.16600273,  0.45799739,  0.49380287,  0.56541718,\n",
       "        0.57397577,  0.6728061 ,  0.75152563,  0.46220491,  0.52345027,\n",
       "        0.49864158,  0.51462851,  0.48925789,  0.74693474,  0.55583778,\n",
       "        0.73887242,  0.30275034,  0.18716848,  0.27523114,  0.50231996,\n",
       "        0.10130288,  0.34079108,  0.14596169,  0.56333239,  0.36987528,\n",
       "        0.54297195,  0.44723577,  0.51975637,  0.84439727,  0.35258312,\n",
       "        0.28726443,  0.66325095,  0.60255256,  0.85712093,  0.46701177,\n",
       "       -0.02664573,  0.24415863,  0.49007742,  0.47045865,  0.41208942,\n",
       "        0.55431347,  0.52714673,  0.2134856 ,  0.14455746,  0.71452268,\n",
       "        0.51303883,  0.51825416,  0.6122554 ,  0.39019917,  0.70359898,\n",
       "        0.28515321,  0.43606488,  0.19860118,  0.25925326,  0.65876274,\n",
       "        0.30654005,  0.64899578,  0.29914243,  0.44689575,  0.4087323 ,\n",
       "        0.5869039 ,  0.19348262,  0.62574193,  0.5406194 ,  0.59034993,\n",
       "        0.21358423,  0.60333922,  0.54683941,  0.62344694,  0.81419608,\n",
       "        0.52005908,  0.78044281,  0.70254799,  0.84105422,  0.61336978,\n",
       "        0.83673145,  0.23516056,  0.48905825,  0.38527463,  0.47213011,\n",
       "        0.26569946,  0.43665878,  0.33076836,  0.55474839,  0.4430895 ,\n",
       "        0.5798871 ,  0.27622731,  0.84680844,  0.39023197,  0.55972072,\n",
       "        0.83117687,  0.3402862 ,  0.35149634,  0.52165616,  0.38338455,\n",
       "        0.58852792,  0.35800724,  0.55611963,  0.85239814,  0.29424587,\n",
       "        0.5155454 ,  0.46575879,  0.86052994,  0.64192062,  0.81867106,\n",
       "        0.73545945,  0.32724548,  1.01200712,  0.11541948,  0.49408347,\n",
       "        0.31500783,  0.74804577,  0.20593842,  0.32981375,  0.5935593 ,\n",
       "        0.65335789,  0.30927858,  0.77034073,  0.71837377,  0.51347453,\n",
       "        0.17320161,  0.50257906,  0.48843987,  0.62917369,  0.47384987,\n",
       "        0.36288991,  0.75592729,  0.73863107,  0.66960683,  0.51322203,\n",
       "        0.27687238,  0.48831742,  0.61354877,  0.56955914,  0.54975433,\n",
       "        0.67797664,  0.40886575,  0.48446914,  0.41901959,  0.47810763,\n",
       "        0.5986975 ,  0.66558952,  0.49076159, -0.04807582,  0.60251297,\n",
       "        0.87067191,  0.65271417,  0.84387866,  0.45167115,  0.41535884,\n",
       "        0.38048056,  0.55036702,  0.83230611,  0.49025469,  0.36856165,\n",
       "        0.71255572,  0.23601423,  0.21435665,  0.05861001,  0.47346012,\n",
       "        0.48490685,  0.58938446,  0.66400834,  0.51173518,  0.52268406,\n",
       "        0.23499652,  0.58608399,  0.55872127,  0.7117716 ,  0.32468837,\n",
       "        0.65322904,  0.1767219 ,  0.91916435,  0.45042123,  0.23585509,\n",
       "        0.51404589,  0.35874994,  0.33819576,  0.56259747,  0.56585397,\n",
       "        0.54310235,  0.47853368,  0.71067688,  0.58269818,  0.12475269,\n",
       "        0.25284359,  0.37153667,  0.73250666,  0.54386031,  0.21027231,\n",
       "        0.52929058,  0.63418622,  0.57546614,  0.26023664,  0.51965622,\n",
       "        0.41794905,  0.47237202,  0.47083593,  0.53759841,  0.33012368,\n",
       "        0.48381859,  0.55599327,  0.31339837,  0.56296649,  0.35004801,\n",
       "        0.29628437,  0.61415177,  0.68353624,  0.47311138,  0.7673554 ,\n",
       "        0.71241479,  0.04939831,  0.3251845 ,  0.84808492,  0.77347837,\n",
       "        0.18615935,  0.34392914,  0.51581677,  0.48779432,  0.07813162,\n",
       "        0.82271388,  0.32834831,  0.45698402,  0.22799334,  0.81839173,\n",
       "        0.95369924,  0.23001985,  0.75492681,  0.32409949,  0.19110544,\n",
       "        0.44643541,  0.4093844 ,  0.51686606,  0.75528305,  0.35094486,\n",
       "        0.85100152,  0.85713139,  0.79616153,  0.40111263,  0.27336158,\n",
       "        0.71191783,  0.42806223,  0.56018512,  0.16349009,  0.1740007 ,\n",
       "        0.66878639,  0.42785794,  0.04501208,  0.64055572,  0.34768756,\n",
       "        0.40646896,  0.54984051,  0.3667916 ,  0.738038  ,  0.28534451])"
      ]
     },
     "execution_count": 18,
     "metadata": {},
     "output_type": "execute_result"
    }
   ],
   "source": [
    "np.random.normal(0.5, 0.2, 1000)"
   ]
  },
  {
   "cell_type": "code",
   "execution_count": 19,
   "id": "a707ef7b-e7f2-44fc-86c5-ae75700d42b5",
   "metadata": {},
   "outputs": [
    {
     "name": "stderr",
     "output_type": "stream",
     "text": [
      "C:\\Users\\SqyUser\\anaconda3\\Lib\\site-packages\\seaborn\\_oldcore.py:1119: FutureWarning: use_inf_as_na option is deprecated and will be removed in a future version. Convert inf values to NaN before operating instead.\n",
      "  with pd.option_context('mode.use_inf_as_na', True):\n"
     ]
    },
    {
     "data": {
      "text/plain": [
       "<Axes: ylabel='Count'>"
      ]
     },
     "execution_count": 19,
     "metadata": {},
     "output_type": "execute_result"
    },
    {
     "data": {
      "image/png": "[encoded data removed]",
      "text/plain": [
       "<Figure size 640x480 with 1 Axes>"
      ]
     },
     "metadata": {},
     "output_type": "display_data"
    }
   ],
   "source": [
    "var = np.random.normal(0.5, 0.2, 1000)\n",
    "sns.histplot(var, kde = True)"
   ]
  },
  {
   "cell_type": "code",
   "execution_count": 20,
   "id": "a606dd1f-f4fa-4fe9-a4e6-af5457513a9e",
   "metadata": {},
   "outputs": [
    {
     "name": "stderr",
     "output_type": "stream",
     "text": [
      "C:\\Users\\SqyUser\\AppData\\Local\\Temp\\ipykernel_8800\\2604771529.py:1: UserWarning: \n",
      "\n",
      "`distplot` is a deprecated function and will be removed in seaborn v0.14.0.\n",
      "\n",
      "Please adapt your code to use either `displot` (a figure-level function with\n",
      "similar flexibility) or `histplot` (an axes-level function for histograms).\n",
      "\n",
      "For a guide to updating your code to use the new functions, please see\n",
      "https://gist.github.com/mwaskom/de44147ed2974457ad6372750bbe5751\n",
      "\n",
      "  sns.distplot(var, kde = True)\n",
      "C:\\Users\\SqyUser\\anaconda3\\Lib\\site-packages\\seaborn\\_oldcore.py:1119: FutureWarning: use_inf_as_na option is deprecated and will be removed in a future version. Convert inf values to NaN before operating instead.\n",
      "  with pd.option_context('mode.use_inf_as_na', True):\n"
     ]
    },
    {
     "data": {
      "text/plain": [
       "<Axes: ylabel='Density'>"
      ]
     },
     "execution_count": 20,
     "metadata": {},
     "output_type": "execute_result"
    },
    {
     "data": {
      "image/png": "[encoded data removed]",
      "text/plain": [
       "<Figure size 640x480 with 1 Axes>"
      ]
     },
     "metadata": {},
     "output_type": "display_data"
    }
   ],
   "source": [
    "sns.distplot(var, kde = True)"
   ]
  },
  {
   "cell_type": "code",
   "execution_count": null,
   "id": "e4848edd-36e4-48c3-9db8-9d2915b02a3a",
   "metadata": {},
   "outputs": [],
   "source": []
  },
  {
   "cell_type": "code",
   "execution_count": null,
   "id": "3271ee77-0b27-44c8-9f65-9bf8576a5f5e",
   "metadata": {},
   "outputs": [],
   "source": []
  },
  {
   "cell_type": "code",
   "execution_count": null,
   "id": "f97b5f99-2d3f-42fe-8cd2-1f6638ec63c4",
   "metadata": {},
   "outputs": [],
   "source": []
  },
  {
   "cell_type": "code",
   "execution_count": null,
   "id": "82f95753-440e-44a9-b24c-53331294bcca",
   "metadata": {},
   "outputs": [],
   "source": []
  },
  {
   "cell_type": "code",
   "execution_count": null,
   "id": "78e33d72-7c6c-4ca6-8cca-61bcb7237a88",
   "metadata": {},
   "outputs": [],
   "source": []
  },
  {
   "cell_type": "code",
   "execution_count": null,
   "id": "fb08e2da-3bb4-4107-9861-37e306db3035",
   "metadata": {},
   "outputs": [],
   "source": []
  },
  {
   "cell_type": "code",
   "execution_count": null,
   "id": "7e9041ea-94f7-4d18-af20-b82361228f12",
   "metadata": {},
   "outputs": [],
   "source": []
  },
  {
   "cell_type": "code",
   "execution_count": null,
   "id": "df852fff-7b27-4827-b9d5-e632b6fbae67",
   "metadata": {},
   "outputs": [],
   "source": []
  }
 ],
 "metadata": {
  "kernelspec": {
   "display_name": "Python 3 (ipykernel)",
   "language": "python",
   "name": "python3"
  },
  "language_info": {
   "codemirror_mode": {
    "name": "ipython",
    "version": 3
   },
   "file_extension": ".py",
   "mimetype": "text/x-python",
   "name": "python",
   "nbconvert_exporter": "python",
   "pygments_lexer": "ipython3",
   "version": "3.11.7"
  }
 },
 "nbformat": 4,
 "nbformat_minor": 5
}
