{
 "cells": [
  {
   "cell_type": "code",
   "execution_count": 1,
   "id": "754e329e",
   "metadata": {},
   "outputs": [],
   "source": [
    "import pandas as pd\n",
    "import numpy as np\n",
    "import seaborn as sns"
   ]
  },
  {
   "cell_type": "code",
   "execution_count": 2,
   "id": "fdcaf093",
   "metadata": {},
   "outputs": [],
   "source": [
    "population = np.random.randint(10, 20, 50)"
   ]
  },
  {
   "cell_type": "code",
   "execution_count": 3,
   "id": "687a5394",
   "metadata": {},
   "outputs": [
    {
     "data": {
      "text/plain": [
       "array([18, 17, 16, 10, 19, 16, 15, 14, 17, 14, 17, 12, 11, 10, 10, 11, 15,\n",
       "       11, 19, 12, 10, 18, 17, 15, 12, 16, 17, 16, 13, 18, 12, 12, 13, 12,\n",
       "       11, 13, 14, 14, 17, 17, 14, 11, 13, 15, 13, 11, 12, 18, 10, 11])"
      ]
     },
     "execution_count": 3,
     "metadata": {},
     "output_type": "execute_result"
    }
   ],
   "source": [
    "population"
   ]
  },
  {
   "cell_type": "code",
   "execution_count": 7,
   "id": "cb9c6c8b",
   "metadata": {},
   "outputs": [
    {
     "name": "stdout",
     "output_type": "stream",
     "text": [
      "the mean of pop 13.98\n",
      "the median of pop 14.0\n",
      "the mode of pop 17\n"
     ]
    }
   ],
   "source": [
    "from statistics import mode \n",
    "print('the mean of pop', np.mean(population))\n",
    "print('the median of pop', np.median(population))\n",
    "print('the mode of pop',mode(population))"
   ]
  },
  {
   "cell_type": "code",
   "execution_count": 8,
   "id": "10bb00e3",
   "metadata": {},
   "outputs": [
    {
     "name": "stdout",
     "output_type": "stream",
     "text": [
      "the mean of sample 14.9\n",
      "the median of sample 17.0\n",
      "the mode of sample 17\n"
     ]
    }
   ],
   "source": [
    "sample = np.random.choice(population , 20)\n",
    "print('the mean of sample', np.mean(sample))\n",
    "print('the median of sample', np.median(sample))\n",
    "print('the mode of sample',mode(sample))"
   ]
  },
  {
   "cell_type": "code",
   "execution_count": 11,
   "id": "e2aa8b84",
   "metadata": {},
   "outputs": [],
   "source": [
    "sample1 = np.random.choice(population , 20)\n",
    "sample2 = np.random.choice(population , 20)\n",
    "sample3 = np.random.choice(population , 20)\n",
    "sample4 = np.random.choice(population , 20)"
   ]
  },
  {
   "cell_type": "code",
   "execution_count": 12,
   "id": "e83db201",
   "metadata": {},
   "outputs": [
    {
     "data": {
      "text/plain": [
       "array([10, 19, 18, 18, 12, 11, 12, 12, 12, 12, 11, 19, 13, 17, 11, 11, 11,\n",
       "       16, 11, 14])"
      ]
     },
     "execution_count": 12,
     "metadata": {},
     "output_type": "execute_result"
    }
   ],
   "source": [
    "sample4"
   ]
  },
  {
   "cell_type": "code",
   "execution_count": 13,
   "id": "c2e7439c",
   "metadata": {},
   "outputs": [
    {
     "data": {
      "text/plain": [
       "array([10, 12, 18, 11, 17, 11, 12, 12, 19, 10, 11, 15, 18, 15, 13, 16, 13,\n",
       "       14, 18, 16])"
      ]
     },
     "execution_count": 13,
     "metadata": {},
     "output_type": "execute_result"
    }
   ],
   "source": [
    "sample1 "
   ]
  },
  {
   "cell_type": "code",
   "execution_count": 19,
   "id": "bde37221",
   "metadata": {},
   "outputs": [],
   "source": [
    "mean_of_samples = []\n",
    "all_sample = [sample1, sample2, sample3, sample4]  # Assuming sample1, sample2, sample3, sample4 are defined elsewhere\n",
    "\n",
    "for sample in all_sample:\n",
    "    mean_of_samples.append(np.mean(sample))"
   ]
  },
  {
   "cell_type": "code",
   "execution_count": 20,
   "id": "d4e59d54",
   "metadata": {},
   "outputs": [
    {
     "data": {
      "text/plain": [
       "[14.05, 14.05, 14.6, 13.5]"
      ]
     },
     "execution_count": 20,
     "metadata": {},
     "output_type": "execute_result"
    }
   ],
   "source": [
    "mean_of_samples"
   ]
  },
  {
   "cell_type": "code",
   "execution_count": null,
   "id": "291d0740",
   "metadata": {},
   "outputs": [],
   "source": [
    "# central limit theorem , sampling mean distribution................"
   ]
  },
  {
   "cell_type": "code",
   "execution_count": 25,
   "id": "6c1c84b3",
   "metadata": {},
   "outputs": [],
   "source": [
    "population = np.random.binomial(10,0.5,100000)\n",
    "# 10 is no of trials or experiment.\n",
    "# 0.5 is the probability of success.\n",
    "# 100000 will generate 100000 random nos each representting the outcome of 10 independent trials."
   ]
  },
  {
   "cell_type": "code",
   "execution_count": 27,
   "id": "5c528da0",
   "metadata": {},
   "outputs": [
    {
     "data": {
      "text/plain": [
       "array([5, 5, 5, ..., 3, 6, 7])"
      ]
     },
     "execution_count": 27,
     "metadata": {},
     "output_type": "execute_result"
    }
   ],
   "source": [
    "population"
   ]
  },
  {
   "cell_type": "code",
   "execution_count": 28,
   "id": "e0a15fa0",
   "metadata": {},
   "outputs": [
    {
     "data": {
      "text/plain": [
       "100000"
      ]
     },
     "execution_count": 28,
     "metadata": {},
     "output_type": "execute_result"
    }
   ],
   "source": [
    "len(population)"
   ]
  },
  {
   "cell_type": "code",
   "execution_count": 83,
   "id": "91394e55",
   "metadata": {},
   "outputs": [
    {
     "name": "stderr",
     "output_type": "stream",
     "text": [
      "C:\\Users\\SqyUser\\AppData\\Local\\Temp\\ipykernel_17836\\2958836585.py:1: UserWarning: \n",
      "\n",
      "`distplot` is a deprecated function and will be removed in seaborn v0.14.0.\n",
      "\n",
      "Please adapt your code to use either `displot` (a figure-level function with\n",
      "similar flexibility) or `histplot` (an axes-level function for histograms).\n",
      "\n",
      "For a guide to updating your code to use the new functions, please see\n",
      "https://gist.github.com/mwaskom/de44147ed2974457ad6372750bbe5751\n",
      "\n",
      "  sns.distplot(population)\n",
      "C:\\Users\\SqyUser\\anaconda3\\Lib\\site-packages\\seaborn\\_oldcore.py:1119: FutureWarning: use_inf_as_na option is deprecated and will be removed in a future version. Convert inf values to NaN before operating instead.\n",
      "  with pd.option_context('mode.use_inf_as_na', True):\n"
     ]
    },
    {
     "data": {
      "text/plain": [
       "<Axes: ylabel='Density'>"
      ]
     },
     "execution_count": 83,
     "metadata": {},
     "output_type": "execute_result"
    },
    {
     "data": {
      "image/png": "[encoded data removed]",
      "text/plain": [
       "<Figure size 640x480 with 1 Axes>"
      ]
     },
     "metadata": {},
     "output_type": "display_data"
    }
   ],
   "source": [
    "sns.distplot(population)"
   ]
  },
  {
   "cell_type": "code",
   "execution_count": 34,
   "id": "03f47f72",
   "metadata": {},
   "outputs": [],
   "source": [
    "sample_size = int(len(population)*0.030)"
   ]
  },
  {
   "cell_type": "code",
   "execution_count": 35,
   "id": "791ff1b2",
   "metadata": {},
   "outputs": [
    {
     "data": {
      "text/plain": [
       "3000"
      ]
     },
     "execution_count": 35,
     "metadata": {},
     "output_type": "execute_result"
    }
   ],
   "source": [
    "sample_size"
   ]
  },
  {
   "cell_type": "code",
   "execution_count": 37,
   "id": "45cdb69d",
   "metadata": {},
   "outputs": [],
   "source": [
    "mean_of_samples = []\n",
    "\n",
    "for i in range(1,1000):\n",
    "    sample = np.random.choice(population, size = sample_size)\n",
    "    mean_of_samples.append(np.mean(sample))"
   ]
  },
  {
   "cell_type": "code",
   "execution_count": 38,
   "id": "955df7ac",
   "metadata": {},
   "outputs": [
    {
     "data": {
      "text/plain": [
       "[4.978,\n",
       " 4.996333333333333,\n",
       " 4.998666666666667,\n",
       " 5.022333333333333,\n",
       " 4.959333333333333,\n",
       " 5.014333333333333,\n",
       " 5.022,\n",
       " 4.983,\n",
       " 4.995333333333333,\n",
       " 5.023666666666666,\n",
       " 4.957333333333334,\n",
       " 4.977333333333333,\n",
       " 5.0056666666666665,\n",
       " 4.976,\n",
       " 5.060666666666667,\n",
       " 5.002666666666666,\n",
       " 5.021333333333334,\n",
       " 4.977333333333333,\n",
       " 4.981333333333334,\n",
       " 5.033666666666667,\n",
       " 5.031666666666666,\n",
       " 5.002,\n",
       " 5.018666666666666,\n",
       " 5.019,\n",
       " 4.992666666666667,\n",
       " 4.965,\n",
       " 4.9736666666666665,\n",
       " 4.963666666666667,\n",
       " 4.985333333333333,\n",
       " 4.976666666666667,\n",
       " 4.99,\n",
       " 5.058,\n",
       " 4.962666666666666,\n",
       " 4.964333333333333,\n",
       " 4.968333333333334,\n",
       " 4.991,\n",
       " 4.929333333333333,\n",
       " 5.032666666666667,\n",
       " 5.005,\n",
       " 4.985,\n",
       " 5.006333333333333,\n",
       " 4.986,\n",
       " 4.986,\n",
       " 4.999,\n",
       " 5.016666666666667,\n",
       " 4.9656666666666665,\n",
       " 4.983333333333333,\n",
       " 5.042333333333334,\n",
       " 4.961666666666667,\n",
       " 4.973,\n",
       " 4.953333333333333,\n",
       " 4.995333333333333,\n",
       " 4.991333333333333,\n",
       " 5.047,\n",
       " 5.002666666666666,\n",
       " 5.028666666666667,\n",
       " 5.012666666666667,\n",
       " 4.991666666666666,\n",
       " 5.043666666666667,\n",
       " 4.941666666666666,\n",
       " 4.957,\n",
       " 5.026666666666666,\n",
       " 4.969,\n",
       " 4.980666666666667,\n",
       " 5.046,\n",
       " 4.974333333333333,\n",
       " 5.022,\n",
       " 4.982,\n",
       " 5.017,\n",
       " 5.02,\n",
       " 4.9623333333333335,\n",
       " 5.051666666666667,\n",
       " 5.000333333333334,\n",
       " 5.020333333333333,\n",
       " 4.969666666666667,\n",
       " 5.005333333333334,\n",
       " 4.993333333333333,\n",
       " 4.984333333333334,\n",
       " 5.000333333333334,\n",
       " 5.020333333333333,\n",
       " 4.995,\n",
       " 4.934333333333333,\n",
       " 4.993666666666667,\n",
       " 5.020666666666667,\n",
       " 5.016,\n",
       " 5.082,\n",
       " 4.966666666666667,\n",
       " 5.030333333333333,\n",
       " 5.020666666666667,\n",
       " 5.046666666666667,\n",
       " 5.008333333333334,\n",
       " 5.011666666666667,\n",
       " 4.9863333333333335,\n",
       " 4.998666666666667,\n",
       " 4.975666666666666,\n",
       " 5.001333333333333,\n",
       " 4.988666666666667,\n",
       " 4.9736666666666665,\n",
       " 5.000666666666667,\n",
       " 5.006,\n",
       " 5.029,\n",
       " 5.036333333333333,\n",
       " 4.991666666666666,\n",
       " 5.011333333333333,\n",
       " 4.971333333333333,\n",
       " 5.022666666666667,\n",
       " 4.986666666666666,\n",
       " 5.008666666666667,\n",
       " 4.964333333333333,\n",
       " 4.975,\n",
       " 4.995666666666667,\n",
       " 4.985666666666667,\n",
       " 5.002,\n",
       " 5.028666666666667,\n",
       " 4.985666666666667,\n",
       " 4.929,\n",
       " 5.022,\n",
       " 4.975333333333333,\n",
       " 4.949666666666666,\n",
       " 4.983,\n",
       " 5.0103333333333335,\n",
       " 5.049333333333333,\n",
       " 5.0216666666666665,\n",
       " 5.030666666666667,\n",
       " 4.979,\n",
       " 5.023,\n",
       " 5.003,\n",
       " 4.9526666666666666,\n",
       " 5.023,\n",
       " 5.007333333333333,\n",
       " 5.003666666666667,\n",
       " 5.020666666666667,\n",
       " 5.006,\n",
       " 5.014,\n",
       " 4.980333333333333,\n",
       " 5.009666666666667,\n",
       " 5.014666666666667,\n",
       " 4.959,\n",
       " 5.011,\n",
       " 4.958666666666667,\n",
       " 5.024333333333334,\n",
       " 4.966,\n",
       " 5.012,\n",
       " 4.987,\n",
       " 5.039666666666666,\n",
       " 5.015333333333333,\n",
       " 5.04,\n",
       " 4.9816666666666665,\n",
       " 5.008333333333334,\n",
       " 5.018,\n",
       " 5.014666666666667,\n",
       " 4.991666666666666,\n",
       " 5.039666666666666,\n",
       " 4.996,\n",
       " 4.996,\n",
       " 4.993,\n",
       " 5.035,\n",
       " 4.983666666666666,\n",
       " 5.039666666666666,\n",
       " 4.949666666666666,\n",
       " 4.972666666666667,\n",
       " 5.02,\n",
       " 5.031,\n",
       " 4.991333333333333,\n",
       " 4.974,\n",
       " 5.032,\n",
       " 4.986,\n",
       " 5.057666666666667,\n",
       " 4.963666666666667,\n",
       " 5.038666666666667,\n",
       " 4.9943333333333335,\n",
       " 5.0056666666666665,\n",
       " 4.978,\n",
       " 5.02,\n",
       " 4.993666666666667,\n",
       " 5.014333333333333,\n",
       " 5.0,\n",
       " 5.000333333333334,\n",
       " 5.05,\n",
       " 5.016333333333334,\n",
       " 4.957333333333334,\n",
       " 5.004,\n",
       " 4.991,\n",
       " 5.021333333333334,\n",
       " 4.990333333333333,\n",
       " 4.9943333333333335,\n",
       " 4.9943333333333335,\n",
       " 5.011,\n",
       " 4.968333333333334,\n",
       " 5.005333333333334,\n",
       " 4.977666666666667,\n",
       " 5.022,\n",
       " 4.945333333333333,\n",
       " 5.039333333333333,\n",
       " 5.0103333333333335,\n",
       " 4.971333333333333,\n",
       " 4.988666666666667,\n",
       " 5.011,\n",
       " 4.987,\n",
       " 4.996,\n",
       " 5.006333333333333,\n",
       " 4.986,\n",
       " 5.0296666666666665,\n",
       " 5.016333333333334,\n",
       " 5.018,\n",
       " 4.985333333333333,\n",
       " 4.991666666666666,\n",
       " 5.022666666666667,\n",
       " 4.95,\n",
       " 5.072666666666667,\n",
       " 5.003666666666667,\n",
       " 4.98,\n",
       " 5.052,\n",
       " 5.05,\n",
       " 5.038,\n",
       " 4.969333333333333,\n",
       " 4.987,\n",
       " 4.990333333333333,\n",
       " 4.9703333333333335,\n",
       " 5.004666666666667,\n",
       " 5.009333333333333,\n",
       " 4.983,\n",
       " 5.0216666666666665,\n",
       " 4.978666666666666,\n",
       " 4.994666666666666,\n",
       " 4.998666666666667,\n",
       " 5.009666666666667,\n",
       " 4.978666666666666,\n",
       " 4.975333333333333,\n",
       " 5.037,\n",
       " 4.9943333333333335,\n",
       " 5.021,\n",
       " 4.990666666666667,\n",
       " 4.982666666666667,\n",
       " 4.995666666666667,\n",
       " 5.045,\n",
       " 4.950333333333333,\n",
       " 4.9383333333333335,\n",
       " 4.98,\n",
       " 4.977333333333333,\n",
       " 5.003333333333333,\n",
       " 4.995666666666667,\n",
       " 4.995333333333333,\n",
       " 5.020333333333333,\n",
       " 5.022333333333333,\n",
       " 5.036,\n",
       " 5.022333333333333,\n",
       " 4.987333333333333,\n",
       " 5.036666666666667,\n",
       " 4.987666666666667,\n",
       " 5.038666666666667,\n",
       " 4.963333333333333,\n",
       " 5.031333333333333,\n",
       " 4.988666666666667,\n",
       " 5.011666666666667,\n",
       " 5.023,\n",
       " 5.007,\n",
       " 4.990333333333333,\n",
       " 5.037333333333334,\n",
       " 5.019,\n",
       " 5.030333333333333,\n",
       " 5.036333333333333,\n",
       " 4.974666666666667,\n",
       " 4.967666666666666,\n",
       " 5.0136666666666665,\n",
       " 5.007666666666666,\n",
       " 5.040666666666667,\n",
       " 5.076666666666667,\n",
       " 5.021333333333334,\n",
       " 5.033,\n",
       " 4.963666666666667,\n",
       " 5.012333333333333,\n",
       " 4.963333333333333,\n",
       " 4.980666666666667,\n",
       " 5.005333333333334,\n",
       " 4.999333333333333,\n",
       " 4.958666666666667,\n",
       " 4.970666666666666,\n",
       " 5.013333333333334,\n",
       " 5.016,\n",
       " 4.985666666666667,\n",
       " 4.976,\n",
       " 5.009333333333333,\n",
       " 5.003666666666667,\n",
       " 5.038,\n",
       " 4.952,\n",
       " 5.057666666666667,\n",
       " 5.018,\n",
       " 5.005333333333334,\n",
       " 4.984,\n",
       " 4.992666666666667,\n",
       " 4.995333333333333,\n",
       " 4.952333333333334,\n",
       " 4.961666666666667,\n",
       " 4.970666666666666,\n",
       " 4.967,\n",
       " 4.941666666666666,\n",
       " 4.999333333333333,\n",
       " 4.978,\n",
       " 5.017666666666667,\n",
       " 4.99,\n",
       " 5.032333333333334,\n",
       " 5.023,\n",
       " 5.038,\n",
       " 4.941666666666666,\n",
       " 5.038666666666667,\n",
       " 5.034666666666666,\n",
       " 4.993333333333333,\n",
       " 5.042666666666666,\n",
       " 5.038333333333333,\n",
       " 4.985,\n",
       " 5.0343333333333335,\n",
       " 5.0136666666666665,\n",
       " 5.003,\n",
       " 5.008,\n",
       " 5.001666666666667,\n",
       " 4.967,\n",
       " 4.976333333333334,\n",
       " 4.969333333333333,\n",
       " 4.998,\n",
       " 4.979,\n",
       " 4.959,\n",
       " 5.040333333333334,\n",
       " 4.9943333333333335,\n",
       " 5.044333333333333,\n",
       " 4.971,\n",
       " 5.039,\n",
       " 5.006666666666667,\n",
       " 5.034,\n",
       " 4.998666666666667,\n",
       " 4.968,\n",
       " 4.979666666666667,\n",
       " 4.993333333333333,\n",
       " 4.9783333333333335,\n",
       " 4.955666666666667,\n",
       " 5.034,\n",
       " 4.97,\n",
       " 5.024333333333334,\n",
       " 4.975333333333333,\n",
       " 4.965,\n",
       " 5.043333333333333,\n",
       " 4.945666666666667,\n",
       " 5.020333333333333,\n",
       " 5.000333333333334,\n",
       " 5.011666666666667,\n",
       " 4.941666666666666,\n",
       " 5.016666666666667,\n",
       " 5.018666666666666,\n",
       " 5.003666666666667,\n",
       " 5.011666666666667,\n",
       " 5.007666666666666,\n",
       " 4.987666666666667,\n",
       " 5.009666666666667,\n",
       " 5.018,\n",
       " 5.020333333333333,\n",
       " 5.035,\n",
       " 5.020666666666667,\n",
       " 4.979666666666667,\n",
       " 5.021333333333334,\n",
       " 4.971333333333333,\n",
       " 4.997,\n",
       " 5.020333333333333,\n",
       " 5.052666666666667,\n",
       " 4.962666666666666,\n",
       " 5.003,\n",
       " 4.985333333333333,\n",
       " 5.065666666666667,\n",
       " 5.012666666666667,\n",
       " 5.039666666666666,\n",
       " 4.979333333333333,\n",
       " 4.994,\n",
       " 4.991333333333333,\n",
       " 4.955666666666667,\n",
       " 5.016666666666667,\n",
       " 4.982666666666667,\n",
       " 5.002,\n",
       " 5.017666666666667,\n",
       " 5.0023333333333335,\n",
       " 5.004,\n",
       " 5.000666666666667,\n",
       " 4.995333333333333,\n",
       " 5.0056666666666665,\n",
       " 5.019666666666667,\n",
       " 5.0103333333333335,\n",
       " 4.9896666666666665,\n",
       " 4.959333333333333,\n",
       " 5.078333333333333,\n",
       " 4.996333333333333,\n",
       " 4.996666666666667,\n",
       " 4.968,\n",
       " 4.955,\n",
       " 4.993666666666667,\n",
       " 5.046333333333333,\n",
       " 5.006,\n",
       " 4.9863333333333335,\n",
       " 4.995,\n",
       " 5.003666666666667,\n",
       " 4.992,\n",
       " 5.043,\n",
       " 4.998,\n",
       " 5.025,\n",
       " 4.992,\n",
       " 4.977,\n",
       " 4.966,\n",
       " 4.968666666666667,\n",
       " 4.9656666666666665,\n",
       " 4.970666666666666,\n",
       " 4.976666666666667,\n",
       " 4.993666666666667,\n",
       " 5.004333333333333,\n",
       " 4.933666666666666,\n",
       " 4.999,\n",
       " 4.973,\n",
       " 5.003,\n",
       " 4.986,\n",
       " 4.990333333333333,\n",
       " 4.995666666666667,\n",
       " 4.975333333333333,\n",
       " 4.991,\n",
       " 4.990666666666667,\n",
       " 4.998,\n",
       " 5.0183333333333335,\n",
       " 5.013,\n",
       " 4.949666666666666,\n",
       " 4.976,\n",
       " 4.97,\n",
       " 5.003666666666667,\n",
       " 5.032666666666667,\n",
       " 4.981333333333334,\n",
       " 5.015333333333333,\n",
       " 5.0,\n",
       " 4.994,\n",
       " 4.977,\n",
       " 4.993,\n",
       " 5.0103333333333335,\n",
       " 5.03,\n",
       " 5.024,\n",
       " 4.9816666666666665,\n",
       " 5.004,\n",
       " 5.004666666666667,\n",
       " 4.984,\n",
       " 5.019333333333333,\n",
       " 4.982333333333333,\n",
       " 4.9526666666666666,\n",
       " 4.976333333333334,\n",
       " 4.966,\n",
       " 5.002,\n",
       " 4.994666666666666,\n",
       " 4.968333333333334,\n",
       " 4.991333333333333,\n",
       " 4.980666666666667,\n",
       " 4.941666666666666,\n",
       " 4.993666666666667,\n",
       " 4.983333333333333,\n",
       " 4.999333333333333,\n",
       " 4.958333333333333,\n",
       " 5.064333333333333,\n",
       " 5.009333333333333,\n",
       " 5.007,\n",
       " 5.015,\n",
       " 5.074666666666666,\n",
       " 4.966666666666667,\n",
       " 4.9366666666666665,\n",
       " 5.049,\n",
       " 4.992,\n",
       " 4.952,\n",
       " 5.038,\n",
       " 5.0056666666666665,\n",
       " 4.994666666666666,\n",
       " 4.998666666666667,\n",
       " 5.017666666666667,\n",
       " 4.97,\n",
       " 5.068,\n",
       " 4.98,\n",
       " 5.014,\n",
       " 4.977666666666667,\n",
       " 4.987333333333333,\n",
       " 5.011333333333333,\n",
       " 4.962,\n",
       " 5.0183333333333335,\n",
       " 4.989,\n",
       " 4.966333333333333,\n",
       " 5.011333333333333,\n",
       " 4.973333333333334,\n",
       " 5.0103333333333335,\n",
       " 4.993333333333333,\n",
       " 4.976333333333334,\n",
       " 4.946666666666666,\n",
       " 4.993333333333333,\n",
       " 5.015333333333333,\n",
       " 4.988666666666667,\n",
       " 4.988,\n",
       " 5.004,\n",
       " 5.034,\n",
       " 4.993666666666667,\n",
       " 4.995,\n",
       " 4.977333333333333,\n",
       " 5.027333333333333,\n",
       " 5.028666666666667,\n",
       " 4.993333333333333,\n",
       " 4.971,\n",
       " 5.024333333333334,\n",
       " 5.01,\n",
       " 5.016,\n",
       " 5.017,\n",
       " 5.0,\n",
       " 5.012333333333333,\n",
       " 5.045333333333334,\n",
       " 5.031666666666666,\n",
       " 5.022666666666667,\n",
       " 4.969,\n",
       " 5.019666666666667,\n",
       " 4.998,\n",
       " 5.012666666666667,\n",
       " 4.977666666666667,\n",
       " 5.014,\n",
       " 5.001,\n",
       " 4.972666666666667,\n",
       " 4.967666666666666,\n",
       " 4.984333333333334,\n",
       " 5.016333333333334,\n",
       " 5.001,\n",
       " 4.993333333333333,\n",
       " 4.925666666666666,\n",
       " 5.004666666666667,\n",
       " 4.982333333333333,\n",
       " 5.0,\n",
       " 4.975333333333333,\n",
       " 5.003333333333333,\n",
       " 5.001333333333333,\n",
       " 4.993,\n",
       " 5.006333333333333,\n",
       " 4.961333333333333,\n",
       " 5.032333333333334,\n",
       " 5.020666666666667,\n",
       " 4.939333333333333,\n",
       " 5.036666666666667,\n",
       " 5.024666666666667,\n",
       " 5.03,\n",
       " 4.974666666666667,\n",
       " 4.979333333333333,\n",
       " 4.998,\n",
       " 5.0103333333333335,\n",
       " 5.033666666666667,\n",
       " 4.958666666666667,\n",
       " 5.009,\n",
       " 5.019333333333333,\n",
       " 5.035,\n",
       " 5.042333333333334,\n",
       " 4.995,\n",
       " 4.976666666666667,\n",
       " 5.000333333333334,\n",
       " 4.982666666666667,\n",
       " 5.011333333333333,\n",
       " 4.9863333333333335,\n",
       " 4.994,\n",
       " 4.986666666666666,\n",
       " 5.038333333333333,\n",
       " 5.004,\n",
       " 4.988,\n",
       " 4.99,\n",
       " 5.032333333333334,\n",
       " 4.998,\n",
       " 4.953,\n",
       " 5.017333333333333,\n",
       " 5.008666666666667,\n",
       " 5.0263333333333335,\n",
       " 4.956666666666667,\n",
       " 5.0,\n",
       " 5.006666666666667,\n",
       " 5.002666666666666,\n",
       " 5.045,\n",
       " 5.025333333333333,\n",
       " 5.050666666666666,\n",
       " 5.0103333333333335,\n",
       " 5.039,\n",
       " 4.963666666666667,\n",
       " 4.934,\n",
       " 4.991333333333333,\n",
       " 4.998,\n",
       " 4.967666666666666,\n",
       " 5.034666666666666,\n",
       " 5.059,\n",
       " 4.993666666666667,\n",
       " 4.949666666666666,\n",
       " 5.008,\n",
       " 5.016333333333334,\n",
       " 4.973333333333334,\n",
       " 4.960666666666667,\n",
       " 4.960333333333334,\n",
       " 4.952,\n",
       " 5.017666666666667,\n",
       " 4.995666666666667,\n",
       " 4.985333333333333,\n",
       " 4.983,\n",
       " 4.987,\n",
       " 5.013,\n",
       " 4.96,\n",
       " 4.980333333333333,\n",
       " 5.006666666666667,\n",
       " 5.0456666666666665,\n",
       " 4.977666666666667,\n",
       " 5.011333333333333,\n",
       " 5.029,\n",
       " 4.978,\n",
       " 4.993666666666667,\n",
       " 5.0296666666666665,\n",
       " 5.016666666666667,\n",
       " 4.971,\n",
       " 5.005333333333334,\n",
       " 5.008333333333334,\n",
       " 4.969666666666667,\n",
       " 5.022666666666667,\n",
       " 4.958333333333333,\n",
       " 4.963,\n",
       " 4.984333333333334,\n",
       " 5.053333333333334,\n",
       " 4.955,\n",
       " 5.053333333333334,\n",
       " 5.026666666666666,\n",
       " 4.999,\n",
       " 5.028666666666667,\n",
       " 5.015,\n",
       " 4.987,\n",
       " 4.988,\n",
       " 4.950666666666667,\n",
       " 5.044333333333333,\n",
       " 4.982333333333333,\n",
       " 5.036666666666667,\n",
       " 5.022666666666667,\n",
       " 5.005,\n",
       " 4.968666666666667,\n",
       " 4.997333333333334,\n",
       " 4.971333333333333,\n",
       " 4.991,\n",
       " 5.0056666666666665,\n",
       " 5.036,\n",
       " 5.0296666666666665,\n",
       " 4.966,\n",
       " 5.018,\n",
       " 5.004333333333333,\n",
       " 4.9543333333333335,\n",
       " 5.011666666666667,\n",
       " 4.978,\n",
       " 5.0616666666666665,\n",
       " 4.998666666666667,\n",
       " 4.975666666666666,\n",
       " 5.029333333333334,\n",
       " 4.982,\n",
       " 4.979333333333333,\n",
       " 5.0473333333333334,\n",
       " 4.955,\n",
       " 4.984666666666667,\n",
       " 4.9736666666666665,\n",
       " 4.972666666666667,\n",
       " 4.957,\n",
       " 5.029333333333334,\n",
       " 4.9623333333333335,\n",
       " 4.985666666666667,\n",
       " 4.963666666666667,\n",
       " 4.999,\n",
       " 5.016333333333334,\n",
       " 4.947666666666667,\n",
       " 5.000666666666667,\n",
       " 5.050666666666666,\n",
       " 5.007333333333333,\n",
       " 5.035,\n",
       " 4.954,\n",
       " 4.969666666666667,\n",
       " 4.995,\n",
       " 4.958333333333333,\n",
       " 4.995666666666667,\n",
       " 4.999666666666666,\n",
       " 5.014,\n",
       " 4.965,\n",
       " 4.962,\n",
       " 4.9863333333333335,\n",
       " 4.963,\n",
       " 4.995333333333333,\n",
       " 4.949,\n",
       " 4.956333333333333,\n",
       " 5.002666666666666,\n",
       " 4.975666666666666,\n",
       " 4.998666666666667,\n",
       " 5.042666666666666,\n",
       " 4.968666666666667,\n",
       " 5.004333333333333,\n",
       " 5.014333333333333,\n",
       " 5.012,\n",
       " 4.977,\n",
       " 4.976333333333334,\n",
       " 4.993666666666667,\n",
       " 5.009333333333333,\n",
       " 4.948666666666667,\n",
       " 4.9896666666666665,\n",
       " 4.962,\n",
       " 4.980666666666667,\n",
       " 5.001666666666667,\n",
       " 5.005333333333334,\n",
       " 4.992666666666667,\n",
       " 4.972,\n",
       " 5.001666666666667,\n",
       " 4.967666666666666,\n",
       " 4.988,\n",
       " 4.991,\n",
       " 5.0103333333333335,\n",
       " 4.980333333333333,\n",
       " 5.005,\n",
       " 5.068666666666667,\n",
       " 4.987,\n",
       " 4.999666666666666,\n",
       " 5.006,\n",
       " 5.006333333333333,\n",
       " 4.968666666666667,\n",
       " 4.9863333333333335,\n",
       " 5.007666666666666,\n",
       " 5.005333333333334,\n",
       " 4.9816666666666665,\n",
       " 5.0263333333333335,\n",
       " 4.977333333333333,\n",
       " 4.9623333333333335,\n",
       " 4.9736666666666665,\n",
       " 5.053,\n",
       " 5.016666666666667,\n",
       " 4.981333333333334,\n",
       " 4.996333333333333,\n",
       " 5.0343333333333335,\n",
       " 4.938,\n",
       " 5.008333333333334,\n",
       " 5.008666666666667,\n",
       " 4.984666666666667,\n",
       " 4.985,\n",
       " 5.031333333333333,\n",
       " 4.979333333333333,\n",
       " 4.993666666666667,\n",
       " 5.019666666666667,\n",
       " 4.978666666666666,\n",
       " 5.028333333333333,\n",
       " 4.985333333333333,\n",
       " 5.023666666666666,\n",
       " 5.008,\n",
       " 4.963666666666667,\n",
       " 4.99,\n",
       " 5.051,\n",
       " 5.028666666666667,\n",
       " 5.046333333333333,\n",
       " 4.986666666666666,\n",
       " 5.042666666666666,\n",
       " 5.04,\n",
       " 4.971666666666667,\n",
       " 4.994666666666666,\n",
       " 4.9783333333333335,\n",
       " 4.976,\n",
       " 4.975333333333333,\n",
       " 5.043666666666667,\n",
       " 5.001,\n",
       " 5.012,\n",
       " 5.050666666666666,\n",
       " 4.9896666666666665,\n",
       " 4.973333333333334,\n",
       " 5.0263333333333335,\n",
       " 5.007,\n",
       " 5.025333333333333,\n",
       " 4.996,\n",
       " 4.958,\n",
       " 4.981,\n",
       " 5.042666666666666,\n",
       " 5.0263333333333335,\n",
       " 5.0343333333333335,\n",
       " 5.025333333333333,\n",
       " 5.002,\n",
       " 5.052,\n",
       " 5.022,\n",
       " 4.934666666666667,\n",
       " 5.032,\n",
       " 5.004333333333333,\n",
       " 4.979666666666667,\n",
       " 4.962,\n",
       " 4.997333333333334,\n",
       " 5.029,\n",
       " 5.002,\n",
       " 5.008333333333334,\n",
       " 5.009333333333333,\n",
       " 4.958333333333333,\n",
       " 5.069333333333334,\n",
       " 5.005333333333334,\n",
       " 5.003666666666667,\n",
       " 5.011333333333333,\n",
       " 5.003333333333333,\n",
       " 5.01,\n",
       " 5.006666666666667,\n",
       " 5.0216666666666665,\n",
       " 5.030666666666667,\n",
       " 5.011666666666667,\n",
       " 4.9783333333333335,\n",
       " 5.0023333333333335,\n",
       " 5.023333333333333,\n",
       " 5.0023333333333335,\n",
       " 4.969333333333333,\n",
       " 5.006333333333333,\n",
       " 5.004666666666667,\n",
       " 5.0136666666666665,\n",
       " 5.007333333333333,\n",
       " 4.981333333333334,\n",
       " 4.984,\n",
       " 4.995333333333333,\n",
       " 5.009333333333333,\n",
       " 4.984,\n",
       " 4.934,\n",
       " 4.996666666666667,\n",
       " 5.02,\n",
       " 4.993333333333333,\n",
       " 5.003666666666667,\n",
       " 4.9623333333333335,\n",
       " 5.023666666666666,\n",
       " 5.028666666666667,\n",
       " 5.028,\n",
       " 5.052666666666667,\n",
       " 5.009666666666667,\n",
       " 5.001666666666667,\n",
       " 4.97,\n",
       " 4.964,\n",
       " 5.0456666666666665,\n",
       " 5.006333333333333,\n",
       " 4.999333333333333,\n",
       " 4.995666666666667,\n",
       " 5.0183333333333335,\n",
       " 4.969666666666667,\n",
       " 4.962,\n",
       " 4.973333333333334,\n",
       " 5.019,\n",
       " 5.038666666666667,\n",
       " 5.0136666666666665,\n",
       " 5.043333333333333,\n",
       " 5.016333333333334,\n",
       " 5.030333333333333,\n",
       " 5.002666666666666,\n",
       " 5.007,\n",
       " 5.051333333333333,\n",
       " 5.051333333333333,\n",
       " 5.004,\n",
       " 4.972333333333333,\n",
       " 5.052666666666667,\n",
       " 5.016,\n",
       " 5.062666666666667,\n",
       " 4.998333333333333,\n",
       " 4.983,\n",
       " 5.019666666666667,\n",
       " 4.987333333333333,\n",
       " 5.0136666666666665,\n",
       " 4.9863333333333335,\n",
       " 5.003,\n",
       " 4.949,\n",
       " 4.986666666666666,\n",
       " 5.038666666666667,\n",
       " 4.9366666666666665,\n",
       " 4.980666666666667,\n",
       " 4.983,\n",
       " 5.009666666666667,\n",
       " 5.007,\n",
       " 5.011333333333333,\n",
       " 4.995,\n",
       " 5.030666666666667,\n",
       " 4.996333333333333,\n",
       " 4.977666666666667,\n",
       " 5.0296666666666665,\n",
       " 5.035333333333333,\n",
       " 4.995666666666667,\n",
       " 4.9446666666666665,\n",
       " 5.0136666666666665,\n",
       " 4.981333333333334,\n",
       " 5.025666666666667,\n",
       " 4.953666666666667,\n",
       " 5.009333333333333,\n",
       " 5.005,\n",
       " 5.026666666666666,\n",
       " 4.949,\n",
       " 5.013,\n",
       " 4.985333333333333,\n",
       " 5.024333333333334,\n",
       " 5.002666666666666,\n",
       " 4.934666666666667,\n",
       " 4.969,\n",
       " 5.050333333333334,\n",
       " 4.985,\n",
       " 4.9783333333333335,\n",
       " 5.008333333333334,\n",
       " 5.010666666666666,\n",
       " 4.9896666666666665,\n",
       " 5.007,\n",
       " 4.993,\n",
       " 5.006,\n",
       " 5.007,\n",
       " 5.025666666666667,\n",
       " 5.0103333333333335,\n",
       " 5.034666666666666,\n",
       " 4.994666666666666,\n",
       " 4.9736666666666665,\n",
       " 5.0183333333333335,\n",
       " 4.980333333333333,\n",
       " 4.997,\n",
       " 4.979666666666667,\n",
       " 5.0296666666666665,\n",
       " 4.996666666666667,\n",
       " 4.973333333333334,\n",
       " 4.995333333333333,\n",
       " 4.945,\n",
       " 4.999,\n",
       " 5.043333333333333,\n",
       " 5.015,\n",
       " 4.986666666666666,\n",
       " 5.026,\n",
       " 5.022666666666667,\n",
       " 5.064666666666667,\n",
       " 5.023,\n",
       " 4.989333333333334,\n",
       " 4.954,\n",
       " 5.022333333333333,\n",
       " 5.017666666666667,\n",
       " 5.016666666666667,\n",
       " 4.973,\n",
       " 4.979666666666667,\n",
       " 4.969,\n",
       " 4.972333333333333,\n",
       " 4.971,\n",
       " 5.038333333333333,\n",
       " 4.982333333333333,\n",
       " 5.007333333333333,\n",
       " 4.967666666666666,\n",
       " 5.0103333333333335,\n",
       " 4.983333333333333,\n",
       " 5.027666666666667,\n",
       " 4.9126666666666665,\n",
       " 4.990333333333333,\n",
       " 5.048666666666667,\n",
       " 5.039333333333333,\n",
       " 4.992,\n",
       " 5.019666666666667,\n",
       " 4.933666666666666,\n",
       " 5.012,\n",
       " 5.020666666666667,\n",
       " 5.000666666666667,\n",
       " 4.966333333333333,\n",
       " 5.012666666666667,\n",
       " 4.9896666666666665,\n",
       " 5.023,\n",
       " 4.9783333333333335,\n",
       " 4.954666666666666,\n",
       " 4.992333333333334,\n",
       " 4.940666666666667,\n",
       " 4.9816666666666665,\n",
       " 4.972666666666667,\n",
       " 5.043,\n",
       " 4.998333333333333,\n",
       " 5.011,\n",
       " 5.01,\n",
       " 5.0263333333333335,\n",
       " 5.054,\n",
       " 5.039333333333333,\n",
       " 4.998333333333333,\n",
       " 4.988,\n",
       " 5.004333333333333,\n",
       " 5.011666666666667,\n",
       " 4.972333333333333,\n",
       " 5.022,\n",
       " 4.938666666666666,\n",
       " 4.989333333333334,\n",
       " 5.01,\n",
       " 4.994666666666666,\n",
       " 4.984,\n",
       " 5.011666666666667,\n",
       " 5.009333333333333,\n",
       " 5.031666666666666,\n",
       " 4.951,\n",
       " 4.989,\n",
       " 5.070666666666667,\n",
       " 4.9656666666666665,\n",
       " 5.013333333333334,\n",
       " 4.958,\n",
       " 5.0343333333333335,\n",
       " 4.963666666666667,\n",
       " 5.033333333333333,\n",
       " 5.040333333333334,\n",
       " 5.0376666666666665,\n",
       " 5.011,\n",
       " 4.947,\n",
       " 5.004,\n",
       " 4.9543333333333335,\n",
       " 4.973,\n",
       " 4.991,\n",
       " 5.001,\n",
       " 5.007666666666666,\n",
       " 5.026,\n",
       " 5.047,\n",
       " 4.968,\n",
       " 5.005333333333334,\n",
       " 4.997333333333334,\n",
       " 4.985666666666667,\n",
       " 4.972666666666667]"
      ]
     },
     "execution_count": 38,
     "metadata": {},
     "output_type": "execute_result"
    }
   ],
   "source": [
    "mean_of_samples"
   ]
  },
  {
   "cell_type": "code",
   "execution_count": 40,
   "id": "53e92459",
   "metadata": {},
   "outputs": [
    {
     "name": "stderr",
     "output_type": "stream",
     "text": [
      "C:\\Users\\SqyUser\\anaconda3\\Lib\\site-packages\\seaborn\\_oldcore.py:1119: FutureWarning: use_inf_as_na option is deprecated and will be removed in a future version. Convert inf values to NaN before operating instead.\n",
      "  with pd.option_context('mode.use_inf_as_na', True):\n"
     ]
    },
    {
     "data": {
      "text/plain": [
       "<seaborn.axisgrid.FacetGrid at 0x136b6693e90>"
      ]
     },
     "execution_count": 40,
     "metadata": {},
     "output_type": "execute_result"
    },
    {
     "data": {
      "image/png": "[encoded data removed]",
      "text/plain": [
       "<Figure size 500x500 with 1 Axes>"
      ]
     },
     "metadata": {},
     "output_type": "display_data"
    }
   ],
   "source": [
    "sns.displot(mean_of_samples, kde = True, color = \"red\")"
   ]
  },
  {
   "cell_type": "code",
   "execution_count": 41,
   "id": "812aa349",
   "metadata": {},
   "outputs": [],
   "source": [
    "# ztest \n",
    "\n",
    "from numpy.random import randn\n",
    "population = randn(100)"
   ]
  },
  {
   "cell_type": "code",
   "execution_count": 42,
   "id": "1baff7d5",
   "metadata": {},
   "outputs": [
    {
     "data": {
      "text/plain": [
       "array([ 0.27764316,  1.91850693,  0.39355387,  0.39298389,  0.41504928,\n",
       "       -1.98717418, -0.0708211 , -1.19999841,  0.95916007, -0.82836303,\n",
       "        0.24170092,  1.29845495, -0.15435441, -0.06233533, -0.25947704,\n",
       "        0.38870785,  0.44604793,  1.39018466, -0.81477155, -1.20515918,\n",
       "       -1.11333426, -0.6116048 , -1.36203614, -1.39006242, -0.79659781,\n",
       "       -0.62888229,  0.69210626,  1.17743875, -1.97499015, -0.32357249,\n",
       "       -0.80784206,  1.25323097,  0.41299346, -1.3903799 , -0.08854559,\n",
       "        0.56642509,  0.55761842, -1.62115817,  1.32878466, -0.22195343,\n",
       "        1.27567673, -0.82231633, -1.21362875,  1.8116633 ,  0.46710562,\n",
       "       -1.21272204,  0.60635682, -1.20424982,  1.07762345,  0.63258646,\n",
       "       -2.68378217,  0.8149025 ,  0.65239933, -0.79932669, -0.24688236,\n",
       "       -0.87544086,  0.56999533, -0.2273493 , -0.62501841, -0.64664488,\n",
       "       -0.31514569, -0.58990584,  0.25888323,  0.89647854,  0.09697458,\n",
       "        0.805806  , -1.26723366, -1.28160124, -0.72644232,  0.24219804,\n",
       "       -1.16178872, -0.46459848, -0.80836999,  1.48786107,  0.03834744,\n",
       "       -1.048181  ,  0.82571687,  1.0735457 , -0.93612117,  1.1826429 ,\n",
       "       -0.74083271,  2.06570691, -0.78993022,  0.84892527, -0.27687659,\n",
       "        1.61260599, -0.69286856, -1.65385201, -0.37275253,  2.12732724,\n",
       "        0.90772169, -0.98501628,  2.13003241, -0.19680267,  0.54028835,\n",
       "        0.67698568, -0.15893782,  0.85902073,  0.30724944,  1.40371298])"
      ]
     },
     "execution_count": 42,
     "metadata": {},
     "output_type": "execute_result"
    }
   ],
   "source": [
    "population"
   ]
  },
  {
   "cell_type": "code",
   "execution_count": 43,
   "id": "e3d0ee33",
   "metadata": {},
   "outputs": [
    {
     "name": "stderr",
     "output_type": "stream",
     "text": [
      "C:\\Users\\SqyUser\\AppData\\Local\\Temp\\ipykernel_17836\\2958836585.py:1: UserWarning: \n",
      "\n",
      "`distplot` is a deprecated function and will be removed in seaborn v0.14.0.\n",
      "\n",
      "Please adapt your code to use either `displot` (a figure-level function with\n",
      "similar flexibility) or `histplot` (an axes-level function for histograms).\n",
      "\n",
      "For a guide to updating your code to use the new functions, please see\n",
      "https://gist.github.com/mwaskom/de44147ed2974457ad6372750bbe5751\n",
      "\n",
      "  sns.distplot(population)\n",
      "C:\\Users\\SqyUser\\anaconda3\\Lib\\site-packages\\seaborn\\_oldcore.py:1119: FutureWarning: use_inf_as_na option is deprecated and will be removed in a future version. Convert inf values to NaN before operating instead.\n",
      "  with pd.option_context('mode.use_inf_as_na', True):\n"
     ]
    },
    {
     "data": {
      "text/plain": [
       "<Axes: ylabel='Density'>"
      ]
     },
     "execution_count": 43,
     "metadata": {},
     "output_type": "execute_result"
    },
    {
     "data": {
      "image/png": "[encoded data removed]",
      "text/plain": [
       "<Figure size 640x480 with 1 Axes>"
      ]
     },
     "metadata": {},
     "output_type": "display_data"
    }
   ],
   "source": [
    "sns.distplot(population)"
   ]
  },
  {
   "cell_type": "code",
   "execution_count": 44,
   "id": "032c21b2",
   "metadata": {},
   "outputs": [
    {
     "data": {
      "text/plain": [
       "(-0.015311011488790138, 1.021547474676779)"
      ]
     },
     "execution_count": 44,
     "metadata": {},
     "output_type": "execute_result"
    }
   ],
   "source": [
    "np.mean(population), np.std(population)"
   ]
  },
  {
   "cell_type": "code",
   "execution_count": 48,
   "id": "6459a623",
   "metadata": {},
   "outputs": [
    {
     "name": "stdout",
     "output_type": "stream",
     "text": [
      "The alternative hypothesis suggests that the mean is equal to the null mean.\n"
     ]
    }
   ],
   "source": [
    "null_mean = 0.09\n",
    "alternative = 0.09  # If the alternative mean is equal to the null mean\n",
    "\n",
    "# Hypothesis testing:\n",
    "if alternative > null_mean:\n",
    "    print(\"The alternative hypothesis suggests that the mean is greater than the null mean.\")\n",
    "elif alternative < null_mean:\n",
    "    print(\"The alternative hypothesis suggests that the mean is less than the null mean.\")\n",
    "else:\n",
    "    print(\"The alternative hypothesis suggests that the mean is equal to the null mean.\")\n",
    "\n",
    "\n",
    "# pvalue <= 0.05 reject null hypothesis else if p value > 0.05 we fail to reject null Hypo."
   ]
  },
  {
   "cell_type": "code",
   "execution_count": 49,
   "id": "cab84335",
   "metadata": {},
   "outputs": [],
   "source": [
    "from statsmodels.stats.weightstats import ztest"
   ]
  },
  {
   "cell_type": "code",
   "execution_count": 52,
   "id": "640ca777",
   "metadata": {},
   "outputs": [],
   "source": [
    "zscore, pvalue = ztest(population, value = null_mean, alternative = 'larger') "
   ]
  },
  {
   "cell_type": "code",
   "execution_count": 54,
   "id": "acbb9c9b",
   "metadata": {},
   "outputs": [
    {
     "data": {
      "text/plain": [
       "-1.0257294547518787"
      ]
     },
     "execution_count": 54,
     "metadata": {},
     "output_type": "execute_result"
    }
   ],
   "source": [
    "zscore"
   ]
  },
  {
   "cell_type": "code",
   "execution_count": 53,
   "id": "e84a7ae7",
   "metadata": {},
   "outputs": [
    {
     "data": {
      "text/plain": [
       "0.8474904367716587"
      ]
     },
     "execution_count": 53,
     "metadata": {},
     "output_type": "execute_result"
    }
   ],
   "source": [
    "pvalue"
   ]
  },
  {
   "cell_type": "code",
   "execution_count": 55,
   "id": "0b0b394b",
   "metadata": {},
   "outputs": [
    {
     "name": "stdout",
     "output_type": "stream",
     "text": [
      "fail to reject null hypothesis\n"
     ]
    }
   ],
   "source": [
    "if pvalue <= 0.05: \n",
    "    print('reject the null hypothesis')\n",
    "else:\n",
    "    print('fail to reject null hypothesis')"
   ]
  },
  {
   "cell_type": "code",
   "execution_count": 56,
   "id": "8b2df0fb",
   "metadata": {},
   "outputs": [],
   "source": [
    "#  A school calculated IQ of 50 students and the avg turned out to be 100. the mean of population IQ is 90 and the std deviation is 16. state whether claim the state by school that IQ increases if students study more than avg students with 5% of signifacance level.  \n",
    "# null hypothesis : mean_iq = 90\n",
    "# alternate hypothesis : mean_iq > 90"
   ]
  },
  {
   "cell_type": "code",
   "execution_count": 58,
   "id": "29af5884",
   "metadata": {},
   "outputs": [],
   "source": [
    "import scipy.stats as stats\n",
    "\n",
    "sample_mean = 100 \n",
    "population_mean = 90\n",
    "population_std = 16 \n",
    "alpha = 0.05\n"
   ]
  },
  {
   "cell_type": "code",
   "execution_count": 60,
   "id": "e4270ad6",
   "metadata": {},
   "outputs": [
    {
     "name": "stdout",
     "output_type": "stream",
     "text": [
      "the z score is [4.41941738]\n"
     ]
    }
   ],
   "source": [
    "zscore = [sample_mean - population_mean]/(population_std/np.sqrt(50))\n",
    "print('the z score is', zscore)"
   ]
  },
  {
   "cell_type": "code",
   "execution_count": 61,
   "id": "728483a8",
   "metadata": {},
   "outputs": [],
   "source": [
    "# stats>> statistics module in scipy\n",
    "# norm >> normal distribution\n",
    "# ppf >> percent point function ( inverse of cumulative function(cdf))\n",
    "z_critical = stats.norm.ppf(1-alpha)"
   ]
  },
  {
   "cell_type": "code",
   "execution_count": 62,
   "id": "5c9d17c4",
   "metadata": {},
   "outputs": [
    {
     "data": {
      "text/plain": [
       "1.6448536269514722"
      ]
     },
     "execution_count": 62,
     "metadata": {},
     "output_type": "execute_result"
    }
   ],
   "source": [
    "z_critical"
   ]
  },
  {
   "cell_type": "code",
   "execution_count": 63,
   "id": "b94a1b1e",
   "metadata": {},
   "outputs": [
    {
     "name": "stdout",
     "output_type": "stream",
     "text": [
      "reject the null hypothesis\n"
     ]
    }
   ],
   "source": [
    "if zscore > z_critical :\n",
    "    print('reject the null hypothesis')\n",
    "else:\n",
    "    print('fail to reject null hypothesis')"
   ]
  },
  {
   "cell_type": "code",
   "execution_count": 64,
   "id": "c18d2cc2",
   "metadata": {},
   "outputs": [
    {
     "name": "stdout",
     "output_type": "stream",
     "text": [
      "reject the null hypothesis\n"
     ]
    }
   ],
   "source": [
    "p_value = 1-stats.norm.cdf(zscore)\n",
    "\n",
    "if p_value < alpha:\n",
    "    print('reject the null hypothesis')\n",
    "    \n",
    "else: \n",
    "    print('fail to reject the null hypothesis')"
   ]
  },
  {
   "cell_type": "code",
   "execution_count": 65,
   "id": "d4d1c11d",
   "metadata": {},
   "outputs": [
    {
     "data": {
      "text/plain": [
       "array([4.94836731e-06])"
      ]
     },
     "execution_count": 65,
     "metadata": {},
     "output_type": "execute_result"
    }
   ],
   "source": [
    "p_value"
   ]
  },
  {
   "cell_type": "code",
   "execution_count": null,
   "id": "6a6633b1",
   "metadata": {},
   "outputs": [],
   "source": [
    "# T-test, when sample size < 30 or sigma of popul. is not given. Type of t-test\n",
    "# one sample T-test\n",
    "# two sample T-test\n",
    "# paired T-test"
   ]
  },
  {
   "cell_type": "code",
   "execution_count": 67,
   "id": "ed0ff5ba",
   "metadata": {},
   "outputs": [
    {
     "data": {
      "text/plain": [
       "array([33, 44, 36, 13, 34, 15, 25, 27, 47, 20, 18, 29, 25, 28, 38, 18, 11,\n",
       "       23, 31, 27, 41, 31, 44, 42, 20, 31, 41, 23, 24, 40, 33, 43, 42, 18,\n",
       "       43, 49, 13, 10, 38, 24, 19, 32, 11, 33, 26, 28, 36, 47, 38, 33])"
      ]
     },
     "execution_count": 67,
     "metadata": {},
     "output_type": "execute_result"
    }
   ],
   "source": [
    "# One sample T-test\n",
    "population = np.random.randint(10,50,50)\n",
    "population"
   ]
  },
  {
   "cell_type": "code",
   "execution_count": 69,
   "id": "e0129f83",
   "metadata": {},
   "outputs": [
    {
     "data": {
      "text/plain": [
       "array([15, 26, 24, 43, 43, 18, 27, 31, 43, 38, 29, 13, 10, 33, 23, 36, 34,\n",
       "       38, 47, 11])"
      ]
     },
     "execution_count": 69,
     "metadata": {},
     "output_type": "execute_result"
    }
   ],
   "source": [
    "np.random.choice(population, 20)"
   ]
  },
  {
   "cell_type": "code",
   "execution_count": 70,
   "id": "f83dcebe",
   "metadata": {},
   "outputs": [
    {
     "data": {
      "text/plain": [
       "4.972666666666667"
      ]
     },
     "execution_count": 70,
     "metadata": {},
     "output_type": "execute_result"
    }
   ],
   "source": [
    "np.mean(sample)"
   ]
  },
  {
   "cell_type": "code",
   "execution_count": 71,
   "id": "1f7c2380",
   "metadata": {},
   "outputs": [
    {
     "data": {
      "text/plain": [
       "TtestResult(statistic=-694.2183151862596, pvalue=0.0, df=2999)"
      ]
     },
     "execution_count": 71,
     "metadata": {},
     "output_type": "execute_result"
    }
   ],
   "source": [
    "null_value = 25\n",
    "import scipy\n",
    "scipy.stats.ttest_1samp(sample, null_value)"
   ]
  },
  {
   "cell_type": "code",
   "execution_count": null,
   "id": "b8254078",
   "metadata": {},
   "outputs": [],
   "source": [
    "#if p_value > 0.05, fail to reject null hypothesis"
   ]
  },
  {
   "cell_type": "code",
   "execution_count": null,
   "id": "4d0baee3",
   "metadata": {},
   "outputs": [],
   "source": [
    "# two sample t test"
   ]
  },
  {
   "cell_type": "code",
   "execution_count": 72,
   "id": "d086cde4",
   "metadata": {},
   "outputs": [],
   "source": [
    "virat_kohli_score = np.random.choice(population,28)"
   ]
  },
  {
   "cell_type": "code",
   "execution_count": 73,
   "id": "054e4bdc",
   "metadata": {},
   "outputs": [
    {
     "data": {
      "text/plain": [
       "array([18, 38, 11, 20, 27, 34, 25, 44, 28, 29, 28, 23, 42, 32, 43, 33, 47,\n",
       "       13, 27, 23, 20, 25, 43, 41, 42, 11, 41, 27])"
      ]
     },
     "execution_count": 73,
     "metadata": {},
     "output_type": "execute_result"
    }
   ],
   "source": [
    "virat_kohli_score"
   ]
  },
  {
   "cell_type": "code",
   "execution_count": 75,
   "id": "9ead4147",
   "metadata": {},
   "outputs": [
    {
     "data": {
      "text/plain": [
       "30.964285714285715"
      ]
     },
     "execution_count": 75,
     "metadata": {},
     "output_type": "execute_result"
    }
   ],
   "source": [
    "rohit_sharma_score = ([18, 66, 11, 20, 27, 34, 25, 44, 28, 29, 28, 23, 42, 32, 43, 33, 47,\n",
    "       13, 27, 23, 20, 25, 43, 41, 42, 11, 45, 27])\n",
    "np.mean(rohit_sharma_score)"
   ]
  },
  {
   "cell_type": "code",
   "execution_count": 78,
   "id": "92755ad9",
   "metadata": {},
   "outputs": [
    {
     "data": {
      "text/plain": [
       "(30.964285714285715, 29.821428571428573)"
      ]
     },
     "execution_count": 78,
     "metadata": {},
     "output_type": "execute_result"
    }
   ],
   "source": [
    "np.mean(rohit_sharma_score), np.mean(virat_kohli_score)"
   ]
  },
  {
   "cell_type": "code",
   "execution_count": 82,
   "id": "efe1d537",
   "metadata": {},
   "outputs": [
    {
     "data": {
      "text/plain": [
       "TtestResult(statistic=-0.36831113948589506, pvalue=0.7140811951570022, df=54.0)"
      ]
     },
     "execution_count": 82,
     "metadata": {},
     "output_type": "execute_result"
    }
   ],
   "source": [
    "scipy.stats.ttest_ind(virat_kohli_score, rohit_sharma_score)"
   ]
  },
  {
   "cell_type": "code",
   "execution_count": 85,
   "id": "15e0c50b",
   "metadata": {},
   "outputs": [],
   "source": [
    "# Paired test >> \n",
    "rohit_score_first_inning = [18, 66, 11, 20, 27, 34, 25, 44, 28, 29, 28, 23, 42, 32, 43]\n",
    "rohit_score_second_inning   = [33, 47,\n",
    "       13, 27, 23, 20, 25, 43, 41, 42, 11, 45, 27]"
   ]
  },
  {
   "cell_type": "code",
   "execution_count": 86,
   "id": "3eabf768",
   "metadata": {},
   "outputs": [
    {
     "data": {
      "text/plain": [
       "(31.333333333333332, 30.53846153846154)"
      ]
     },
     "execution_count": 86,
     "metadata": {},
     "output_type": "execute_result"
    }
   ],
   "source": [
    "np.mean(rohit_score_first_inning), np.mean(rohit_score_second_inning)"
   ]
  },
  {
   "cell_type": "code",
   "execution_count": 91,
   "id": "9e00440b",
   "metadata": {},
   "outputs": [
    {
     "data": {
      "text/html": [
       "<div>\n",
       "<style scoped>\n",
       "    .dataframe tbody tr th:only-of-type {\n",
       "        vertical-align: middle;\n",
       "    }\n",
       "\n",
       "    .dataframe tbody tr th {\n",
       "        vertical-align: top;\n",
       "    }\n",
       "\n",
       "    .dataframe thead th {\n",
       "        text-align: right;\n",
       "    }\n",
       "</style>\n",
       "<table border=\"1\" class=\"dataframe\">\n",
       "  <thead>\n",
       "    <tr style=\"text-align: right;\">\n",
       "      <th></th>\n",
       "      <th>total_bill</th>\n",
       "      <th>tip</th>\n",
       "      <th>sex</th>\n",
       "      <th>smoker</th>\n",
       "      <th>day</th>\n",
       "      <th>time</th>\n",
       "      <th>size</th>\n",
       "    </tr>\n",
       "  </thead>\n",
       "  <tbody>\n",
       "    <tr>\n",
       "      <th>0</th>\n",
       "      <td>16.99</td>\n",
       "      <td>1.01</td>\n",
       "      <td>Female</td>\n",
       "      <td>No</td>\n",
       "      <td>Sun</td>\n",
       "      <td>Dinner</td>\n",
       "      <td>2</td>\n",
       "    </tr>\n",
       "    <tr>\n",
       "      <th>1</th>\n",
       "      <td>10.34</td>\n",
       "      <td>1.66</td>\n",
       "      <td>Male</td>\n",
       "      <td>No</td>\n",
       "      <td>Sun</td>\n",
       "      <td>Dinner</td>\n",
       "      <td>3</td>\n",
       "    </tr>\n",
       "    <tr>\n",
       "      <th>2</th>\n",
       "      <td>21.01</td>\n",
       "      <td>3.50</td>\n",
       "      <td>Male</td>\n",
       "      <td>No</td>\n",
       "      <td>Sun</td>\n",
       "      <td>Dinner</td>\n",
       "      <td>3</td>\n",
       "    </tr>\n",
       "    <tr>\n",
       "      <th>3</th>\n",
       "      <td>23.68</td>\n",
       "      <td>3.31</td>\n",
       "      <td>Male</td>\n",
       "      <td>No</td>\n",
       "      <td>Sun</td>\n",
       "      <td>Dinner</td>\n",
       "      <td>2</td>\n",
       "    </tr>\n",
       "    <tr>\n",
       "      <th>4</th>\n",
       "      <td>24.59</td>\n",
       "      <td>3.61</td>\n",
       "      <td>Female</td>\n",
       "      <td>No</td>\n",
       "      <td>Sun</td>\n",
       "      <td>Dinner</td>\n",
       "      <td>4</td>\n",
       "    </tr>\n",
       "    <tr>\n",
       "      <th>...</th>\n",
       "      <td>...</td>\n",
       "      <td>...</td>\n",
       "      <td>...</td>\n",
       "      <td>...</td>\n",
       "      <td>...</td>\n",
       "      <td>...</td>\n",
       "      <td>...</td>\n",
       "    </tr>\n",
       "    <tr>\n",
       "      <th>239</th>\n",
       "      <td>29.03</td>\n",
       "      <td>5.92</td>\n",
       "      <td>Male</td>\n",
       "      <td>No</td>\n",
       "      <td>Sat</td>\n",
       "      <td>Dinner</td>\n",
       "      <td>3</td>\n",
       "    </tr>\n",
       "    <tr>\n",
       "      <th>240</th>\n",
       "      <td>27.18</td>\n",
       "      <td>2.00</td>\n",
       "      <td>Female</td>\n",
       "      <td>Yes</td>\n",
       "      <td>Sat</td>\n",
       "      <td>Dinner</td>\n",
       "      <td>2</td>\n",
       "    </tr>\n",
       "    <tr>\n",
       "      <th>241</th>\n",
       "      <td>22.67</td>\n",
       "      <td>2.00</td>\n",
       "      <td>Male</td>\n",
       "      <td>Yes</td>\n",
       "      <td>Sat</td>\n",
       "      <td>Dinner</td>\n",
       "      <td>2</td>\n",
       "    </tr>\n",
       "    <tr>\n",
       "      <th>242</th>\n",
       "      <td>17.82</td>\n",
       "      <td>1.75</td>\n",
       "      <td>Male</td>\n",
       "      <td>No</td>\n",
       "      <td>Sat</td>\n",
       "      <td>Dinner</td>\n",
       "      <td>2</td>\n",
       "    </tr>\n",
       "    <tr>\n",
       "      <th>243</th>\n",
       "      <td>18.78</td>\n",
       "      <td>3.00</td>\n",
       "      <td>Female</td>\n",
       "      <td>No</td>\n",
       "      <td>Thur</td>\n",
       "      <td>Dinner</td>\n",
       "      <td>2</td>\n",
       "    </tr>\n",
       "  </tbody>\n",
       "</table>\n",
       "<p>244 rows × 7 columns</p>\n",
       "</div>"
      ],
      "text/plain": [
       "     total_bill   tip     sex smoker   day    time  size\n",
       "0         16.99  1.01  Female     No   Sun  Dinner     2\n",
       "1         10.34  1.66    Male     No   Sun  Dinner     3\n",
       "2         21.01  3.50    Male     No   Sun  Dinner     3\n",
       "3         23.68  3.31    Male     No   Sun  Dinner     2\n",
       "4         24.59  3.61  Female     No   Sun  Dinner     4\n",
       "..          ...   ...     ...    ...   ...     ...   ...\n",
       "239       29.03  5.92    Male     No   Sat  Dinner     3\n",
       "240       27.18  2.00  Female    Yes   Sat  Dinner     2\n",
       "241       22.67  2.00    Male    Yes   Sat  Dinner     2\n",
       "242       17.82  1.75    Male     No   Sat  Dinner     2\n",
       "243       18.78  3.00  Female     No  Thur  Dinner     2\n",
       "\n",
       "[244 rows x 7 columns]"
      ]
     },
     "execution_count": 91,
     "metadata": {},
     "output_type": "execute_result"
    }
   ],
   "source": [
    "# Chisquare test \n",
    "data = sns.load_dataset('tips')\n",
    "data\n"
   ]
  },
  {
   "cell_type": "code",
   "execution_count": 92,
   "id": "fe99ae82",
   "metadata": {},
   "outputs": [],
   "source": [
    "data_table = pd.crosstab(data['sex'], data['smoker'])"
   ]
  },
  {
   "cell_type": "code",
   "execution_count": 93,
   "id": "94a32bde",
   "metadata": {},
   "outputs": [
    {
     "data": {
      "text/html": [
       "<div>\n",
       "<style scoped>\n",
       "    .dataframe tbody tr th:only-of-type {\n",
       "        vertical-align: middle;\n",
       "    }\n",
       "\n",
       "    .dataframe tbody tr th {\n",
       "        vertical-align: top;\n",
       "    }\n",
       "\n",
       "    .dataframe thead th {\n",
       "        text-align: right;\n",
       "    }\n",
       "</style>\n",
       "<table border=\"1\" class=\"dataframe\">\n",
       "  <thead>\n",
       "    <tr style=\"text-align: right;\">\n",
       "      <th>smoker</th>\n",
       "      <th>Yes</th>\n",
       "      <th>No</th>\n",
       "    </tr>\n",
       "    <tr>\n",
       "      <th>sex</th>\n",
       "      <th></th>\n",
       "      <th></th>\n",
       "    </tr>\n",
       "  </thead>\n",
       "  <tbody>\n",
       "    <tr>\n",
       "      <th>Male</th>\n",
       "      <td>60</td>\n",
       "      <td>97</td>\n",
       "    </tr>\n",
       "    <tr>\n",
       "      <th>Female</th>\n",
       "      <td>33</td>\n",
       "      <td>54</td>\n",
       "    </tr>\n",
       "  </tbody>\n",
       "</table>\n",
       "</div>"
      ],
      "text/plain": [
       "smoker  Yes  No\n",
       "sex            \n",
       "Male     60  97\n",
       "Female   33  54"
      ]
     },
     "execution_count": 93,
     "metadata": {},
     "output_type": "execute_result"
    }
   ],
   "source": [
    "data_table"
   ]
  },
  {
   "cell_type": "code",
   "execution_count": 94,
   "id": "71bf1682",
   "metadata": {},
   "outputs": [],
   "source": [
    "observed_values = data_table.values"
   ]
  },
  {
   "cell_type": "code",
   "execution_count": 95,
   "id": "756c6e47",
   "metadata": {},
   "outputs": [
    {
     "data": {
      "text/plain": [
       "array([[60, 97],\n",
       "       [33, 54]], dtype=int64)"
      ]
     },
     "execution_count": 95,
     "metadata": {},
     "output_type": "execute_result"
    }
   ],
   "source": [
    "observed_values"
   ]
  },
  {
   "cell_type": "code",
   "execution_count": null,
   "id": "d441b497",
   "metadata": {},
   "outputs": [],
   "source": []
  },
  {
   "cell_type": "code",
   "execution_count": 97,
   "id": "d0ed5281",
   "metadata": {},
   "outputs": [],
   "source": [
    "import scipy.stats as stats\n",
    "\n",
    "stats.test, p, dof, expected_values = stats.chi2_contingency(observed_values)"
   ]
  },
  {
   "cell_type": "code",
   "execution_count": null,
   "id": "885490a2",
   "metadata": {},
   "outputs": [],
   "source": [
    "# chisquare test >> observed values & expected values"
   ]
  },
  {
   "cell_type": "code",
   "execution_count": 98,
   "id": "ffc362ce",
   "metadata": {},
   "outputs": [
    {
     "data": {
      "text/plain": [
       "array([[59.84016393, 97.15983607],\n",
       "       [33.15983607, 53.84016393]])"
      ]
     },
     "execution_count": 98,
     "metadata": {},
     "output_type": "execute_result"
    }
   ],
   "source": [
    "expected_values"
   ]
  },
  {
   "cell_type": "code",
   "execution_count": 99,
   "id": "84c43884",
   "metadata": {},
   "outputs": [
    {
     "data": {
      "text/plain": [
       "array([[60, 97],\n",
       "       [33, 54]], dtype=int64)"
      ]
     },
     "execution_count": 99,
     "metadata": {},
     "output_type": "execute_result"
    }
   ],
   "source": [
    "observed_values"
   ]
  },
  {
   "cell_type": "code",
   "execution_count": null,
   "id": "8efb0744",
   "metadata": {},
   "outputs": [],
   "source": [
    "#dof =  (no of rows - 1) * (no of columns - 1)\n",
    "dof = 1"
   ]
  },
  {
   "cell_type": "code",
   "execution_count": 100,
   "id": "97814736",
   "metadata": {},
   "outputs": [],
   "source": [
    "from scipy.stats import chi2"
   ]
  },
  {
   "cell_type": "code",
   "execution_count": 101,
   "id": "aae83d10",
   "metadata": {},
   "outputs": [
    {
     "name": "stdout",
     "output_type": "stream",
     "text": [
      "(array([60, 97], dtype=int64), array([59.84016393, 97.15983607]))\n",
      "(array([33, 54], dtype=int64), array([33.15983607, 53.84016393]))\n"
     ]
    }
   ],
   "source": [
    "for i in zip(observed_values, expected_values):\n",
    "    print(i)"
   ]
  },
  {
   "cell_type": "code",
   "execution_count": 105,
   "id": "3a3c5cde",
   "metadata": {},
   "outputs": [],
   "source": [
    "chisquare_test = sum([(o-e)**2/e  for o, e in zip(observed_values, expected_values)])"
   ]
  },
  {
   "cell_type": "code",
   "execution_count": 106,
   "id": "14fa66e5",
   "metadata": {},
   "outputs": [
    {
     "data": {
      "text/plain": [
       "array([0.00119737, 0.00073745])"
      ]
     },
     "execution_count": 106,
     "metadata": {},
     "output_type": "execute_result"
    }
   ],
   "source": [
    "chisquare_test"
   ]
  },
  {
   "cell_type": "code",
   "execution_count": 108,
   "id": "fe3c6e96",
   "metadata": {},
   "outputs": [
    {
     "data": {
      "text/plain": [
       "0.001934818536627623"
      ]
     },
     "execution_count": 108,
     "metadata": {},
     "output_type": "execute_result"
    }
   ],
   "source": [
    "chisquare_stats = chisquare_test[0] + chisquare_test[1]\n",
    "chisquare_stats"
   ]
  },
  {
   "cell_type": "code",
   "execution_count": 109,
   "id": "6afb0ce8",
   "metadata": {},
   "outputs": [
    {
     "data": {
      "text/plain": [
       "1"
      ]
     },
     "execution_count": 109,
     "metadata": {},
     "output_type": "execute_result"
    }
   ],
   "source": [
    "dof"
   ]
  },
  {
   "cell_type": "code",
   "execution_count": 110,
   "id": "1c5e5030",
   "metadata": {},
   "outputs": [
    {
     "data": {
      "text/plain": [
       "0.05"
      ]
     },
     "execution_count": 110,
     "metadata": {},
     "output_type": "execute_result"
    }
   ],
   "source": [
    "alpha"
   ]
  },
  {
   "cell_type": "code",
   "execution_count": 113,
   "id": "7e9d90b5",
   "metadata": {},
   "outputs": [],
   "source": [
    "chi2_critical = chi2.ppf(1-alpha, df = dof)"
   ]
  },
  {
   "cell_type": "code",
   "execution_count": 114,
   "id": "e171903e",
   "metadata": {},
   "outputs": [
    {
     "data": {
      "text/plain": [
       "3.841458820694124"
      ]
     },
     "execution_count": 114,
     "metadata": {},
     "output_type": "execute_result"
    }
   ],
   "source": [
    "chi2_critical"
   ]
  },
  {
   "cell_type": "code",
   "execution_count": 117,
   "id": "e2279e5d",
   "metadata": {},
   "outputs": [
    {
     "name": "stdout",
     "output_type": "stream",
     "text": [
      "fail to reject the null hypothesis, no relationship\n"
     ]
    }
   ],
   "source": [
    "if chisquare_stats >= chi2_critical:\n",
    "    print('reject the nulll hypothesis, there is a relationship btw two categorical variable')\n",
    "else:\n",
    "    print ('fail to reject the null hypothesis, no relationship')"
   ]
  },
  {
   "cell_type": "markdown",
   "id": "665bd381",
   "metadata": {},
   "source": [
    "# p_value Method"
   ]
  },
  {
   "cell_type": "code",
   "execution_count": 120,
   "id": "af6985fd",
   "metadata": {},
   "outputs": [
    {
     "name": "stdout",
     "output_type": "stream",
     "text": [
      "reject the null hypothesis\n"
     ]
    }
   ],
   "source": [
    "1-chi2.cdf(x = chisquare_stats, df = dof)\n",
    "\n",
    "if p_value <= alpha:\n",
    "    print('reject the null hypothesis')\n",
    "else:\n",
    "    print('fail to reject the nulll hypothesis')"
   ]
  },
  {
   "cell_type": "code",
   "execution_count": null,
   "id": "2a413931",
   "metadata": {},
   "outputs": [],
   "source": []
  },
  {
   "cell_type": "code",
   "execution_count": null,
   "id": "de150b8b",
   "metadata": {},
   "outputs": [],
   "source": []
  },
  {
   "cell_type": "code",
   "execution_count": null,
   "id": "d516b7ba",
   "metadata": {},
   "outputs": [],
   "source": []
  },
  {
   "cell_type": "code",
   "execution_count": null,
   "id": "1b29871e",
   "metadata": {},
   "outputs": [],
   "source": []
  },
  {
   "cell_type": "code",
   "execution_count": null,
   "id": "418561cc",
   "metadata": {},
   "outputs": [],
   "source": []
  },
  {
   "cell_type": "code",
   "execution_count": null,
   "id": "0a7b825a",
   "metadata": {},
   "outputs": [],
   "source": []
  },
  {
   "cell_type": "code",
   "execution_count": null,
   "id": "74a972dc",
   "metadata": {},
   "outputs": [],
   "source": []
  },
  {
   "cell_type": "code",
   "execution_count": null,
   "id": "869dc8bd",
   "metadata": {},
   "outputs": [],
   "source": []
  },
  {
   "cell_type": "code",
   "execution_count": null,
   "id": "274e4546",
   "metadata": {},
   "outputs": [],
   "source": []
  },
  {
   "cell_type": "code",
   "execution_count": null,
   "id": "f8fadf41",
   "metadata": {},
   "outputs": [],
   "source": []
  },
  {
   "cell_type": "code",
   "execution_count": null,
   "id": "fef24b6b",
   "metadata": {},
   "outputs": [],
   "source": []
  },
  {
   "cell_type": "code",
   "execution_count": null,
   "id": "4aedafe1",
   "metadata": {},
   "outputs": [],
   "source": []
  },
  {
   "cell_type": "code",
   "execution_count": null,
   "id": "986a511c",
   "metadata": {},
   "outputs": [],
   "source": []
  },
  {
   "cell_type": "code",
   "execution_count": null,
   "id": "5619db2f",
   "metadata": {},
   "outputs": [],
   "source": []
  },
  {
   "cell_type": "code",
   "execution_count": null,
   "id": "ba1633a9",
   "metadata": {},
   "outputs": [],
   "source": []
  },
  {
   "cell_type": "code",
   "execution_count": null,
   "id": "c8d60db6",
   "metadata": {},
   "outputs": [],
   "source": []
  },
  {
   "cell_type": "code",
   "execution_count": null,
   "id": "e41912b0",
   "metadata": {},
   "outputs": [],
   "source": []
  },
  {
   "cell_type": "code",
   "execution_count": null,
   "id": "c59986ee",
   "metadata": {},
   "outputs": [],
   "source": []
  },
  {
   "cell_type": "code",
   "execution_count": null,
   "id": "283513a4",
   "metadata": {},
   "outputs": [],
   "source": []
  },
  {
   "cell_type": "code",
   "execution_count": null,
   "id": "f2bd8253",
   "metadata": {},
   "outputs": [],
   "source": []
  },
  {
   "cell_type": "code",
   "execution_count": null,
   "id": "d01084ba",
   "metadata": {},
   "outputs": [],
   "source": []
  },
  {
   "cell_type": "code",
   "execution_count": null,
   "id": "b9b0853d",
   "metadata": {},
   "outputs": [],
   "source": []
  },
  {
   "cell_type": "code",
   "execution_count": null,
   "id": "9b44acaf",
   "metadata": {},
   "outputs": [],
   "source": []
  },
  {
   "cell_type": "code",
   "execution_count": null,
   "id": "4996ef6b",
   "metadata": {},
   "outputs": [],
   "source": []
  },
  {
   "cell_type": "code",
   "execution_count": null,
   "id": "1a6efc8d",
   "metadata": {},
   "outputs": [],
   "source": []
  },
  {
   "cell_type": "code",
   "execution_count": null,
   "id": "3021f64d",
   "metadata": {},
   "outputs": [],
   "source": []
  }
 ],
 "metadata": {
  "kernelspec": {
   "display_name": "Python 3 (ipykernel)",
   "language": "python",
   "name": "python3"
  },
  "language_info": {
   "codemirror_mode": {
    "name": "ipython",
    "version": 3
   },
   "file_extension": ".py",
   "mimetype": "text/x-python",
   "name": "python",
   "nbconvert_exporter": "python",
   "pygments_lexer": "ipython3",
   "version": "3.11.7"
  }
 },
 "nbformat": 4,
 "nbformat_minor": 5
}
